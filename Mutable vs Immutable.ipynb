{
 "cells": [
  {
   "cell_type": "markdown",
   "id": "d240914c",
   "metadata": {},
   "source": [
    "## Mutable vs Immutable"
   ]
  },
  {
   "cell_type": "markdown",
   "id": "b7619cda",
   "metadata": {},
   "source": [
    "- mutable= can mutate/change\n",
    "- Note: reassigning variable is different thing"
   ]
  },
  {
   "cell_type": "markdown",
   "id": "9e70faa1",
   "metadata": {},
   "source": [
    "### Strings are immutable,can't be changed"
   ]
  },
  {
   "cell_type": "code",
   "execution_count": 1,
   "id": "53fb44e3",
   "metadata": {},
   "outputs": [],
   "source": [
    "s='sahil'"
   ]
  },
  {
   "cell_type": "code",
   "execution_count": 5,
   "id": "1c94ccf4",
   "metadata": {},
   "outputs": [],
   "source": [
    "#s[0]='H'  #can't be done because strings are immutable"
   ]
  },
  {
   "cell_type": "markdown",
   "id": "e284a8cb",
   "metadata": {},
   "source": [
    "### Lists are mutable"
   ]
  },
  {
   "cell_type": "code",
   "execution_count": 7,
   "id": "9cf2c833",
   "metadata": {},
   "outputs": [
    {
     "data": {
      "text/plain": [
       "[3, 2, 3]"
      ]
     },
     "execution_count": 7,
     "metadata": {},
     "output_type": "execute_result"
    }
   ],
   "source": [
    "s=[1,2,3]\n",
    "s[0]=3\n",
    "s"
   ]
  },
  {
   "cell_type": "markdown",
   "id": "755458c7",
   "metadata": {},
   "source": [
    "### Immmutable datatypes:\n",
    "- tupple\n",
    "- string\n",
    "- float\n",
    "- int"
   ]
  }
 ],
 "metadata": {
  "kernelspec": {
   "display_name": "Python 3",
   "language": "python",
   "name": "python3"
  },
  "language_info": {
   "codemirror_mode": {
    "name": "ipython",
    "version": 3
   },
   "file_extension": ".py",
   "mimetype": "text/x-python",
   "name": "python",
   "nbconvert_exporter": "python",
   "pygments_lexer": "ipython3",
   "version": "3.8.8"
  }
 },
 "nbformat": 4,
 "nbformat_minor": 5
}
