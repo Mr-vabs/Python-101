{
 "cells": [
  {
   "cell_type": "markdown",
   "id": "1b5ee07b",
   "metadata": {},
   "source": [
    "### Module vs Package vs Library"
   ]
  },
  {
   "cell_type": "markdown",
   "id": "b4c05e73",
   "metadata": {},
   "source": [
    "- Single File(.py) containing variables and functions = Module\n",
    "- Colllection of Modules = Package\n",
    "- Collection of Packages = Library\n",
    "- Collection of Libraries = Framework"
   ]
  },
  {
   "cell_type": "markdown",
   "id": "6c21ede6",
   "metadata": {},
   "source": [
    "### Checking version of Modules"
   ]
  },
  {
   "cell_type": "markdown",
   "id": "f0bcd04e",
   "metadata": {},
   "source": [
    "- ```Use modulename.__version__```"
   ]
  },
  {
   "cell_type": "code",
   "execution_count": 2,
   "id": "e07f46e2",
   "metadata": {},
   "outputs": [
    {
     "data": {
      "text/plain": [
       "'1.2.4'"
      ]
     },
     "execution_count": 2,
     "metadata": {},
     "output_type": "execute_result"
    }
   ],
   "source": [
    "import pandas\n",
    "pandas.__version__"
   ]
  }
 ],
 "metadata": {
  "kernelspec": {
   "display_name": "Python 3",
   "language": "python",
   "name": "python3"
  },
  "language_info": {
   "codemirror_mode": {
    "name": "ipython",
    "version": 3
   },
   "file_extension": ".py",
   "mimetype": "text/x-python",
   "name": "python",
   "nbconvert_exporter": "python",
   "pygments_lexer": "ipython3",
   "version": "3.8.8"
  }
 },
 "nbformat": 4,
 "nbformat_minor": 5
}
