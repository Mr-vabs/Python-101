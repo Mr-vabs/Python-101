{
 "cells": [
  {
   "cell_type": "markdown",
   "id": "33733e0b",
   "metadata": {},
   "source": [
    "## Random Module"
   ]
  },
  {
   "cell_type": "code",
   "execution_count": 1,
   "id": "8bc1cacc",
   "metadata": {},
   "outputs": [],
   "source": [
    "import random"
   ]
  },
  {
   "cell_type": "markdown",
   "id": "916bbd0e",
   "metadata": {},
   "source": [
    "### To check the available methods in this module"
   ]
  },
  {
   "cell_type": "code",
   "execution_count": 2,
   "id": "06330f27",
   "metadata": {},
   "outputs": [
    {
     "name": "stdout",
     "output_type": "stream",
     "text": [
      "['BPF', 'LOG4', 'NV_MAGICCONST', 'RECIP_BPF', 'Random', 'SG_MAGICCONST', 'SystemRandom', 'TWOPI', '_Sequence', '_Set', '__all__', '__builtins__', '__cached__', '__doc__', '__file__', '__loader__', '__name__', '__package__', '__spec__', '_accumulate', '_acos', '_bisect', '_ceil', '_cos', '_e', '_exp', '_inst', '_log', '_os', '_pi', '_random', '_repeat', '_sha512', '_sin', '_sqrt', '_test', '_test_generator', '_urandom', '_warn', 'betavariate', 'choice', 'choices', 'expovariate', 'gammavariate', 'gauss', 'getrandbits', 'getstate', 'lognormvariate', 'normalvariate', 'paretovariate', 'randint', 'random', 'randrange', 'sample', 'seed', 'setstate', 'shuffle', 'triangular', 'uniform', 'vonmisesvariate', 'weibullvariate']\n"
     ]
    }
   ],
   "source": [
    "print(dir(random))"
   ]
  },
  {
   "cell_type": "code",
   "execution_count": 3,
   "id": "0699697e",
   "metadata": {},
   "outputs": [
    {
     "name": "stdout",
     "output_type": "stream",
     "text": [
      "0.9464224355241709\n"
     ]
    }
   ],
   "source": [
    "print(random.random())"
   ]
  },
  {
   "cell_type": "markdown",
   "id": "0918bb21",
   "metadata": {},
   "source": [
    "- By default,it gives random number between 0 and 1It gives numbers between 0 and 1\n",
    "    - 0 is inclusive\n",
    "    - 1 is exclusive"
   ]
  },
  {
   "cell_type": "markdown",
   "id": "709ca837",
   "metadata": {},
   "source": [
    "#### Summary"
   ]
  },
  {
   "cell_type": "markdown",
   "id": "79e4d590",
   "metadata": {},
   "source": [
    "- Get random number(float) between 0 and 1 (1 being exclusive) - ```random.random()```\n",
    "- Get random number(float) between custom range - ```random.uniform(min,max)```\n",
    "- Get random integer between a range - ```random.randint(min,max)```\n",
    "```random.choice(list)```"
   ]
  },
  {
   "cell_type": "code",
   "execution_count": 7,
   "id": "96f557f9",
   "metadata": {},
   "outputs": [
    {
     "name": "stdout",
     "output_type": "stream",
     "text": [
      "0.28711948467535353\n",
      "0.04301845117138592\n",
      "0.23616636353376985\n",
      "0.6847413373543457\n",
      "0.04704113652648234\n",
      "0.26248370370387963\n",
      "0.3501761473488053\n",
      "0.3130873593968816\n",
      "0.6794561322505664\n",
      "0.24066877776427598\n"
     ]
    }
   ],
   "source": [
    "for i in range(10):\n",
    "    print(random.random())"
   ]
  },
  {
   "cell_type": "markdown",
   "id": "2c502fe1",
   "metadata": {},
   "source": [
    "### Get random numbers between custom range"
   ]
  },
  {
   "cell_type": "markdown",
   "id": "b92f6d06",
   "metadata": {},
   "source": [
    "- Use uniform()"
   ]
  },
  {
   "cell_type": "code",
   "execution_count": 8,
   "id": "9ec412b4",
   "metadata": {},
   "outputs": [
    {
     "name": "stdout",
     "output_type": "stream",
     "text": [
      "5.25432050089136\n"
     ]
    }
   ],
   "source": [
    "# get random numbers from 3 to 7\n",
    "print(random.uniform(3,7))"
   ]
  },
  {
   "cell_type": "code",
   "execution_count": 9,
   "id": "fae772e9",
   "metadata": {},
   "outputs": [
    {
     "name": "stdout",
     "output_type": "stream",
     "text": [
      "3\n"
     ]
    }
   ],
   "source": [
    "print(random.randint(1,6))"
   ]
  },
  {
   "cell_type": "code",
   "execution_count": 11,
   "id": "8705f0a0",
   "metadata": {},
   "outputs": [
    {
     "name": "stdout",
     "output_type": "stream",
     "text": [
      "paper\n",
      "rock\n",
      "paper\n",
      "paper\n",
      "scissor\n"
     ]
    }
   ],
   "source": [
    "outcomes=['rock','paper','scissor']\n",
    "for i in range(5):\n",
    "    print(random.choice(outcomes))"
   ]
  }
 ],
 "metadata": {
  "kernelspec": {
   "display_name": "Python 3",
   "language": "python",
   "name": "python3"
  },
  "language_info": {
   "codemirror_mode": {
    "name": "ipython",
    "version": 3
   },
   "file_extension": ".py",
   "mimetype": "text/x-python",
   "name": "python",
   "nbconvert_exporter": "python",
   "pygments_lexer": "ipython3",
   "version": "3.8.8"
  }
 },
 "nbformat": 4,
 "nbformat_minor": 5
}
