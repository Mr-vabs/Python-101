{
 "cells": [
  {
   "cell_type": "markdown",
   "id": "d240914c",
   "metadata": {},
   "source": [
    "## Add Elements"
   ]
  },
  {
   "cell_type": "code",
   "execution_count": 14,
   "id": "0120aec7",
   "metadata": {},
   "outputs": [],
   "source": [
    "names=['Sahil','Sonia','Sourav']\n",
    "age=[1,2,3]"
   ]
  },
  {
   "cell_type": "markdown",
   "id": "9e0261d7",
   "metadata": {},
   "source": [
    "### Add Elements"
   ]
  },
  {
   "cell_type": "markdown",
   "id": "5d71d2c2",
   "metadata": {},
   "source": [
    "### In Start"
   ]
  },
  {
   "cell_type": "code",
   "execution_count": 15,
   "id": "5936d31b",
   "metadata": {},
   "outputs": [
    {
     "data": {
      "text/plain": [
       "['Deepak', 'Sahil', 'Sonia', 'Sourav']"
      ]
     },
     "execution_count": 15,
     "metadata": {},
     "output_type": "execute_result"
    }
   ],
   "source": [
    "names.insert(0,'Deepak')\n",
    "names"
   ]
  },
  {
   "cell_type": "markdown",
   "id": "a6b5b248",
   "metadata": {},
   "source": [
    "### In end"
   ]
  },
  {
   "cell_type": "code",
   "execution_count": 16,
   "id": "2913ff9f",
   "metadata": {},
   "outputs": [
    {
     "data": {
      "text/plain": [
       "['Deepak', 'Sahil', 'Sonia', 'Sourav', 'Vishal']"
      ]
     },
     "execution_count": 16,
     "metadata": {},
     "output_type": "execute_result"
    }
   ],
   "source": [
    "names.insert(len(names),'Vishal')\n",
    "names"
   ]
  },
  {
   "cell_type": "markdown",
   "id": "d5d70b41",
   "metadata": {},
   "source": [
    "### At any position"
   ]
  },
  {
   "cell_type": "code",
   "execution_count": 17,
   "id": "17305024",
   "metadata": {},
   "outputs": [
    {
     "data": {
      "text/plain": [
       "['Deepak', 'Sahil', 'Sonia', 'Dummy', 'Sourav', 'Vishal']"
      ]
     },
     "execution_count": 17,
     "metadata": {},
     "output_type": "execute_result"
    }
   ],
   "source": [
    "names.insert(3,'Dummy')\n",
    "names"
   ]
  }
 ],
 "metadata": {
  "kernelspec": {
   "display_name": "Python 3",
   "language": "python",
   "name": "python3"
  },
  "language_info": {
   "codemirror_mode": {
    "name": "ipython",
    "version": 3
   },
   "file_extension": ".py",
   "mimetype": "text/x-python",
   "name": "python",
   "nbconvert_exporter": "python",
   "pygments_lexer": "ipython3",
   "version": "3.8.8"
  }
 },
 "nbformat": 4,
 "nbformat_minor": 5
}
