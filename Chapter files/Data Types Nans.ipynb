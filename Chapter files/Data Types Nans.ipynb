{
 "cells": [
  {
   "cell_type": "markdown",
   "id": "d240914c",
   "metadata": {},
   "source": [
    "## Missing Data Types"
   ]
  },
  {
   "cell_type": "markdown",
   "id": "a77898cf",
   "metadata": {},
   "source": [
    "- NaN means \"Not a number\"\n",
    "    - comes when wrong data type was placed in numeric types\n",
    "    - it is more like \"numerically incorrect\""
   ]
  },
  {
   "cell_type": "markdown",
   "id": "1f56b231",
   "metadata": {},
   "source": [
    "- None means Python's none type\n",
    "    - \"Empty or Not existed\""
   ]
  },
  {
   "cell_type": "markdown",
   "id": "c1f4cc64",
   "metadata": {},
   "source": [
    "- Nan and None are different data types but pandas consider them as same"
   ]
  }
 ],
 "metadata": {
  "kernelspec": {
   "display_name": "Python 3",
   "language": "python",
   "name": "python3"
  },
  "language_info": {
   "codemirror_mode": {
    "name": "ipython",
    "version": 3
   },
   "file_extension": ".py",
   "mimetype": "text/x-python",
   "name": "python",
   "nbconvert_exporter": "python",
   "pygments_lexer": "ipython3",
   "version": "3.8.8"
  }
 },
 "nbformat": 4,
 "nbformat_minor": 5
}
