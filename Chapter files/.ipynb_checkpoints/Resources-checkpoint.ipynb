{
 "cells": [
  {
   "cell_type": "markdown",
   "id": "d240914c",
   "metadata": {},
   "source": [
    "## Resources"
   ]
  },
  {
   "cell_type": "markdown",
   "id": "80d0a1e9",
   "metadata": {},
   "source": [
    "- https://pythontutor.com/ - visualize your python code\n",
    "- https://sql2pandas.pythonanywhere.com/- SQL 2 Python\n",
    "    - Tips:\n",
    "        - wrap strings in single quotes\n",
    "        - leave space before and after symbols\n",
    "            - where x>4 won't work because no space before and after > symbol\n",
    "- Source: yt/chartexplorer/change column data type\n",
    "- https://mermaid-js.github.io/mermaid/#/ - Make gantt charts,flow diagrams via markdown\n",
    "- https://github.com/alexandresanlim/Badges4-README.md-Profile - Easy to use badges for footers\n",
    "- https://app.learney.me/?concept=138 - path to learn ML\n",
    "- http://localhost:8889/tree/Book/Python -Probab classes"
   ]
  },
  {
   "cell_type": "code",
   "execution_count": null,
   "id": "81519421",
   "metadata": {},
   "outputs": [],
   "source": []
  }
 ],
 "metadata": {
  "kernelspec": {
   "display_name": "Python 3",
   "language": "python",
   "name": "python3"
  },
  "language_info": {
   "codemirror_mode": {
    "name": "ipython",
    "version": 3
   },
   "file_extension": ".py",
   "mimetype": "text/x-python",
   "name": "python",
   "nbconvert_exporter": "python",
   "pygments_lexer": "ipython3",
   "version": "3.8.8"
  }
 },
 "nbformat": 4,
 "nbformat_minor": 5
}
