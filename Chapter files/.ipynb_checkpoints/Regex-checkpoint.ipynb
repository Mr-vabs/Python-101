{
 "cells": [
  {
   "cell_type": "markdown",
   "id": "33733e0b",
   "metadata": {},
   "source": [
    "## Regex rules"
   ]
  },
  {
   "cell_type": "markdown",
   "id": "08c91d27",
   "metadata": {},
   "source": [
    "- Search for pattern in dataset"
   ]
  },
  {
   "cell_type": "markdown",
   "id": "4a6ad37b",
   "metadata": {},
   "source": [
    "### Single Character"
   ]
  },
  {
   "cell_type": "markdown",
   "id": "81722d03",
   "metadata": {},
   "source": [
    "- Note: [] denotes set of characters (once only)"
   ]
  },
  {
   "cell_type": "markdown",
   "id": "67ee0733",
   "metadata": {},
   "source": [
    "- a a\n",
    "- b b\n",
    "- c c\n",
    "- abc abc\n",
    "- [abc] a,b or c\n",
    "- [^abc] any character except  a,b and c\n",
    "- [a-z] a to z\n",
    "- [A-Z] A to Z\n",
    "- [0-9] 0 to 9 or \\d\n",
    "- [^0-9] 0 to 9 or \\D\n",
    "- [a-zA-Z] a to z,A-Z\n",
    "- [a-zA-Z0-9] \\w\n",
    "- [^a-zA-Z0-9] \\W\n",
    "- \\s whitespace character\n",
    "- \\S non whitespace character"
   ]
  },
  {
   "cell_type": "markdown",
   "id": "1ccfb446",
   "metadata": {},
   "source": [
    "### Frequency of characters"
   ]
  },
  {
   "cell_type": "markdown",
   "id": "68ef9ecd",
   "metadata": {},
   "source": [
    "?+*{} symbols are used to set frequency"
   ]
  },
  {
   "cell_type": "markdown",
   "id": "5a51ce79",
   "metadata": {},
   "source": [
    "- occurs 0 or 1 times []?\n",
    "- occurs 0 or more times \"acx*\"\n",
    "- occurs 1 or more times \"abc+\"\n",
    "- occurs exactly n times \"abc{n}\"\n",
    "- occurs exactly n or more times []{n,}"
   ]
  },
  {
   "cell_type": "markdown",
   "id": "4cf4eb8d",
   "metadata": {},
   "source": [
    "### More"
   ]
  },
  {
   "cell_type": "markdown",
   "id": "491af0b8",
   "metadata": {},
   "source": [
    "- starts with sahil \"^sahil\"\n",
    "- ends with choudhary \"choudhary$\"\n",
    "- any character except newline .\n",
    "- either c or d \"c|d\"\n",
    "- capture and group ( )"
   ]
  },
  {
   "cell_type": "markdown",
   "id": "fe5a2664",
   "metadata": {},
   "source": [
    "### Options"
   ]
  },
  {
   "cell_type": "markdown",
   "id": "6664dd32",
   "metadata": {},
   "source": [
    "- i case insensitive\n",
    "- \\ to treat them as special characters not as strings"
   ]
  }
 ],
 "metadata": {
  "kernelspec": {
   "display_name": "Python 3",
   "language": "python",
   "name": "python3"
  },
  "language_info": {
   "codemirror_mode": {
    "name": "ipython",
    "version": 3
   },
   "file_extension": ".py",
   "mimetype": "text/x-python",
   "name": "python",
   "nbconvert_exporter": "python",
   "pygments_lexer": "ipython3",
   "version": "3.8.8"
  }
 },
 "nbformat": 4,
 "nbformat_minor": 5
}
