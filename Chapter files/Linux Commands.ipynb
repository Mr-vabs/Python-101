{
 "cells": [
  {
   "cell_type": "markdown",
   "id": "5be13690",
   "metadata": {},
   "source": [
    "### Windows Command Line 101"
   ]
  },
  {
   "cell_type": "code",
   "execution_count": 55,
   "id": "d456325f",
   "metadata": {},
   "outputs": [
    {
     "name": "stdout",
     "output_type": "stream",
     "text": [
      " Volume in drive C is SSD\n",
      " Volume Serial Number is 86EA-9B98\n",
      "\n",
      " Directory of C:\\Users\\Sahil Choudhary\n",
      "\n",
      "29-01-2022  01.52 AM    <DIR>          .\n",
      "29-01-2022  01.52 AM    <DIR>          ..\n",
      "09-10-2020  11.43 AM    <DIR>          .android\n",
      "20-08-2020  01.16 AM                90 .angular-config.json\n",
      "13-10-2020  11.22 PM            21,313 .babel.json\n",
      "20-06-2021  02.12 PM            11,922 .bash_history\n",
      "07-03-2021  01.31 PM    <DIR>          .cache\n",
      "26-10-2020  11.23 AM    <DIR>          .config\n",
      "05-12-2020  04.24 AM    <DIR>          .electron\n",
      "16-03-2021  09.29 AM               303 .gitconfig\n",
      "22-06-2020  07.48 AM             2,085 .h2.server.properties\n",
      "04-06-2020  03.44 PM    <DIR>          .intellij-fancy-music-plugin\n",
      "29-01-2022  01.50 AM    <DIR>          .ipynb_checkpoints\n",
      "29-05-2021  10.56 AM    <DIR>          .ipython\n",
      "30-05-2021  11.38 PM    <DIR>          .jupyter\n",
      "09-10-2020  11.53 AM    <DIR>          .Ld2VirtualBox\n",
      "27-09-2020  12.32 PM    <DIR>          .m2\n",
      "17-07-2021  05.57 PM    <DIR>          .matplotlib\n",
      "13-10-2020  09.29 PM                48 .node_repl_history\n",
      "15-01-2022  01.31 AM               314 .notable.json\n",
      "30-04-2021  10.36 PM    <DIR>          .pylint.d\n",
      "30-04-2021  04.49 PM    <DIR>          .quokka\n",
      "08-12-2020  12.19 PM                49 .rediscli_history\n",
      "31-03-2021  04.30 PM    <DIR>          .software\n",
      "09-03-2020  02.22 AM    <DIR>          .sonarlint\n",
      "27-09-2020  12.32 PM    <DIR>          .sts4\n",
      "27-09-2020  12.32 PM    <DIR>          .tooling\n",
      "13-10-2020  11.22 PM             4,984 .v8flags.7.8.279.23-node.39.612e20dbbd83ea7233f418507e9db1f9.json\n",
      "29-10-2020  03.28 PM             1,592 .viminfo\n",
      "09-11-2019  04.25 PM    <DIR>          .vscode\n",
      "15-08-2020  08.50 PM    <DIR>          .wallaby\n",
      "24-12-2020  01.59 AM    <DIR>          2\n",
      "18-12-2021  09.21 AM    <DIR>          3D Objects\n",
      "29-05-2021  10.28 AM    <DIR>          anaconda3\n",
      "16-10-2020  11.11 PM    <DIR>          Contacts\n",
      "01-02-2021  08.47 PM    <DIR>          Creative Cloud Files\n",
      "22-01-2022  05.02 AM    <DIR>          Desktop\n",
      "18-12-2021  09.38 AM    <DIR>          Documents\n",
      "22-01-2022  05.07 AM    <DIR>          Downloads\n",
      "28-01-2022  11.51 PM            21,879 Downloads.ipynb\n",
      "24-01-2020  02.08 AM    <DIR>          Evernote\n",
      "16-10-2020  11.11 PM    <DIR>          Favorites\n",
      "29-01-2022  12.52 AM    <DIR>          folder_demo\n",
      "08-07-2020  09.36 AM    <DIR>          Google Drive\n",
      "21-10-2020  08.22 AM    <DIR>          IBA_IOAPDATA\n",
      "20-10-2020  02.15 PM    <DIR>          IdeaProjects\n",
      "29-01-2022  01.52 AM             1,956 Importing Packages.ipynb\n",
      "29-01-2022  01.51 AM               864 Install vs Import.ipynb\n",
      "29-01-2022  01.50 AM             1,593 Installing Packages.ipynb\n",
      "21-06-2020  08.40 PM       233,962,417 java_error_in_idea.hprof\n",
      "28-01-2022  11.38 PM             3,184 Jupyter Book 101.ipynb\n",
      "16-10-2020  11.11 PM    <DIR>          Links\n",
      "29-01-2022  01.16 AM             2,574 Linux Commands.ipynb\n",
      "29-01-2022  01.51 AM               878 Modules vs Packages vs Libraries.ipynb\n",
      "22-01-2022  04.56 AM    <DIR>          Music\n",
      "29-01-2022  12.50 AM    <DIR>          newfolder\n",
      "29-09-2021  01.19 AM            21,846 Pandas Cheatsheet.ipynb\n",
      "07-06-2021  08.20 PM    <DIR>          Pictures\n",
      "20-09-2020  02.48 PM    <DIR>          pivotchain-solutions\n",
      "06-09-2020  08.46 PM    <DIR>          Postman\n",
      "28-01-2022  11.47 PM    <DIR>          Python\n",
      "28-06-2021  12.22 AM            11,038 Python 101.ipynb\n",
      "08-12-2020  12.10 PM         6,733,824 Redis-x64-3.0.504 (1).msi\n",
      "16-10-2020  11.11 PM    <DIR>          Saved Games\n",
      "26-10-2020  11.30 AM    <DIR>          scoop\n",
      "16-10-2020  11.11 PM    <DIR>          Searches\n",
      "03-06-2020  03.55 AM            57,822 Shot_20200603_035539.png\n",
      "03-06-2020  03.56 AM         1,172,809 Shot_20200603_035615.png\n",
      "03-06-2020  03.57 AM            91,490 Shot_20200603_035703.png\n",
      "21-10-2020  11.28 AM                85 Shot_20201021_112819.png\n",
      "04-07-2021  11.36 PM             1,165 Untitled.ipynb\n",
      "12-07-2021  12.12 AM            16,658 Untitled1.ipynb\n",
      "28-01-2022  11.45 PM                72 Untitled2.ipynb\n",
      "28-01-2022  11.47 PM            21,411 Untitled3.ipynb\n",
      "28-01-2022  11.47 PM               576 Untitled4-Copy1.ipynb\n",
      "28-01-2022  11.47 PM               576 Untitled4.ipynb\n",
      "29-01-2022  01.16 AM                72 Untitled5.ipynb\n",
      "23-09-2021  10.32 PM    <DIR>          Videos\n",
      "29-01-2022  01.17 AM             1,422 Windows Command Line.ipynb\n",
      "14-03-2021  11.11 PM               216 _netrc\n",
      "              34 File(s)    242,169,127 bytes\n",
      "              46 Dir(s)  16,746,115,072 bytes free\n"
     ]
    }
   ],
   "source": [
    "!dir"
   ]
  },
  {
   "cell_type": "markdown",
   "id": "b53c8ac9",
   "metadata": {},
   "source": [
    "#### Note:In CLI, foldersare called directories\n",
    "- Give list of all files and folders in current directory: ```dir```\n",
    "    - Files are tagged as Blanks\n",
    "    - Folders are tagged as ```<DIR>```\n",
    "- Create Folder: ```mkdir <name of folder>```\n",
    "- Delete folder: ```rmdir <name of folder>```\n",
    "    - Use ```rmdir /s <name of directory>``` if  folder has stuff in it\n",
    "- Going one level up in Directory: ```cd <name>```\n",
    "    - Going to any folder: ```cd C:\\Desktop\\Folder\\Subfolder```\n",
    "- Going one level down in Directory: ```cd ..```\n",
    "- Clear Screen: ```cls```\n",
    "- Open Files: Type name of file without any command\n",
    "    - It opens file in default program"
   ]
  },
  {
   "cell_type": "markdown",
   "id": "c2d672d2",
   "metadata": {},
   "source": [
    "### Installing packages"
   ]
  },
  {
   "cell_type": "markdown",
   "id": "45d42061",
   "metadata": {},
   "source": [
    "To install latest version(default) : ```!pip <commands> [options] [name of library] ```\n",
    "\n",
    "To install previous/specific version: ```!pip <commands> [options] [name of library]==Syntax Number``` "
   ]
  },
  {
   "cell_type": "markdown",
   "id": "ac7f415c",
   "metadata": {},
   "source": [
    "- Commands:\n",
    "   - install\n",
    "   - uninstall\n",
    "   - freeze - Gives a list of all the modules installed with their version in one go in Module name==module version format\n",
    "- Options:\n",
    "    - ```-h or --help``` to get help\n",
    "    - ```pip -h``` Overall help\n",
    "    - ```pip subcommand -h``` gives you help for that sub command\n",
    "    - ```-y``` automatically says yes to prompts\n",
    "    - ```-V``` To know current version\n",
    "    - ```-U``` To upgrade package to the latest versions \n",
    "    - ```--force-reinstall ``` Reinstall all packages"
   ]
  }
 ],
 "metadata": {
  "kernelspec": {
   "display_name": "Python 3",
   "language": "python",
   "name": "python3"
  },
  "language_info": {
   "codemirror_mode": {
    "name": "ipython",
    "version": 3
   },
   "file_extension": ".py",
   "mimetype": "text/x-python",
   "name": "python",
   "nbconvert_exporter": "python",
   "pygments_lexer": "ipython3",
   "version": "3.8.8"
  }
 },
 "nbformat": 4,
 "nbformat_minor": 5
}
