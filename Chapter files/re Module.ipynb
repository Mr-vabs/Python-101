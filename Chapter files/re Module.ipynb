{
  "cells": [
    {
      "cell_type": "markdown",
      "id": "70f6756e",
      "metadata": {},
      "source": [
        "## re Module"
      ]
    },
    {
      "cell_type": "markdown",
      "id": "a61dcd7b",
      "metadata": {},
      "source": [
        "    - Regex is useful if the field you want to play with has no standardised pattern,it is mixed with some non patterns as well and you want to extract your specified pattern. If the pattern in entire column is same,then instead of regex,string functions like split,replace,find can also be used\n",
        "        - eg,if names=[Mr Sahil,Mrs XYZ,Mr Sourav],then you do not need regex,directly split it by space and take the second word but if names=[Mr Sahil,Mrs XYZ,abc,Mr Sourav,hello world,1233] then you will need regex\n",
        "    - All the patterns which we create are case sensitive\n",
        "    - Create a pattern using re.compile(r\"\\d\")\n",
        "    - Run this pattern on your string using methods like pattern.finditer(string) to get the matches\n",
        "    - Matches is a iterable object"
      ]
    },
    {
      "cell_type": "code",
      "execution_count": 2,
      "id": "3c66c170",
      "metadata": {},
      "outputs": [],
      "source": [
        "import re"
      ]
    },
    {
      "cell_type": "code",
      "execution_count": 7,
      "id": "10a9b6a8",
      "metadata": {},
      "outputs": [],
      "source": [
        "s='123abc323abc23ABC'"
      ]
    },
    {
      "cell_type": "code",
      "execution_count": 15,
      "id": "c2095e6b",
      "metadata": {},
      "outputs": [],
      "source": [
        "pattern=re.compile(r\"abc\") \n",
        "# r means it is a raw string,treat is as string,even if special chars like \\n \\t are there"
      ]
    },
    {
      "cell_type": "markdown",
      "id": "8db46b6b",
      "metadata": {},
      "source": [
        "- Arguments for re.compile:\n",
        "    - re.IGNORECASE"
      ]
    },
    {
      "cell_type": "markdown",
      "id": "1bf3ea3d",
      "metadata": {},
      "source": [
        "### Raw strings"
      ]
    },
    {
      "cell_type": "markdown",
      "id": "d6d5dc9c",
      "metadata": {},
      "source": [
        "- To escape some reserved characters(patterns like \\t) from python and treat them just as simple strings,append r in front of string"
      ]
    },
    {
      "cell_type": "code",
      "execution_count": 13,
      "id": "cf4c3d34",
      "metadata": {},
      "outputs": [
        {
          "name": "stdout",
          "output_type": "stream",
          "text": [
            "\t\n",
            "Hello\n"
          ]
        }
      ],
      "source": [
        "a=\"\\t\\nHello\"\n",
        "print(a)"
      ]
    },
    {
      "cell_type": "code",
      "execution_count": 14,
      "id": "4aa8183d",
      "metadata": {},
      "outputs": [
        {
          "name": "stdout",
          "output_type": "stream",
          "text": [
            "\\t\\nHello\n"
          ]
        }
      ],
      "source": [
        "a=r\"\\t\\nHello\"\n",
        "print(a)"
      ]
    },
    {
      "cell_type": "markdown",
      "id": "483d0a3c",
      "metadata": {},
      "source": [
        "### Escaping characters from regex"
      ]
    },
    {
      "cell_type": "markdown",
      "id": "22c2aa37",
      "metadata": {},
      "source": [
        "- . has a special meaning in regex\n",
        "    - It is not just a simple string,it is used to tell regex that . means match all the pattern\n",
        "- So,if you want that it should be treated normally as string,not as regex character,escape it.\n",
        "- Use Backslash to *escape it from regex*\n",
        "    "
      ]
    },
    {
      "cell_type": "markdown",
      "id": "d2e970e9",
      "metadata": {},
      "source": [
        "### Methods we can apply on pattern"
      ]
    },
    {
      "cell_type": "markdown",
      "id": "b951674c",
      "metadata": {},
      "source": [
        "- ``` .match() ```\n",
        "    - scans the text for your mentioned pattern and check if the pattern you are looking for, **is in the begining of string or not**\n",
        "        - if its in the begining,it will return that match\n",
        "        - if its not,it will return None\n",
        "        \n",
        "        \n",
        "- ``` .search() ``` \n",
        "    - scans the text for your mentioned pattern and **returns first match** if found else return None\n",
        "    \n",
        "    \n",
        "- ``` .findall() ```\n",
        "    - scans the text for your mentioned pattern and **return all the matches**\n",
        "    \n",
        "    \n",
        "- ```.finditer()```\n",
        "    - scans the text for your mentioned pattern and **return all the matches + their locations**\n",
        "    \n",
        "    \n",
        "\n",
        "- Modify:\n",
        "    - sub()\n",
        "        - re.sub(\"regular expression's output\",string you want re's ouput to be replaced with,string where search is to be made\")\n",
        "        - replaces all the matches with specified string"
      ]
    },
    {
      "cell_type": "code",
      "execution_count": 28,
      "id": "6ff46643",
      "metadata": {},
      "outputs": [],
      "source": [
        "matches=pattern.finditer(s)"
      ]
    },
    {
      "cell_type": "code",
      "execution_count": 29,
      "id": "0d0ad0a8",
      "metadata": {},
      "outputs": [
        {
          "name": "stdout",
          "output_type": "stream",
          "text": [
            "<re.Match object; span=(3, 6), match='abc'>\n",
            "<re.Match object; span=(9, 12), match='abc'>\n"
          ]
        }
      ],
      "source": [
        "for match in matches:\n",
        "    print(match)"
      ]
    },
    {
      "cell_type": "markdown",
      "id": "8808d131",
      "metadata": {},
      "source": [
        "### Methods we can apply on match object"
      ]
    },
    {
      "cell_type": "markdown",
      "id": "08428ad3",
      "metadata": {},
      "source": [
        "- ```match.span()``` - returns a tupple of locations(start,end) of matches\n",
        "- ```match.start()``` - returns the starting location of matches\n",
        "- ```match.end()``` - returns the ending location of matches\n",
        "- ```match.group()``` \n",
        "    - If 0 is passed in arg,will return the entire match\n",
        "    - If 1 is passed in arg,will return the first group[() is a group)\n",
        "    - If 2 is passed in arg,will return the second group[() is a group)"
      ]
    },
    {
      "cell_type": "markdown",
      "id": "1b2b49f5",
      "metadata": {},
      "source": [
        "### Examples"
      ]
    },
    {
      "cell_type": "code",
      "execution_count": 54,
      "id": "72230ed6",
      "metadata": {},
      "outputs": [],
      "source": [
        "s='1abc3abc_ABC'"
      ]
    },
    {
      "cell_type": "code",
      "execution_count": 55,
      "id": "507cb248",
      "metadata": {},
      "outputs": [],
      "source": [
        "pattern=re.compile(r\".\") # . means any character\n",
        "matches=pattern.finditer(s)"
      ]
    },
    {
      "cell_type": "code",
      "execution_count": 56,
      "id": "e4d426d4",
      "metadata": {},
      "outputs": [
        {
          "name": "stdout",
          "output_type": "stream",
          "text": [
            "1\n",
            "a\n",
            "b\n",
            "c\n",
            "3\n",
            "a\n",
            "b\n",
            "c\n",
            "_\n",
            "A\n",
            "B\n",
            "C\n"
          ]
        }
      ],
      "source": [
        "for match in matches:\n",
        "    print(match.group())"
      ]
    },
    {
      "cell_type": "code",
      "execution_count": 57,
      "id": "ccfc2d1c",
      "metadata": {},
      "outputs": [],
      "source": [
        "s='1abc3ab.cABC'\n",
        "pattern=re.compile(r\"\\.\") # if you want the dot # !!\n",
        "matches=pattern.finditer(s)"
      ]
    },
    {
      "cell_type": "code",
      "execution_count": 58,
      "id": "a4ffd279",
      "metadata": {},
      "outputs": [
        {
          "name": "stdout",
          "output_type": "stream",
          "text": [
            ".\n"
          ]
        }
      ],
      "source": [
        "for match in matches:\n",
        "    print(match.group())"
      ]
    },
    {
      "cell_type": "code",
      "execution_count": 60,
      "id": "63f9e4b7",
      "metadata": {},
      "outputs": [
        {
          "name": "stdout",
          "output_type": "stream",
          "text": [
            "a\n",
            "b\n",
            "c\n",
            "a\n",
            "_\n",
            "b\n",
            ".\n",
            "c\n",
            "A\n",
            "B\n",
            "C\n"
          ]
        }
      ],
      "source": [
        "# Remove numbers\n",
        "\n",
        "s='1abc3a_123b.cABC'\n",
        "pattern=re.compile(r\"\\D\") # if you want the dot # !!\n",
        "matches=pattern.finditer(s)\n",
        "\n",
        "for match in matches:\n",
        "    print(match.group())"
      ]
    },
    {
      "cell_type": "code",
      "execution_count": 59,
      "id": "69ff8d93",
      "metadata": {},
      "outputs": [
        {
          "name": "stdout",
          "output_type": "stream",
          "text": [
            "1\n",
            "3\n",
            "1\n",
            "2\n",
            "3\n"
          ]
        }
      ],
      "source": [
        "# Remove everything except Numbers\n",
        "\n",
        "s='1abc3a_123b.cABC' # !!\n",
        "pattern=re.compile(r\"\\d\") # if you want the dot\n",
        "matches=pattern.finditer(s)\n",
        "\n",
        "for match in matches:\n",
        "    print(match.group())"
      ]
    },
    {
      "cell_type": "code",
      "execution_count": 63,
      "id": "28249242",
      "metadata": {},
      "outputs": [
        {
          "name": "stdout",
          "output_type": "stream",
          "text": [
            "1\n",
            "a\n",
            "b\n",
            "c\n",
            "3\n",
            "a\n",
            "_\n",
            "1\n",
            "2\n",
            "3\n",
            "b\n",
            ".\n",
            "c\n",
            "A\n",
            "B\n",
            "C\n"
          ]
        }
      ],
      "source": [
        "# Remove Spaces\n",
        "\n",
        "s='1abc3a_1  23b.cAB   C' # !!\n",
        "pattern=re.compile(r\"\\S\") # if you want the dot\n",
        "matches=pattern.finditer(s)\n",
        "\n",
        "for match in matches:\n",
        "    print(match.group())"
      ]
    },
    {
      "cell_type": "code",
      "execution_count": 86,
      "id": "e2f0ad77",
      "metadata": {},
      "outputs": [],
      "source": [
        "dates=\"\"\"\n",
        "01.04.2020\n",
        "\n",
        "2020.04.01\n",
        "\n",
        "2020-04-01\n",
        "2020-05-23\n",
        "2020-05-02\n",
        "2020-06-19\n",
        "2020-08-02\n",
        "2020_04_04\n",
        "2020_04_04\n",
        "hello\n",
        "no date\n",
        "123\n",
        "2020/08/02\n",
        "2021/09/03\n",
        "\n",
        "\"\"\""
      ]
    },
    {
      "cell_type": "code",
      "execution_count": 88,
      "id": "deb5ef77",
      "metadata": {},
      "outputs": [
        {
          "name": "stdout",
          "output_type": "stream",
          "text": [
            "<re.Match object; span=(25, 35), match='2020-04-01'>\n",
            "<re.Match object; span=(36, 46), match='2020-05-23'>\n",
            "<re.Match object; span=(47, 57), match='2020-05-02'>\n",
            "<re.Match object; span=(58, 68), match='2020-06-19'>\n",
            "<re.Match object; span=(69, 79), match='2020-08-02'>\n"
          ]
        }
      ],
      "source": [
        "# Extract dates with yyyy-mm-dd format\n",
        "# Note: \\d means number\n",
        "pattern=re.compile(r\"\\d\\d\\d\\d-\\d\\d-\\d\\d\") # !!\n",
        "# or pattern=re.compile(r\"\\d{4}-\\d{2}-\\d{2}\")\n",
        "matches=pattern.finditer(dates)\n",
        "for match in matches:\n",
        "    print(match)"
      ]
    },
    {
      "cell_type": "code",
      "execution_count": 82,
      "id": "00037848",
      "metadata": {},
      "outputs": [
        {
          "name": "stdout",
          "output_type": "stream",
          "text": [
            "<re.Match object; span=(98, 108), match='2020/08/02'>\n",
            "<re.Match object; span=(109, 119), match='2021/09/03'>\n"
          ]
        }
      ],
      "source": [
        "# Extract dates with yyyy/mm/dd format\n",
        "# Note: to get / , we have to escape it using backslash=> \\/\n",
        "pattern=re.compile(r\"\\d\\d\\d\\d\\/\\d\\d\\/\\d\\d\") # !!\n",
        "matches=pattern.finditer(dates)\n",
        "for match in matches:\n",
        "    print(match)"
      ]
    },
    {
      "cell_type": "code",
      "execution_count": 83,
      "id": "72dcfacc",
      "metadata": {},
      "outputs": [
        {
          "name": "stdout",
          "output_type": "stream",
          "text": [
            "<re.Match object; span=(25, 35), match='2020-04-01'>\n",
            "<re.Match object; span=(36, 46), match='2020-05-23'>\n",
            "<re.Match object; span=(47, 57), match='2020-08-02'>\n",
            "<re.Match object; span=(98, 108), match='2020/08/02'>\n",
            "<re.Match object; span=(109, 119), match='2021/09/03'>\n"
          ]
        }
      ],
      "source": [
        "# Extract dates with either yyyy-mm-dd format or yyyy/mm/dd format \n",
        "# Note: Here because we need or(among two chars,we are using set[])\n",
        "pattern=re.compile(r\"\\d\\d\\d\\d[-/]\\d\\d[-/]\\d\\d\") # !!\n",
        "matches=pattern.finditer(dates)\n",
        "for match in matches:\n",
        "    print(match)"
      ]
    },
    {
      "cell_type": "code",
      "execution_count": 87,
      "id": "b6454429",
      "metadata": {},
      "outputs": [
        {
          "name": "stdout",
          "output_type": "stream",
          "text": [
            "<re.Match object; span=(36, 46), match='2020-05-23'>\n",
            "<re.Match object; span=(47, 57), match='2020-05-02'>\n",
            "<re.Match object; span=(58, 68), match='2020-06-19'>\n"
          ]
        }
      ],
      "source": [
        "# Extract only dates which falls in May or June\n",
        "# Note: Her because we need or(among two chars,we are using set[])\n",
        "pattern=re.compile(r\"\\d\\d\\d\\d[-/]0[5-6][-/]\\d\\d\") # !!\n",
        "matches=pattern.finditer(dates)\n",
        "for match in matches:\n",
        "    print(match)"
      ]
    },
    {
      "cell_type": "code",
      "execution_count": 89,
      "id": "c4f734ec",
      "metadata": {},
      "outputs": [
        {
          "name": "stdout",
          "output_type": "stream",
          "text": [
            "<re.Match object; span=(13, 23), match='2020.04.01'>\n",
            "<re.Match object; span=(25, 35), match='2020-04-01'>\n",
            "<re.Match object; span=(36, 46), match='2020-05-23'>\n",
            "<re.Match object; span=(47, 57), match='2020-05-02'>\n",
            "<re.Match object; span=(58, 68), match='2020-06-19'>\n",
            "<re.Match object; span=(69, 79), match='2020-08-02'>\n",
            "<re.Match object; span=(80, 90), match='2020_04_04'>\n",
            "<re.Match object; span=(91,  ), match='2020_04_04'>\n",
            "<re.Match object; span=(120, 130), match='2020/08/02'>\n",
            "<re.Match object; span=(131, 141), match='2021/09/03'>\n"
          ]
        }
      ],
      "source": [
        "# Extract dates with any format\n",
        "# Note:. Means anything,any character can be there\n",
        "pattern=re.compile(r\"\\d\\d\\d\\d.\\d\\d.\\d\\d\") # !!\n",
        "matches=pattern.finditer(dates)\n",
        "for match in matches:\n",
        "    print(match)"
      ]
    },
    {
      "cell_type": "code",
      "execution_count": 103,
      "id": "a7239df3",
      "metadata": {},
      "outputs": [],
      "source": [
        "names=\"\"\"\n",
        "Mr Sahil\n",
        "Mr. Sahil\n",
        "Ms Smith\n",
        "hello world\n",
        "123\n",
        "2020-05-20\n",
        "Mr. XYZ\n",
        "\n",
        "\"\"\""
      ]
    },
    {
      "cell_type": "code",
      "execution_count": 107,
      "id": "8c482aac",
      "metadata": {},
      "outputs": [
        {
          "name": "stdout",
          "output_type": "stream",
          "text": [
            "<re.Match object; span=(1, 9), match='Mr Sahil'>\n",
            "<re.Match object; span=(10, 19), match='Mr. Sahil'>\n",
            "<re.Match object; span=(56, 63), match='Mr. XYZ'>\n"
          ]
        }
      ],
      "source": [
        "# Extract all the Misters\n",
        "# Note:. is optional Sometimes there,sometimes not characters can \n",
        "# w denotes letter + means of any length\n",
        "pattern=re.compile(r\"Mr\\.?\\s\\w+\") # !!\n",
        "matches=pattern.finditer(names)\n",
        "for match in matches:\n",
        "    print(match)"
      ]
    },
    {
      "cell_type": "code",
      "execution_count": 108,
      "id": "b2c3c664",
      "metadata": {},
      "outputs": [
        {
          "name": "stdout",
          "output_type": "stream",
          "text": [
            "<re.Match object; span=(1, 9), match='Mr Sahil'>\n",
            "<re.Match object; span=(10, 19), match='Mr. Sahil'>\n",
            "<re.Match object; span=(20, 28), match='Ms Smith'>\n",
            "<re.Match object; span=(56, 63), match='Mr. XYZ'>\n"
          ]
        }
      ],
      "source": [
        "# Extract all the Mrs,Mrs,Ms\n",
        "# Note: We need grouping.grouping is done using (grp1|grp2)\n",
        "pattern=re.compile(r\"(Mr|Ms|Mrs)\\.?\\s?\\w+\") # !!\n",
        "matches=pattern.finditer(names)\n",
        "for match in matches:\n",
        "    print(match)"
      ]
    },
    {
      "cell_type": "code",
      "execution_count": 3,
      "id": "e6d31600",
      "metadata": {},
      "outputs": [],
      "source": [
        "emails=\"\"\"\n",
        "sahil\n",
        "choudhary\n",
        "helloworld\n",
        "1233\n",
        "sahil@gmail.com\n",
        "sahil1@yahoo.com\n",
        "python-ds@reddif.org\n",
        "py-2313en@ee.com\n",
        "\"\"\""
      ]
    },
    {
      "cell_type": "code",
      "execution_count": 19,
      "id": "901c2a76",
      "metadata": {},
      "outputs": [
        {
          "name": "stdout",
          "output_type": "stream",
          "text": [
            "<re.Match object; span=(33, 39), match='sahil@'>\n",
            "<re.Match object; span=(49, 56), match='sahil1@'>\n",
            "<re.Match object; span=(66, 76), match='python-ds@'>\n",
            "<re.Match object; span=(87, 97), match='py-2313en@'>\n"
          ]
        }
      ],
      "source": [
        "pattern=re.compile(r\"[a-zA-Z0-9-]+@\") # !!\n",
        "matches=pattern.finditer(emails)\n",
        "for match in matches:\n",
        "    print(match)"
      ]
    },
    {
      "cell_type": "code",
      "execution_count": 18,
      "id": "98a348cb",
      "metadata": {},
      "outputs": [
        {
          "name": "stdout",
          "output_type": "stream",
          "text": [
            "<re.Match object; span=(33, 40), match='sahil@g'>\n",
            "<re.Match object; span=(49, 57), match='sahil1@y'>\n",
            "<re.Match object; span=(66, 77), match='python-ds@r'>\n",
            "<re.Match object; span=(87, 98), match='py-2313en@e'>\n"
          ]
        }
      ],
      "source": [
        "pattern=re.compile(r\"[a-zA-Z0-9-]+@[a-zA-Z]\") # !!\n",
        "matches=pattern.finditer(emails)\n",
        "for match in matches:\n",
        "    print(match)"
      ]
    },
    {
      "cell_type": "code",
      "execution_count": 17,
      "id": "d9fc8287",
      "metadata": {},
      "outputs": [
        {
          "name": "stdout",
          "output_type": "stream",
          "text": [
            "<re.Match object; span=(33, 44), match='sahil@gmail'>\n",
            "<re.Match object; span=(49, 61), match='sahil1@yahoo'>\n",
            "<re.Match object; span=(66, 82), match='python-ds@reddif'>\n",
            "<re.Match object; span=(87, 99), match='py-2313en@ee'>\n"
          ]
        }
      ],
      "source": [
        "pattern=re.compile(r\"[a-zA-Z0-9-]+@[a-zA-Z]+\") # !!\n",
        "matches=pattern.finditer(emails)\n",
        "for match in matches:\n",
        "    print(match)"
      ]
    },
    {
      "cell_type": "code",
      "execution_count": 15,
      "id": "39690161",
      "metadata": {},
      "outputs": [
        {
          "name": "stdout",
          "output_type": "stream",
          "text": [
            "<re.Match object; span=(33, 46), match='sahil@gmail.c'>\n",
            "<re.Match object; span=(49, 63), match='sahil1@yahoo.c'>\n",
            "<re.Match object; span=(66, 84), match='python-ds@reddif.o'>\n",
            "<re.Match object; span=(87,  ), match='py-2313en@ee.c'>\n"
          ]
        }
      ],
      "source": [
        "pattern=re.compile(r\"[a-zA-Z0-9-]+@[a-zA-Z]+\\.[a-zA-Z]\") # !!\n",
        "matches=pattern.finditer(emails)\n",
        "for match in matches:\n",
        "    print(match)"
      ]
    },
    {
      "cell_type": "code",
      "execution_count": 16,
      "id": "1d87c14c",
      "metadata": {},
      "outputs": [
        {
          "name": "stdout",
          "output_type": "stream",
          "text": [
            "<re.Match object; span=(33, 48), match='sahil@gmail.com'>\n",
            "<re.Match object; span=(49, 65), match='sahil1@yahoo.com'>\n",
            "<re.Match object; span=(66, 86), match='python-ds@reddif.org'>\n",
            "<re.Match object; span=(87, 103), match='py-2313en@ee.com'>\n"
          ]
        }
      ],
      "source": [
        "pattern=re.compile(r\"[a-zA-Z0-9-]+@[a-zA-Z]+\\.[a-zA-Z]+\") # !!\n",
        "matches=pattern.finditer(emails)\n",
        "for match in matches:\n",
        "    print(match)"
      ]
    },
    {
      "cell_type": "markdown",
      "id": "d377ccc9",
      "metadata": {},
      "source": [
        "#### Note: if you want in the future that you will need to fetch username,domain name and server suffix as separate,do the grouping\n",
        "    - Take your normal pattern and wrap each section in (),these will become groups\n",
        "    - Then,you can refer entire match normally like before if you just write match.group()\n",
        "    - And,if you need usernames,write(match.group(1))\n",
        "    - And,if you need domain names,write(match.group(2))\n",
        "    - And,if you need server suffix,write(match.group(3))"
      ]
    },
    {
      "cell_type": "code",
      "execution_count": 21,
      "id": "31c291c6",
      "metadata": {},
      "outputs": [
        {
          "name": "stdout",
          "output_type": "stream",
          "text": [
            "<re.Match object; span=(33, 48), match='sahil@gmail.com'>\n",
            "<re.Match object; span=(49, 65), match='sahil1@yahoo.com'>\n",
            "<re.Match object; span=(66, 86), match='python-ds@reddif.org'>\n",
            "<re.Match object; span=(87, 103), match='py-2313en@ee.com'>\n"
          ]
        }
      ],
      "source": [
        "# Took the normal pattern and wrapped it in ()\n",
        "pattern=re.compile(r\"([a-zA-Z0-9-]+)@([a-zA-Z]+)\\.([a-zA-Z]+)\")\n",
        "matches=pattern.finditer(emails)\n",
        "for match in matches:\n",
        "    print(match)   # !!"
      ]
    },
    {
      "cell_type": "code",
      "execution_count": 22,
      "id": "d532a29a",
      "metadata": {},
      "outputs": [
        {
          "name": "stdout",
          "output_type": "stream",
          "text": [
            "sahil@gmail.com\n",
            "sahil1@yahoo.com\n",
            "python-ds@reddif.org\n",
            "py-2313en@ee.com\n"
          ]
        }
      ],
      "source": [
        "pattern=re.compile(r\"([a-zA-Z0-9-]+)@([a-zA-Z]+)\\.([a-zA-Z]+)\")\n",
        "matches=pattern.finditer(emails)\n",
        "for match in matches:\n",
        "    print(match.group())   # !!"
      ]
    },
    {
      "cell_type": "code",
      "execution_count": 23,
      "id": "038fcc1a",
      "metadata": {},
      "outputs": [
        {
          "name": "stdout",
          "output_type": "stream",
          "text": [
            "sahil@gmail.com\n",
            "sahil1@yahoo.com\n",
            "python-ds@reddif.org\n",
            "py-2313en@ee.com\n"
          ]
        }
      ],
      "source": [
        "pattern=re.compile(r\"([a-zA-Z0-9-]+)@([a-zA-Z]+)\\.([a-zA-Z]+)\")\n",
        "matches=pattern.finditer(emails)\n",
        "for match in matches:\n",
        "    print(match.group(0))   # !!\n",
        "# group(0)==group()==normal match"
      ]
    },
    {
      "cell_type": "code",
      "execution_count": 29,
      "id": "94a27fa9",
      "metadata": {},
      "outputs": [
        {
          "name": "stdout",
          "output_type": "stream",
          "text": [
            "sahil\n",
            "sahil1\n",
            "python-ds\n",
            "py-2313en\n"
          ]
        }
      ],
      "source": [
        "pattern=re.compile(r\"([a-zA-Z0-9-]+)@([a-zA-Z]+)\\.([a-zA-Z]+)\")\n",
        "matches=pattern.finditer(emails)\n",
        "for match in matches:\n",
        "    print(match.group(1))   # !!\n",
        "# group(1)==group1 in our match"
      ]
    },
    {
      "cell_type": "code",
      "execution_count": 27,
      "id": "6960c7a2",
      "metadata": {},
      "outputs": [
        {
          "name": "stdout",
          "output_type": "stream",
          "text": [
            "gmail\n",
            "yahoo\n",
            "reddif\n",
            "ee\n"
          ]
        }
      ],
      "source": [
        "pattern=re.compile(r\"([a-zA-Z0-9-]+)@([a-zA-Z]+)\\.([a-zA-Z]+)\")\n",
        "matches=pattern.finditer(emails)\n",
        "for match in matches:\n",
        "    print(match.group(2))   # !!"
      ]
    },
    {
      "cell_type": "code",
      "execution_count": 28,
      "id": "8c45aa42",
      "metadata": {},
      "outputs": [
        {
          "name": "stdout",
          "output_type": "stream",
          "text": [
            "com\n",
            "com\n",
            "org\n",
            "com\n"
          ]
        }
      ],
      "source": [
        "pattern=re.compile(r\"([a-zA-Z0-9-]+)@([a-zA-Z]+)\\.([a-zA-Z]+)\")\n",
        "matches=pattern.finditer(emails)\n",
        "for match in matches:\n",
        "    print(match.group(3))   # !!"
      ]
    },
    {
      "cell_type": "code",
      "execution_count": 30,
      "id": "a396ebac",
      "metadata": {},
      "outputs": [],
      "source": [
        "pattern=re.compile(r\"([a-zA-Z0-9-]+)@([a-zA-Z]+)\\.([a-zA-Z]+)\")\n",
        "new_str=pattern.sub(\"hello\",urls)"
      ]
    },
    {
      "cell_type": "markdown",
      "id": "9bd5b210",
      "metadata": {},
      "source": [
        "### Uses of group()in re"
      ]
    },
    {
      "cell_type": "code",
      "execution_count": 42,
      "id": "2ac7ac61",
      "metadata": {},
      "outputs": [
        {
          "name": "stdout",
          "output_type": "stream",
          "text": [
            "12\n",
            "9\n",
            "19\n"
          ]
        }
      ],
      "source": [
        "string=\"I am 12abc I ma 9 an 19\"\n",
        "matches=re.finditer('(\\d+)',string)\n",
        " # Get the first number\n",
        "for match in matches:\n",
        "    print(match.group(1))  \n",
        "  "
      ]
    },
    {
      "cell_type": "markdown",
      "id": "807b0ccb",
      "metadata": {},
      "source": [
        "### Uses of re.sub"
      ]
    },
    {
      "cell_type": "code",
      "execution_count": 31,
      "id": "00e3722d",
      "metadata": {},
      "outputs": [],
      "source": [
        "string=\"US,U.S is abc 78 shds USA\""
      ]
    },
    {
      "cell_type": "code",
      "execution_count": 32,
      "id": "c73eb066",
      "metadata": {},
      "outputs": [
        {
          "data": {
            "text/plain": [
              "'america,america is abc 78 shds americaA'"
            ]
          },
          "execution_count": 32,
          "metadata": {},
          "output_type": "execute_result"
        }
      ],
      "source": [
        "re.sub('US|U.S|USA',\"america\",string)"
      ]
    },
    {
      "cell_type": "code",
      "execution_count": 51,
      "id": "ae165ae9",
      "metadata": {},
      "outputs": [
        {
          "name": "stdout",
          "output_type": "stream",
          "text": [
            "12-21-12\n"
          ]
        }
      ],
      "source": [
        "# Renove # comments\n",
        "\n",
        "string=\"12-21-12# commentssss\"\n",
        "#any character after the hash=> # . *\n",
        "new_string=re.sub(r'#.*',\"\",string)\n",
        "print(new_string)"
      ]
    },
    {
      "cell_type": "code",
      "execution_count": 50,
      "id": "d273ef58",
      "metadata": {},
      "outputs": [
        {
          "data": {
            "text/plain": [
              "'122112'"
            ]
          },
          "execution_count": 50,
          "metadata": {},
          "output_type": "execute_result"
        }
      ],
      "source": [
        "# Remove -\n",
        "\n",
        "string=\"12-21-12 # commentssss\"\n",
        "# Replace non digits with none\n",
        "re.sub(r'\\D',\"\",string)"
      ]
    },
    {
      "cell_type": "markdown",
      "id": "e25da1d2",
      "metadata": {},
      "source": [
        "### Combining of group and sub"
      ]
    },
    {
      "cell_type": "markdown",
      "id": "7ee96572",
      "metadata": {},
      "source": [
        "- If in strings ,there are three numbers and you want to replace the third one,\n",
        "    1. group the results\n",
        "    2. get the third group\n",
        "    3. run re.sub on that"
      ]
    }
  ],
  "metadata": {
    "kernelspec": {
      "display_name": "Python 3",
      "language": "python",
      "name": "python3"
    },
    "language_info": {
      "codemirror_mode": {
        "name": "ipython",
        "version": 3
      },
      "file_extension": ".py",
      "mimetype": "text/x-python",
      "name": "python",
      "nbconvert_exporter": "python",
      "pygments_lexer": "ipython3",
      "version": "3.8.8"
    }
  },
  "nbformat": 4,
  "nbformat_minor": 5
}
