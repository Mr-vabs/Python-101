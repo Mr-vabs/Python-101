{
 "cells": [
  {
   "cell_type": "markdown",
   "id": "70f6756e",
   "metadata": {},
   "source": [
    "## SQL vs Pandas"
   ]
  },
  {
   "cell_type": "code",
   "execution_count": null,
   "id": "3e602cb7",
   "metadata": {},
   "outputs": [],
   "source": [
    "SELECT \n",
    "sum(total_bill),\n",
    "avg(size),\n",
    "min(tip),\n",
    "FROM \n",
    "  tips \n",
    "where tip>5\n",
    "Group by sex,day\n",
    "Order by total_bill desc,tip asc"
   ]
  }
 ],
 "metadata": {
  "kernelspec": {
   "display_name": "Python 3",
   "language": "python",
   "name": "python3"
  },
  "language_info": {
   "codemirror_mode": {
    "name": "ipython",
    "version": 3
   },
   "file_extension": ".py",
   "mimetype": "text/x-python",
   "name": "python",
   "nbconvert_exporter": "python",
   "pygments_lexer": "ipython3",
   "version": "3.8.8"
  }
 },
 "nbformat": 4,
 "nbformat_minor": 5
}
