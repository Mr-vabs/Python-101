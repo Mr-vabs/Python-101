{
 "cells": [
  {
   "cell_type": "markdown",
   "id": "d240914c",
   "metadata": {},
   "source": [
    "## Exceptional Handling"
   ]
  },
  {
   "cell_type": "markdown",
   "id": "3608d635",
   "metadata": {},
   "source": [
    "- In Python:\n",
    "    - Syntax errors or system errors(like out of memory)=Errors\n",
    "    - Logical erors=Exceptions\n",
    "    - Exceptions are triggered when error occurs\n",
    "    - We can handle these errors to avoid program to avoid"
   ]
  },
  {
   "cell_type": "markdown",
   "id": "452bab46",
   "metadata": {},
   "source": [
    "#### Python's Exceptions List"
   ]
  },
  {
   "cell_type": "markdown",
   "id": "37274896",
   "metadata": {},
   "source": [
    "| Name  | Description   |\n",
    "|---|---|\n",
    "| Name error  | If non existing variable is tried to be accessed  |\n",
    "| Value error  | If wrong value is passed in parameters ,eg sqrt(-5)   |\n",
    "| Type error  | If wrong data type is used |\n",
    "| Key error  | If non existing key is requested from dictionary  |\n",
    "| Attribute error  | If .property doesn't exist,eg obj.foo and foo doesn't exist  |\n",
    "| Index error  | If index out of datatype is tried to be accessed  |"
   ]
  },
  {
   "cell_type": "markdown",
   "id": "a6a76727",
   "metadata": {},
   "source": [
    "### Handling the exceptions to avoid flow/execution of code"
   ]
  },
  {
   "cell_type": "markdown",
   "id": "53b04d4c",
   "metadata": {},
   "source": [
    "try,catch ===> try except"
   ]
  },
  {
   "cell_type": "code",
   "execution_count": 4,
   "id": "4c2c9deb",
   "metadata": {},
   "outputs": [],
   "source": [
    "# value=a/b\n",
    "# This code can give errors if users gives 0 as b"
   ]
  },
  {
   "cell_type": "markdown",
   "id": "469175c9",
   "metadata": {},
   "source": [
    "![alt text for screen readers](https://res.cloudinary.com/dyd911kmh/image/upload/v1633675298/python-try-except-else-finally_doblhm.png)"
   ]
  },
  {
   "cell_type": "code",
   "execution_count": 2,
   "id": "ee7daf29",
   "metadata": {},
   "outputs": [
    {
     "name": "stdout",
     "output_type": "stream",
     "text": [
      "Any other generic exception\n"
     ]
    }
   ],
   "source": [
    "try:  # always\n",
    "    value=a/b\n",
    "    print(value)\n",
    "except ZeroDivisionError:  # if error\n",
    "    print('Division error')\n",
    "except:\n",
    "    print('Any other generic exception')\n",
    "else:  # If no error\n",
    "    print('No error')"
   ]
  }
 ],
 "metadata": {
  "kernelspec": {
   "display_name": "Python 3",
   "language": "python",
   "name": "python3"
  },
  "language_info": {
   "codemirror_mode": {
    "name": "ipython",
    "version": 3
   },
   "file_extension": ".py",
   "mimetype": "text/x-python",
   "name": "python",
   "nbconvert_exporter": "python",
   "pygments_lexer": "ipython3",
   "version": "3.8.8"
  }
 },
 "nbformat": 4,
 "nbformat_minor": 5
}
