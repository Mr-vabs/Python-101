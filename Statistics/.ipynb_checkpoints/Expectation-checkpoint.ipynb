{
 "cells": [
  {
   "cell_type": "markdown",
   "id": "33c0e5e2",
   "metadata": {},
   "source": [
    "### Expectation"
   ]
  },
  {
   "cell_type": "markdown",
   "id": "e3b4a895",
   "metadata": {},
   "source": [
    "- The expectation of a random variable is a number that attempts to capture the center of that random variable's distribution\n",
    "- Measure of centrality of variable"
   ]
  }
 ],
 "metadata": {
  "kernelspec": {
   "display_name": "Python 3",
   "language": "python",
   "name": "python3"
  },
  "language_info": {
   "codemirror_mode": {
    "name": "ipython",
    "version": 3
   },
   "file_extension": ".py",
   "mimetype": "text/x-python",
   "name": "python",
   "nbconvert_exporter": "python",
   "pygments_lexer": "ipython3",
   "version": "3.8.8"
  }
 },
 "nbformat": 4,
 "nbformat_minor": 5
}
