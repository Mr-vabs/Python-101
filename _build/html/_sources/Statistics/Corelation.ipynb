{
 "cells": [
  {
   "cell_type": "markdown",
   "id": "33c0e5e2",
   "metadata": {},
   "source": [
    "### Corelation"
   ]
  },
  {
   "cell_type": "markdown",
   "id": "e3b4a895",
   "metadata": {},
   "source": [
    "- Measure of the linear relationship between two variables\n",
    "    - Cosine of the angle formed by the ordinary least square line determined in both variable dimensions"
   ]
  },
  {
   "attachments": {},
   "cell_type": "markdown",
   "id": "501c010c",
   "metadata": {},
   "source": [
    "[![corelation.png](https://i.postimg.cc/Vk61SNbv/corelation.png)](https://postimg.cc/2VPgMrGN)"
   ]
  },
  {
   "cell_type": "code",
   "execution_count": null,
   "id": "cfda3247",
   "metadata": {},
   "outputs": [],
   "source": []
  }
 ],
 "metadata": {
  "kernelspec": {
   "display_name": "Python 3",
   "language": "python",
   "name": "python3"
  },
  "language_info": {
   "codemirror_mode": {
    "name": "ipython",
    "version": 3
   },
   "file_extension": ".py",
   "mimetype": "text/x-python",
   "name": "python",
   "nbconvert_exporter": "python",
   "pygments_lexer": "ipython3",
   "version": "3.8.8"
  }
 },
 "nbformat": 4,
 "nbformat_minor": 5
}
