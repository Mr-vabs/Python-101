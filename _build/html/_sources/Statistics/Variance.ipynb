{
 "cells": [
  {
   "cell_type": "markdown",
   "id": "33c0e5e2",
   "metadata": {},
   "source": [
    "### Variance"
   ]
  },
  {
   "cell_type": "markdown",
   "id": "e3b4a895",
   "metadata": {},
   "source": [
    "- measure of distribution of random variable\n",
    "- The average value of the squared difference between the random variable and its expectation\n",
    "    - Var(X)=E[(X−E[X])2]"
   ]
  }
 ],
 "metadata": {
  "kernelspec": {
   "display_name": "Python 3",
   "language": "python",
   "name": "python3"
  },
  "language_info": {
   "codemirror_mode": {
    "name": "ipython",
    "version": 3
   },
   "file_extension": ".py",
   "mimetype": "text/x-python",
   "name": "python",
   "nbconvert_exporter": "python",
   "pygments_lexer": "ipython3",
   "version": "3.8.8"
  }
 },
 "nbformat": 4,
 "nbformat_minor": 5
}
