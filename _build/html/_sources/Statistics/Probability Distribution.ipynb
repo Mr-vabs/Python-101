{
 "cells": [
  {
   "cell_type": "markdown",
   "id": "03e61c1e",
   "metadata": {},
   "source": [
    "## Probability Distribution"
   ]
  },
  {
   "cell_type": "markdown",
   "id": "3cb9cc03",
   "metadata": {},
   "source": [
    "## Types of Probability Distributions"
   ]
  },
  {
   "cell_type": "markdown",
   "id": "4ec5a2bc",
   "metadata": {},
   "source": [
    "- Uniform\n",
    "- Normal\n",
    "- Gaussian\n",
    "- Bernauli\n",
    "- Binomial\n",
    "- Posionn"
   ]
  },
  {
   "cell_type": "markdown",
   "id": "3d601883",
   "metadata": {},
   "source": [
    "QN - the population can be positively or negatively skewed, normal or non-normal???"
   ]
  }
 ],
 "metadata": {
  "kernelspec": {
   "display_name": "Python 3",
   "language": "python",
   "name": "python3"
  },
  "language_info": {
   "codemirror_mode": {
    "name": "ipython",
    "version": 3
   },
   "file_extension": ".py",
   "mimetype": "text/x-python",
   "name": "python",
   "nbconvert_exporter": "python",
   "pygments_lexer": "ipython3",
   "version": "3.8.8"
  }
 },
 "nbformat": 4,
 "nbformat_minor": 5
}
