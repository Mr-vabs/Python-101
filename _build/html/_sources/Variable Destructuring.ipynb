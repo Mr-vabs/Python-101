{
 "cells": [
  {
   "cell_type": "markdown",
   "id": "dfbb0eba",
   "metadata": {},
   "source": [
    "## Variable Destructuring"
   ]
  },
  {
   "cell_type": "code",
   "execution_count": 1,
   "id": "c47a8093",
   "metadata": {},
   "outputs": [],
   "source": [
    "a,b=5,10"
   ]
  },
  {
   "cell_type": "code",
   "execution_count": 2,
   "id": "bdd8fbbb",
   "metadata": {},
   "outputs": [
    {
     "name": "stdout",
     "output_type": "stream",
     "text": [
      "5\n",
      "10\n"
     ]
    }
   ],
   "source": [
    "print(a)\n",
    "print(b)"
   ]
  }
 ],
 "metadata": {
  "kernelspec": {
   "display_name": "Python 3",
   "language": "python",
   "name": "python3"
  },
  "language_info": {
   "codemirror_mode": {
    "name": "ipython",
    "version": 3
   },
   "file_extension": ".py",
   "mimetype": "text/x-python",
   "name": "python",
   "nbconvert_exporter": "python",
   "pygments_lexer": "ipython3",
   "version": "3.8.8"
  }
 },
 "nbformat": 4,
 "nbformat_minor": 5
}
