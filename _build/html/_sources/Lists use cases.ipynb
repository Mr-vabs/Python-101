{
 "cells": [
  {
   "cell_type": "markdown",
   "id": "d240914c",
   "metadata": {},
   "source": [
    "## Lists Use cases"
   ]
  },
  {
   "cell_type": "markdown",
   "id": "08e19d1f",
   "metadata": {},
   "source": [
    "### Check if entire list is sublist or not?"
   ]
  },
  {
   "cell_type": "markdown",
   "id": "70d4488a",
   "metadata": {},
   "source": [
    "#### Method 1 : using issubset()"
   ]
  },
  {
   "cell_type": "code",
   "execution_count": 13,
   "id": "a75744f2",
   "metadata": {},
   "outputs": [
    {
     "name": "stdout",
     "output_type": "stream",
     "text": [
      "True\n"
     ]
    }
   ],
   "source": [
    "list1=[1,2,3,4,5]\n",
    "list2=[2,3]\n",
    "\n",
    "# Logic:\n",
    "# We allready have issubset() inbuilt function\n",
    "# And this function only runs on sets\n",
    "# So first convert lists to subsets\n",
    "\n",
    "\n",
    "# using issubset()\n",
    "\n",
    "if(set(list2).issubset(set(list1))):\n",
    "    print(True)"
   ]
  },
  {
   "cell_type": "markdown",
   "id": "7d0441e7",
   "metadata": {},
   "source": [
    "#### Method  2 : using all() "
   ]
  },
  {
   "cell_type": "code",
   "execution_count": 22,
   "id": "51f06771",
   "metadata": {},
   "outputs": [
    {
     "name": "stdout",
     "output_type": "stream",
     "text": [
      "[False, False, True]\n"
     ]
    },
    {
     "data": {
      "text/plain": [
       "False"
      ]
     },
     "execution_count": 22,
     "metadata": {},
     "output_type": "execute_result"
    }
   ],
   "source": [
    "list1=[1,2,3,4,5]\n",
    "list2=[6,7,3]\n",
    "\n",
    "print([x in list1 for x in list2])\n",
    "all([x in list1 for x in list2])"
   ]
  },
  {
   "cell_type": "markdown",
   "id": "e5d43d2f",
   "metadata": {},
   "source": [
    "### Check if two lists are same or not"
   ]
  },
  {
   "cell_type": "markdown",
   "id": "49a93d17",
   "metadata": {},
   "source": [
    "You can directly use =="
   ]
  },
  {
   "cell_type": "code",
   "execution_count": 23,
   "id": "d3ffa38c",
   "metadata": {},
   "outputs": [
    {
     "name": "stdout",
     "output_type": "stream",
     "text": [
      "True\n"
     ]
    }
   ],
   "source": [
    "a=[1,2,3]\n",
    "b=[1,2,3]\n",
    "\n",
    "print(a==b)"
   ]
  },
  {
   "cell_type": "markdown",
   "id": "c85d0f23",
   "metadata": {},
   "source": [
    "#### Problem?\n",
    "What happens if lists are unordered?"
   ]
  },
  {
   "cell_type": "code",
   "execution_count": 24,
   "id": "7f11f88a",
   "metadata": {},
   "outputs": [
    {
     "name": "stdout",
     "output_type": "stream",
     "text": [
      "False\n"
     ]
    }
   ],
   "source": [
    "a=[1,2,3]\n",
    "b=[3,2,1]\n",
    "print(a==b) # !!!!"
   ]
  },
  {
   "cell_type": "markdown",
   "id": "cbe0e1e9",
   "metadata": {},
   "source": [
    "#### Solution\n",
    "So,we have to first sort the lists and then use the == to compare the lists"
   ]
  },
  {
   "cell_type": "code",
   "execution_count": 25,
   "id": "914c7af8",
   "metadata": {},
   "outputs": [
    {
     "name": "stdout",
     "output_type": "stream",
     "text": [
      "True\n"
     ]
    }
   ],
   "source": [
    "a=[1,2,3]\n",
    "b=[3,2,1]\n",
    "print(sorted(a)==sorted(b))"
   ]
  }
 ],
 "metadata": {
  "kernelspec": {
   "display_name": "Python 3",
   "language": "python",
   "name": "python3"
  },
  "language_info": {
   "codemirror_mode": {
    "name": "ipython",
    "version": 3
   },
   "file_extension": ".py",
   "mimetype": "text/x-python",
   "name": "python",
   "nbconvert_exporter": "python",
   "pygments_lexer": "ipython3",
   "version": "3.8.8"
  }
 },
 "nbformat": 4,
 "nbformat_minor": 5
}
