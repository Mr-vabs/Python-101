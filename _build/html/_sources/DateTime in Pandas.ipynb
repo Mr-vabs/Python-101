{
 "cells": [
  {
   "cell_type": "markdown",
   "id": "92f5ec54",
   "metadata": {},
   "source": [
    "## DateTime in Pandas "
   ]
  },
  {
   "cell_type": "code",
   "execution_count": 6,
   "id": "a5f093b4",
   "metadata": {},
   "outputs": [],
   "source": [
    "import pandas as pd\n",
    "df=pd.DataFrame({\n",
    "    \"Name\":['A','B','C'],\n",
    "    \"Dates\":['2020-03-22','2020-02-10','2020-07-16']\n",
    "    \n",
    "})"
   ]
  },
  {
   "cell_type": "code",
   "execution_count": 7,
   "id": "e91b1bce",
   "metadata": {},
   "outputs": [
    {
     "data": {
      "text/html": [
       "<div>\n",
       "<style scoped>\n",
       "    .dataframe tbody tr th:only-of-type {\n",
       "        vertical-align: middle;\n",
       "    }\n",
       "\n",
       "    .dataframe tbody tr th {\n",
       "        vertical-align: top;\n",
       "    }\n",
       "\n",
       "    .dataframe thead th {\n",
       "        text-align: right;\n",
       "    }\n",
       "</style>\n",
       "<table border=\"1\" class=\"dataframe\">\n",
       "  <thead>\n",
       "    <tr style=\"text-align: right;\">\n",
       "      <th></th>\n",
       "      <th>Name</th>\n",
       "      <th>Dates</th>\n",
       "    </tr>\n",
       "  </thead>\n",
       "  <tbody>\n",
       "    <tr>\n",
       "      <th>0</th>\n",
       "      <td>A</td>\n",
       "      <td>2020-03-22</td>\n",
       "    </tr>\n",
       "    <tr>\n",
       "      <th>1</th>\n",
       "      <td>B</td>\n",
       "      <td>2020-02-10</td>\n",
       "    </tr>\n",
       "    <tr>\n",
       "      <th>2</th>\n",
       "      <td>C</td>\n",
       "      <td>2020-07-16</td>\n",
       "    </tr>\n",
       "  </tbody>\n",
       "</table>\n",
       "</div>"
      ],
      "text/plain": [
       "  Name       Dates\n",
       "0    A  2020-03-22\n",
       "1    B  2020-02-10\n",
       "2    C  2020-07-16"
      ]
     },
     "execution_count": 7,
     "metadata": {},
     "output_type": "execute_result"
    }
   ],
   "source": [
    "df"
   ]
  },
  {
   "cell_type": "markdown",
   "id": "d14c18de",
   "metadata": {},
   "source": [
    "- First step should be to check if column is string or datetime"
   ]
  },
  {
   "cell_type": "code",
   "execution_count": 8,
   "id": "c66b24ec",
   "metadata": {},
   "outputs": [
    {
     "data": {
      "text/plain": [
       "Name     object\n",
       "Dates    object\n",
       "dtype: object"
      ]
     },
     "execution_count": 8,
     "metadata": {},
     "output_type": "execute_result"
    }
   ],
   "source": [
    "df.dtypes"
   ]
  },
  {
   "cell_type": "markdown",
   "id": "04b06d4d",
   "metadata": {},
   "source": [
    "- If not datetime, do this ```df['datetime column']=pd.to_datetime(df['datetime column'])```"
   ]
  },
  {
   "cell_type": "code",
   "execution_count": 9,
   "id": "885cad9a",
   "metadata": {},
   "outputs": [],
   "source": [
    "df['Dates']=pd.to_datetime(df['Dates'])"
   ]
  },
  {
   "cell_type": "code",
   "execution_count": 10,
   "id": "5637f6db",
   "metadata": {},
   "outputs": [
    {
     "data": {
      "text/html": [
       "<div>\n",
       "<style scoped>\n",
       "    .dataframe tbody tr th:only-of-type {\n",
       "        vertical-align: middle;\n",
       "    }\n",
       "\n",
       "    .dataframe tbody tr th {\n",
       "        vertical-align: top;\n",
       "    }\n",
       "\n",
       "    .dataframe thead th {\n",
       "        text-align: right;\n",
       "    }\n",
       "</style>\n",
       "<table border=\"1\" class=\"dataframe\">\n",
       "  <thead>\n",
       "    <tr style=\"text-align: right;\">\n",
       "      <th></th>\n",
       "      <th>Name</th>\n",
       "      <th>Dates</th>\n",
       "    </tr>\n",
       "  </thead>\n",
       "  <tbody>\n",
       "    <tr>\n",
       "      <th>0</th>\n",
       "      <td>A</td>\n",
       "      <td>2020-03-22</td>\n",
       "    </tr>\n",
       "    <tr>\n",
       "      <th>1</th>\n",
       "      <td>B</td>\n",
       "      <td>2020-02-10</td>\n",
       "    </tr>\n",
       "    <tr>\n",
       "      <th>2</th>\n",
       "      <td>C</td>\n",
       "      <td>2020-07-16</td>\n",
       "    </tr>\n",
       "  </tbody>\n",
       "</table>\n",
       "</div>"
      ],
      "text/plain": [
       "  Name      Dates\n",
       "0    A 2020-03-22\n",
       "1    B 2020-02-10\n",
       "2    C 2020-07-16"
      ]
     },
     "execution_count": 10,
     "metadata": {},
     "output_type": "execute_result"
    }
   ],
   "source": [
    "df"
   ]
  },
  {
   "cell_type": "code",
   "execution_count": 11,
   "id": "bd19d1a7",
   "metadata": {},
   "outputs": [
    {
     "data": {
      "text/plain": [
       "Name             object\n",
       "Dates    datetime64[ns]\n",
       "dtype: object"
      ]
     },
     "execution_count": 11,
     "metadata": {},
     "output_type": "execute_result"
    }
   ],
   "source": [
    "df.dtypes"
   ]
  },
  {
   "cell_type": "markdown",
   "id": "8da40b3f",
   "metadata": {},
   "source": [
    "### To specify date formats use format property"
   ]
  },
  {
   "cell_type": "markdown",
   "id": "759e8233",
   "metadata": {},
   "source": [
    "- pd.to_datetime(df['datetime column'],format=%d/%m/%Y)\n",
    "- pd.to_datetime(df['datetime column'],format=%d-%m-%Y)\n",
    "- pd.to_datetime(df['datetime column'],format=%d--%m--%Y)"
   ]
  },
  {
   "cell_type": "markdown",
   "id": "2236bbbd",
   "metadata": {},
   "source": [
    "### Note"
   ]
  },
  {
   "cell_type": "markdown",
   "id": "02f254ca",
   "metadata": {},
   "source": [
    "- % is used to specify each format code\n",
    "- %m → month\n",
    "- %d → day\n",
    "- %Y → year(4 digits)"
   ]
  },
  {
   "cell_type": "markdown",
   "id": "6bbeb97e",
   "metadata": {},
   "source": [
    "#### If the column type is datetime, you can do these things with that column(just make sure to write .dt before the metric you want)"
   ]
  },
  {
   "cell_type": "markdown",
   "id": "0b658b4e",
   "metadata": {},
   "source": [
    "- df['Datetime column'].dt.time\n",
    "- df['Datetime column'].dt.hour\n",
    "- df['Datetime column'].dt.minute\n",
    "- df['Datetime column'].dt.dayofyear\n",
    "- df['Datetime column'].dt.year\n",
    "- df['Datetime column'].dt.month\n",
    "- df['Datetime column'].dt.day\n",
    "- df['Datetime column'].dt.week\n",
    "- df['Datetime column'].dt.weekday\n",
    "- df['Datetime column'].dt.weekday_name"
   ]
  },
  {
   "cell_type": "markdown",
   "id": "f7e7aa7b",
   "metadata": {},
   "source": [
    "### Converting string to datetime"
   ]
  },
  {
   "cell_type": "code",
   "execution_count": 14,
   "id": "f9500612",
   "metadata": {},
   "outputs": [
    {
     "name": "stdout",
     "output_type": "stream",
     "text": [
      "2021-01-01 00:00:00\n"
     ]
    }
   ],
   "source": [
    "new_date=pd.to_datetime('1/1/2021')\n",
    "print(new_date)"
   ]
  },
  {
   "cell_type": "code",
   "execution_count": 15,
   "id": "170123ed",
   "metadata": {},
   "outputs": [],
   "source": [
    "df['New date column']=new_date"
   ]
  },
  {
   "cell_type": "code",
   "execution_count": 16,
   "id": "ba76ab30",
   "metadata": {},
   "outputs": [
    {
     "data": {
      "text/html": [
       "<div>\n",
       "<style scoped>\n",
       "    .dataframe tbody tr th:only-of-type {\n",
       "        vertical-align: middle;\n",
       "    }\n",
       "\n",
       "    .dataframe tbody tr th {\n",
       "        vertical-align: top;\n",
       "    }\n",
       "\n",
       "    .dataframe thead th {\n",
       "        text-align: right;\n",
       "    }\n",
       "</style>\n",
       "<table border=\"1\" class=\"dataframe\">\n",
       "  <thead>\n",
       "    <tr style=\"text-align: right;\">\n",
       "      <th></th>\n",
       "      <th>Name</th>\n",
       "      <th>Dates</th>\n",
       "      <th>New date column</th>\n",
       "    </tr>\n",
       "  </thead>\n",
       "  <tbody>\n",
       "    <tr>\n",
       "      <th>0</th>\n",
       "      <td>A</td>\n",
       "      <td>2020-03-22</td>\n",
       "      <td>2021-01-01</td>\n",
       "    </tr>\n",
       "    <tr>\n",
       "      <th>1</th>\n",
       "      <td>B</td>\n",
       "      <td>2020-02-10</td>\n",
       "      <td>2021-01-01</td>\n",
       "    </tr>\n",
       "    <tr>\n",
       "      <th>2</th>\n",
       "      <td>C</td>\n",
       "      <td>2020-07-16</td>\n",
       "      <td>2021-01-01</td>\n",
       "    </tr>\n",
       "  </tbody>\n",
       "</table>\n",
       "</div>"
      ],
      "text/plain": [
       "  Name      Dates New date column\n",
       "0    A 2020-03-22      2021-01-01\n",
       "1    B 2020-02-10      2021-01-01\n",
       "2    C 2020-07-16      2021-01-01"
      ]
     },
     "execution_count": 16,
     "metadata": {},
     "output_type": "execute_result"
    }
   ],
   "source": [
    "df"
   ]
  },
  {
   "cell_type": "code",
   "execution_count": 17,
   "id": "93f313ba",
   "metadata": {},
   "outputs": [
    {
     "data": {
      "text/plain": [
       "Name                       object\n",
       "Dates              datetime64[ns]\n",
       "New date column    datetime64[ns]\n",
       "dtype: object"
      ]
     },
     "execution_count": 17,
     "metadata": {},
     "output_type": "execute_result"
    }
   ],
   "source": [
    "df.dtypes"
   ]
  }
 ],
 "metadata": {
  "kernelspec": {
   "display_name": "Python 3",
   "language": "python",
   "name": "python3"
  },
  "language_info": {
   "codemirror_mode": {
    "name": "ipython",
    "version": 3
   },
   "file_extension": ".py",
   "mimetype": "text/x-python",
   "name": "python",
   "nbconvert_exporter": "python",
   "pygments_lexer": "ipython3",
   "version": "3.8.8"
  }
 },
 "nbformat": 4,
 "nbformat_minor": 5
}
