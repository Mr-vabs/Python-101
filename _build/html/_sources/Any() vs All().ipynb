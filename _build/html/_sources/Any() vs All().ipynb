{
 "cells": [
  {
   "cell_type": "markdown",
   "id": "70f6756e",
   "metadata": {},
   "source": [
    "## Any() vs All()"
   ]
  },
  {
   "cell_type": "markdown",
   "id": "be1a68f6",
   "metadata": {},
   "source": [
    "- any()\n",
    "    - Takes iterable\n",
    "        - Returns true if any element in iterable is true\n",
    "        - Else returns false\n",
    "\n",
    "- all()\n",
    "    - Takes iterable\n",
    "    - Returns true if all the elements in iterable are true\n",
    "    - Else returns false"
   ]
  },
  {
   "cell_type": "markdown",
   "id": "eff2745d",
   "metadata": {},
   "source": [
    "### .any()"
   ]
  },
  {
   "cell_type": "code",
   "execution_count": 9,
   "id": "c0bcdef8",
   "metadata": {},
   "outputs": [],
   "source": [
    "all_trues=[True,True,True,1==1]\n",
    "some_trues_some_falses=[True,False,True,True,False]\n",
    "all_falses=[False,[],(),{},0]"
   ]
  },
  {
   "cell_type": "code",
   "execution_count": 13,
   "id": "bbcb0402",
   "metadata": {},
   "outputs": [
    {
     "name": "stdout",
     "output_type": "stream",
     "text": [
      "True\n",
      "True\n"
     ]
    }
   ],
   "source": [
    "print(any(all_trues))\n",
    "print(all(all_trues))"
   ]
  },
  {
   "cell_type": "code",
   "execution_count": 14,
   "id": "d493404b",
   "metadata": {},
   "outputs": [
    {
     "name": "stdout",
     "output_type": "stream",
     "text": [
      "False\n",
      "False\n"
     ]
    }
   ],
   "source": [
    "print(any(all_falses))\n",
    "print(all(all_falses))"
   ]
  },
  {
   "cell_type": "code",
   "execution_count": 17,
   "id": "ca2661eb",
   "metadata": {},
   "outputs": [
    {
     "name": "stdout",
     "output_type": "stream",
     "text": [
      "True\n",
      "False\n"
     ]
    }
   ],
   "source": [
    "# This is where the difference comes\n",
    "\n",
    "# If you want True if any one of the iterable/condition  is True,like OR conditions,use ANY()\n",
    "# If you want True if all the iterable/condition are True,like AND conditions,use ALL()\n",
    "\n",
    "print(any(some_trues_some_falses))\n",
    "print(all(some_trues_some_falses))"
   ]
  },
  {
   "cell_type": "markdown",
   "id": "ccf3c9d8",
   "metadata": {},
   "source": [
    "### Use cases of any() and all()"
   ]
  },
  {
   "cell_type": "markdown",
   "id": "df6a4c01",
   "metadata": {},
   "source": [
    "#### Using multiple or conditions\n",
    "\n",
    "- if condition1 or condition2 or condition3 or condition4:\n",
    "    - do something\n",
    "    \n",
    "\n",
    "- conditions = (\n",
    "    condition1,\n",
    "    condition2,\n",
    "    condition3,\n",
    "    condition4\n",
    ")\n",
    "- if any(conditions):\n",
    "    - Do something here"
   ]
  },
  {
   "cell_type": "markdown",
   "id": "bf9c39c8",
   "metadata": {},
   "source": [
    "#### Using multiple and conditions\n",
    "\n",
    "- if condition1 or condition2 or condition3 or condition4:\n",
    "    - do something\n",
    "    \n",
    "\n",
    "- conditions = (\n",
    "    condition1,\n",
    "    condition2,\n",
    "    condition3,\n",
    "    condition4\n",
    ")\n",
    "- if any(conditions):\n",
    "    - Do something here"
   ]
  },
  {
   "cell_type": "code",
   "execution_count": null,
   "id": "636cdd67",
   "metadata": {},
   "outputs": [],
   "source": []
  }
 ],
 "metadata": {
  "kernelspec": {
   "display_name": "Python 3",
   "language": "python",
   "name": "python3"
  },
  "language_info": {
   "codemirror_mode": {
    "name": "ipython",
    "version": 3
   },
   "file_extension": ".py",
   "mimetype": "text/x-python",
   "name": "python",
   "nbconvert_exporter": "python",
   "pygments_lexer": "ipython3",
   "version": "3.8.8"
  }
 },
 "nbformat": 4,
 "nbformat_minor": 5
}
