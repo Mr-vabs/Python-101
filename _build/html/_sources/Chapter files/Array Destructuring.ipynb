{
 "cells": [
  {
   "cell_type": "markdown",
   "id": "39988c3f",
   "metadata": {},
   "source": [
    "## Array Destructuring"
   ]
  },
  {
   "cell_type": "markdown",
   "id": "a466a788",
   "metadata": {},
   "source": [
    "- Destructuring means extracting values at once\n",
    "- also called unpacking\n",
    "    - unpacking of sequence into item and list"
   ]
  },
  {
   "cell_type": "code",
   "execution_count": 2,
   "id": "e48893ce",
   "metadata": {},
   "outputs": [],
   "source": [
    "list=[1,2,3,4,5]"
   ]
  },
  {
   "cell_type": "code",
   "execution_count": 3,
   "id": "ceef4f6f",
   "metadata": {},
   "outputs": [],
   "source": [
    "a,b,c,d,e=list"
   ]
  },
  {
   "cell_type": "code",
   "execution_count": 5,
   "id": "5f84be2b",
   "metadata": {},
   "outputs": [
    {
     "name": "stdout",
     "output_type": "stream",
     "text": [
      "a= 1\n",
      "b= 2\n",
      "c= 3\n",
      "d= 4\n",
      "e= 5\n"
     ]
    }
   ],
   "source": [
    "print('a=',a)\n",
    "print('b=',b)\n",
    "print('c=',c)\n",
    "print('d=',d)\n",
    "print('e=',e)"
   ]
  },
  {
   "cell_type": "markdown",
   "id": "12da249b",
   "metadata": {},
   "source": [
    "### Getting last item"
   ]
  },
  {
   "cell_type": "code",
   "execution_count": 6,
   "id": "6dc38e20",
   "metadata": {},
   "outputs": [],
   "source": [
    "a,*b=list"
   ]
  },
  {
   "cell_type": "code",
   "execution_count": 7,
   "id": "b848e840",
   "metadata": {},
   "outputs": [
    {
     "name": "stdout",
     "output_type": "stream",
     "text": [
      "1\n",
      "[2, 3, 4, 5]\n"
     ]
    }
   ],
   "source": [
    "print(a)\n",
    "print(b)"
   ]
  },
  {
   "cell_type": "markdown",
   "id": "07b23a5a",
   "metadata": {},
   "source": [
    "### Getting Fist item"
   ]
  },
  {
   "cell_type": "code",
   "execution_count": 8,
   "id": "43155c71",
   "metadata": {},
   "outputs": [],
   "source": [
    "*a,b=list"
   ]
  },
  {
   "cell_type": "code",
   "execution_count": 9,
   "id": "2ea05d86",
   "metadata": {},
   "outputs": [
    {
     "name": "stdout",
     "output_type": "stream",
     "text": [
      "1 2 3 4\n",
      "5\n"
     ]
    }
   ],
   "source": [
    "print(*a)\n",
    "print(b)"
   ]
  },
  {
   "cell_type": "markdown",
   "id": "34bcafde",
   "metadata": {},
   "source": [
    "### Getting first,middle and last elements"
   ]
  },
  {
   "cell_type": "code",
   "execution_count": 10,
   "id": "25e6566d",
   "metadata": {},
   "outputs": [
    {
     "name": "stdout",
     "output_type": "stream",
     "text": [
      "1\n",
      "2 3 4\n",
      "5\n"
     ]
    }
   ],
   "source": [
    "head,*mid,tail=list\n",
    "print(head)\n",
    "print(*mid)\n",
    "print(tail)"
   ]
  }
 ],
 "metadata": {
  "kernelspec": {
   "display_name": "Python 3",
   "language": "python",
   "name": "python3"
  },
  "language_info": {
   "codemirror_mode": {
    "name": "ipython",
    "version": 3
   },
   "file_extension": ".py",
   "mimetype": "text/x-python",
   "name": "python",
   "nbconvert_exporter": "python",
   "pygments_lexer": "ipython3",
   "version": "3.8.8"
  }
 },
 "nbformat": 4,
 "nbformat_minor": 5
}
