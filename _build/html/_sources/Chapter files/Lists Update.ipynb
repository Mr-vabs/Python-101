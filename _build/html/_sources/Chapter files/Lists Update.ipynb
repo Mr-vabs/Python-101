{
 "cells": [
  {
   "cell_type": "markdown",
   "id": "31e14143",
   "metadata": {},
   "source": [
    "## Update Elements"
   ]
  },
  {
   "cell_type": "code",
   "execution_count": 6,
   "id": "4fd8fcaa",
   "metadata": {},
   "outputs": [],
   "source": [
    "names=['Sahil','Sonia','Sourav']\n",
    "age=[10,20,30]"
   ]
  },
  {
   "cell_type": "markdown",
   "id": "2a62ba08",
   "metadata": {},
   "source": [
    "### Update based on position of element"
   ]
  },
  {
   "cell_type": "code",
   "execution_count": 7,
   "id": "e446c774",
   "metadata": {},
   "outputs": [
    {
     "data": {
      "text/plain": [
       "['Sahil Choudhary', 'Sonia', 'Sourav']"
      ]
     },
     "execution_count": 7,
     "metadata": {},
     "output_type": "execute_result"
    }
   ],
   "source": [
    "names[0]='Sahil Choudhary'\n",
    "names"
   ]
  },
  {
   "cell_type": "markdown",
   "id": "8320f51c",
   "metadata": {},
   "source": [
    "### Update based on value of elements"
   ]
  },
  {
   "cell_type": "code",
   "execution_count": 9,
   "id": "b736a0eb",
   "metadata": {},
   "outputs": [
    {
     "data": {
      "text/plain": [
       "['Sonia Choudhary', 'Sonia Choudhary', 'Sourav']"
      ]
     },
     "execution_count": 9,
     "metadata": {},
     "output_type": "execute_result"
    }
   ],
   "source": [
    "for index,x in enumerate(names):\n",
    "    if \"Sonia\" in names:\n",
    "        names[index]='Sonia Choudhary'\n",
    "names"
   ]
  }
 ],
 "metadata": {
  "kernelspec": {
   "display_name": "Python 3",
   "language": "python",
   "name": "python3"
  },
  "language_info": {
   "codemirror_mode": {
    "name": "ipython",
    "version": 3
   },
   "file_extension": ".py",
   "mimetype": "text/x-python",
   "name": "python",
   "nbconvert_exporter": "python",
   "pygments_lexer": "ipython3",
   "version": "3.8.8"
  }
 },
 "nbformat": 4,
 "nbformat_minor": 5
}
