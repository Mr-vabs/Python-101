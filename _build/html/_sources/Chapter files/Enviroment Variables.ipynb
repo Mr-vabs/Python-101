{
 "cells": [
  {
   "cell_type": "markdown",
   "id": "ec78990c",
   "metadata": {},
   "source": [
    "## Enviroment Variables"
   ]
  },
  {
   "cell_type": "markdown",
   "id": "2e384b73",
   "metadata": {},
   "source": [
    "- Passwords,API Keys should not be placed in code\n",
    "- These should be saved in enviroment variables\n",
    "- Replace original passwords by variables and in enviroment variables,set the value of these variables"
   ]
  },
  {
   "cell_type": "code",
   "execution_count": 1,
   "id": "5a72aa4c",
   "metadata": {},
   "outputs": [],
   "source": [
    "db_user='secret_user'\n",
    "db_password='secret_password'"
   ]
  },
  {
   "cell_type": "markdown",
   "id": "ffd8bbe5",
   "metadata": {},
   "source": [
    "### Setting Enviroment variables"
   ]
  },
  {
   "cell_type": "markdown",
   "id": "125982c8",
   "metadata": {},
   "source": [
    "- Open Control panel>System and Security>System>Advanced system settings>Enviroment variables\n",
    "- In user variables>Create new {variable name:variable value}\n",
    "    - {secret_user:sahil}\n",
    "    - {secret_password:pass}\n",
    "- Restart IDE"
   ]
  },
  {
   "cell_type": "markdown",
   "id": "2f50ec17",
   "metadata": {},
   "source": [
    "### Accessing the Enviroment variables"
   ]
  },
  {
   "cell_type": "markdown",
   "id": "e28cb360",
   "metadata": {},
   "source": [
    "- To access env variables,use os module\n",
    "- db_user=os.environ.get('secret_user')\n",
    "- db_password=os.environ.get('secret_pass')"
   ]
  },
  {
   "cell_type": "code",
   "execution_count": null,
   "id": "38679dc8",
   "metadata": {},
   "outputs": [],
   "source": []
  }
 ],
 "metadata": {
  "kernelspec": {
   "display_name": "Python 3",
   "language": "python",
   "name": "python3"
  },
  "language_info": {
   "codemirror_mode": {
    "name": "ipython",
    "version": 3
   },
   "file_extension": ".py",
   "mimetype": "text/x-python",
   "name": "python",
   "nbconvert_exporter": "python",
   "pygments_lexer": "ipython3",
   "version": "3.8.8"
  }
 },
 "nbformat": 4,
 "nbformat_minor": 5
}
