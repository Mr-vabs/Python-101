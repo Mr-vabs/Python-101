{
 "cells": [
  {
   "cell_type": "markdown",
   "id": "d240914c",
   "metadata": {},
   "source": [
    "## Changing Datatypes of Python's inbuilt types"
   ]
  },
  {
   "cell_type": "markdown",
   "id": "44eb33c8",
   "metadata": {},
   "source": [
    "#### Changing Python's data types of values\n",
    "    - Values means single elements\n",
    "        - The data types present in python (string/float/int/list)\n",
    "        - The data types present in pandas (series/dataframe/column) can't be done by this"
   ]
  },
  {
   "cell_type": "markdown",
   "id": "05bdca4c",
   "metadata": {},
   "source": [
    "#### Converting one data type to other"
   ]
  },
  {
   "cell_type": "code",
   "execution_count": 1,
   "id": "82d9ee22",
   "metadata": {},
   "outputs": [
    {
     "data": {
      "text/plain": [
       "['s', 'a', 'h', 'i', 'l']"
      ]
     },
     "execution_count": 1,
     "metadata": {},
     "output_type": "execute_result"
    }
   ],
   "source": [
    "list('sahil')"
   ]
  },
  {
   "cell_type": "code",
   "execution_count": 2,
   "id": "7c059271",
   "metadata": {},
   "outputs": [
    {
     "data": {
      "text/plain": [
       "['cat', 'dog']"
      ]
     },
     "execution_count": 2,
     "metadata": {},
     "output_type": "execute_result"
    }
   ],
   "source": [
    "list(('cat','dog'))"
   ]
  },
  {
   "cell_type": "code",
   "execution_count": 3,
   "id": "6915f644",
   "metadata": {},
   "outputs": [
    {
     "data": {
      "text/plain": [
       "('cat', 'dog')"
      ]
     },
     "execution_count": 3,
     "metadata": {},
     "output_type": "execute_result"
    }
   ],
   "source": [
    "tuple(['cat','dog'])"
   ]
  },
  {
   "cell_type": "code",
   "execution_count": 10,
   "id": "02b8f0d4",
   "metadata": {},
   "outputs": [
    {
     "data": {
      "text/plain": [
       "1.0"
      ]
     },
     "execution_count": 10,
     "metadata": {},
     "output_type": "execute_result"
    }
   ],
   "source": [
    "float(1)"
   ]
  },
  {
   "cell_type": "code",
   "execution_count": 9,
   "id": "c8671c27",
   "metadata": {},
   "outputs": [
    {
     "data": {
      "text/plain": [
       "1"
      ]
     },
     "execution_count": 9,
     "metadata": {},
     "output_type": "execute_result"
    }
   ],
   "source": [
    "int('001')"
   ]
  },
  {
   "cell_type": "markdown",
   "id": "b0b9c1f6",
   "metadata": {},
   "source": [
    "- Note : Integer do not consider leading zeroes. So it automatically got removed"
   ]
  },
  {
   "cell_type": "code",
   "execution_count": 1,
   "id": "3f3d96ec",
   "metadata": {},
   "outputs": [
    {
     "data": {
      "text/plain": [
       "15"
      ]
     },
     "execution_count": 1,
     "metadata": {},
     "output_type": "execute_result"
    }
   ],
   "source": [
    "int(15.78)"
   ]
  },
  {
   "cell_type": "markdown",
   "id": "de891321",
   "metadata": {},
   "source": [
    "- Note : int on floats just removes the decimal part"
   ]
  },
  {
   "cell_type": "code",
   "execution_count": 5,
   "id": "77b05701",
   "metadata": {},
   "outputs": [
    {
     "data": {
      "text/plain": [
       "'1.2'"
      ]
     },
     "execution_count": 5,
     "metadata": {},
     "output_type": "execute_result"
    }
   ],
   "source": [
    "str(1.2)"
   ]
  },
  {
   "cell_type": "code",
   "execution_count": 4,
   "id": "7465799c",
   "metadata": {},
   "outputs": [
    {
     "data": {
      "text/plain": [
       "\"['sahil']\""
      ]
     },
     "execution_count": 4,
     "metadata": {},
     "output_type": "execute_result"
    }
   ],
   "source": [
    "str(['sahil'])"
   ]
  },
  {
   "cell_type": "code",
   "execution_count": 7,
   "id": "a8a31c22",
   "metadata": {},
   "outputs": [
    {
     "data": {
      "text/plain": [
       "'001'"
      ]
     },
     "execution_count": 7,
     "metadata": {},
     "output_type": "execute_result"
    }
   ],
   "source": [
    "str('001')"
   ]
  }
 ],
 "metadata": {
  "kernelspec": {
   "display_name": "Python 3",
   "language": "python",
   "name": "python3"
  },
  "language_info": {
   "codemirror_mode": {
    "name": "ipython",
    "version": 3
   },
   "file_extension": ".py",
   "mimetype": "text/x-python",
   "name": "python",
   "nbconvert_exporter": "python",
   "pygments_lexer": "ipython3",
   "version": "3.8.8"
  }
 },
 "nbformat": 4,
 "nbformat_minor": 5
}
