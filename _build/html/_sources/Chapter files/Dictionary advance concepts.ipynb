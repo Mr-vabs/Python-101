{
 "cells": [
  {
   "cell_type": "markdown",
   "id": "c50b316a",
   "metadata": {},
   "source": [
    "## Dictionary Advance concepts"
   ]
  },
  {
   "cell_type": "markdown",
   "id": "b542bcd7",
   "metadata": {},
   "source": [
    "### Problems with dict"
   ]
  },
  {
   "cell_type": "code",
   "execution_count": 15,
   "id": "6b97ed58",
   "metadata": {},
   "outputs": [],
   "source": [
    "dict1={\n",
    "    'a':10,\n",
    "    'b':20,\n",
    "    'c':30,\n",
    "    'd':40,\n",
    "    'e':50\n",
    "}"
   ]
  },
  {
   "cell_type": "code",
   "execution_count": 16,
   "id": "e7d38d4a",
   "metadata": {},
   "outputs": [
    {
     "data": {
      "text/plain": [
       "10"
      ]
     },
     "execution_count": 16,
     "metadata": {},
     "output_type": "execute_result"
    }
   ],
   "source": [
    "dict1['a']"
   ]
  },
  {
   "cell_type": "code",
   "execution_count": 1,
   "id": "72c2d688",
   "metadata": {},
   "outputs": [
    {
     "ename": "NameError",
     "evalue": "name 'dict1' is not defined",
     "output_type": "error",
     "traceback": [
      "\u001b[1;31m---------------------------------------------------------------------------\u001b[0m",
      "\u001b[1;31mNameError\u001b[0m                                 Traceback (most recent call last)",
      "\u001b[1;32m<ipython-input-1-89dc212f8477>\u001b[0m in \u001b[0;36m<module>\u001b[1;34m\u001b[0m\n\u001b[1;32m----> 1\u001b[1;33m \u001b[0mdict1\u001b[0m\u001b[1;33m[\u001b[0m\u001b[1;34m'f'\u001b[0m\u001b[1;33m]\u001b[0m\u001b[1;33m\u001b[0m\u001b[1;33m\u001b[0m\u001b[0m\n\u001b[0m\u001b[0;32m      2\u001b[0m \u001b[1;33m\u001b[0m\u001b[0m\n\u001b[0;32m      3\u001b[0m \u001b[1;31m# It throws an error\u001b[0m\u001b[1;33m\u001b[0m\u001b[1;33m\u001b[0m\u001b[1;33m\u001b[0m\u001b[0m\n",
      "\u001b[1;31mNameError\u001b[0m: name 'dict1' is not defined"
     ]
    }
   ],
   "source": [
    "dict1['f']\n",
    "\n",
    "# It throws an error"
   ]
  },
  {
   "cell_type": "markdown",
   "id": "297353d7",
   "metadata": {},
   "source": [
    "### Solution"
   ]
  },
  {
   "cell_type": "markdown",
   "id": "f500523c",
   "metadata": {},
   "source": [
    "- dict.get\n",
    "- defaultdict - sets its default for the entire dict \n",
    "- dict.setdefault() - sets its default per element"
   ]
  },
  {
   "cell_type": "markdown",
   "id": "2208c8f3",
   "metadata": {},
   "source": [
    "#### Why to use dict.get() instead of dict[key]"
   ]
  },
  {
   "cell_type": "markdown",
   "id": "41fd7b90",
   "metadata": {},
   "source": [
    "- If you use dict[key],it is prone to errors if that key isn't present in dictionary as we saw above\n",
    "- So you can use dict.get(),it won't give error even if key isn't present.\n",
    "   - It will just say None if you haven't specified anything\n",
    "   - It will return the value if you have specified anything\n",
    "- dict.setdefault is like dict.get, but it'll <b>set given default value to the key</b> if it doesn't already exist\n",
    "    - It is not very famous,default dict is more used\n",
    "- defaultdict will automatically populate every key with a default value\n",
    "\n",
    "\n",
    "- <b>defaultdict vs setdefault:</b>\n",
    "    - both sets the default vales for keys if those keys don't exist in order to avoid getting errors\n",
    "    - The difference is:\n",
    "        - dict.setdefault() - sets its default per element\n",
    "        - defaultdict - sets its default for the entire dict "
   ]
  },
  {
   "cell_type": "markdown",
   "id": "246d66fc",
   "metadata": {},
   "source": [
    "### dict.get()"
   ]
  },
  {
   "cell_type": "markdown",
   "id": "b04e05bf",
   "metadata": {},
   "source": [
    "#### Syntax "
   ]
  },
  {
   "cell_type": "markdown",
   "id": "178403e7",
   "metadata": {},
   "source": [
    "dict1.get(key[, default_value])"
   ]
  },
  {
   "cell_type": "code",
   "execution_count": 35,
   "id": "b95680be",
   "metadata": {},
   "outputs": [
    {
     "name": "stdout",
     "output_type": "stream",
     "text": [
      "10\n",
      "None\n",
      "f is not present\n"
     ]
    }
   ],
   "source": [
    "dict1={\n",
    "    'a':10,\n",
    "    'b':20\n",
    "}\n",
    "print(dict1.get('a'))\n",
    "print(dict1.get('f'))\n",
    "print(dict1.get('f','f is not present'))"
   ]
  },
  {
   "cell_type": "markdown",
   "id": "eddc9cbe",
   "metadata": {},
   "source": [
    "### dict.setdefault()"
   ]
  },
  {
   "cell_type": "markdown",
   "id": "d8f17260",
   "metadata": {},
   "source": [
    "### Syntax"
   ]
  },
  {
   "cell_type": "markdown",
   "id": "b8fd08b7",
   "metadata": {},
   "source": [
    "dict.setdefault(key[, default_value])\n",
    "- returns:\n",
    "    - value of the key if it is in the dictionary\n",
    "    - None if the key is not in the dictionary and default_value is not specified\n",
    "    - default_value if key is not in the dictionary and default_value is specified"
   ]
  },
  {
   "cell_type": "markdown",
   "id": "b742dcba",
   "metadata": {},
   "source": [
    "#### When key is present in the dictionary"
   ]
  },
  {
   "cell_type": "code",
   "execution_count": 42,
   "id": "b9a251ff",
   "metadata": {},
   "outputs": [
    {
     "name": "stdout",
     "output_type": "stream",
     "text": [
      "10\n",
      "{'a': 10, 'b': 20}\n"
     ]
    }
   ],
   "source": [
    "dict1={\n",
    "    'a':10,\n",
    "    'b':20\n",
    "}\n",
    "print(dict1.setdefault('a')) #not a usecase\n",
    "print(dict1)"
   ]
  },
  {
   "cell_type": "markdown",
   "id": "1d5d1565",
   "metadata": {},
   "source": [
    "#### When key is not present in the dictionary"
   ]
  },
  {
   "cell_type": "markdown",
   "id": "0a3a936c",
   "metadata": {},
   "source": [
    "- when value isn't passed"
   ]
  },
  {
   "cell_type": "code",
   "execution_count": 43,
   "id": "da49325a",
   "metadata": {},
   "outputs": [
    {
     "name": "stdout",
     "output_type": "stream",
     "text": [
      "None\n",
      "{'a': 10, 'b': 20, 'g': None}\n"
     ]
    }
   ],
   "source": [
    "print(dict1.setdefault('g'))\n",
    "print(dict1)"
   ]
  },
  {
   "cell_type": "markdown",
   "id": "fc802405",
   "metadata": {},
   "source": [
    "- when value is passed"
   ]
  },
  {
   "cell_type": "code",
   "execution_count": 44,
   "id": "43bed6b5",
   "metadata": {},
   "outputs": [
    {
     "name": "stdout",
     "output_type": "stream",
     "text": [
      "None\n",
      "{'a': 10, 'b': 20, 'g': None}\n"
     ]
    }
   ],
   "source": [
    "print(dict1.setdefault('g','30'))  #actual usecase\n",
    "print(dict1)"
   ]
  },
  {
   "cell_type": "markdown",
   "id": "f5ffbb7f",
   "metadata": {},
   "source": [
    "### defaultdict"
   ]
  },
  {
   "cell_type": "markdown",
   "id": "837217f9",
   "metadata": {},
   "source": [
    "- Usually, a Python dictionary throws a KeyError if you try to get an item with a key that is not currently in the dictionary. \n",
    "- The defaultdict in contrast will simply create any items that you try to access (provided of course they do not exist yet). \n",
    "\n",
    "\n",
    "- defaultdict is a datatype( not present in default python,needs importing) like dict with Default Values where you’ll never get a KeyError"
   ]
  },
  {
   "cell_type": "code",
   "execution_count": 53,
   "id": "f8499e39",
   "metadata": {},
   "outputs": [
    {
     "name": "stdout",
     "output_type": "stream",
     "text": [
      "defaultdict(<function <lambda> at 0x000001D1518BE940>, {'a': 10, 'b': 20})\n",
      "20\n",
      "1\n",
      "defaultdict(<function <lambda> at 0x000001D1518BE940>, {'a': 10, 'b': 20, 'c': 1})\n"
     ]
    }
   ],
   "source": [
    "# importing defaultdict from collections\n",
    "from collections import defaultdict\n",
    "\n",
    "# initializing them\n",
    "dict1 = defaultdict(lambda: 1) # setting custom defalt value manually\n",
    "\n",
    "# defaultdict(int)   # As int has been passed as default, any unknown key will return 0 by default\n",
    "# defaultdict(float) # The Default Value is \"0.0\"\n",
    "# defaultdict(str)   # The Default Value is \"\"\n",
    "\n",
    "dict1['a']=10\n",
    "dict1['b']=20\n",
    "print(dict1)\n",
    "print(dict1['b'])\n",
    "print(dict1['c'])\n",
    "print(dict1)"
   ]
  },
  {
   "cell_type": "markdown",
   "id": "d7ab965c",
   "metadata": {},
   "source": [
    "### Use case of list in defaultdict"
   ]
  },
  {
   "cell_type": "markdown",
   "id": "9ac2d8ac",
   "metadata": {},
   "source": [
    "- In dictionaries,keys are unique,means only one key with same name can exist\n",
    "- Even if you try to add two keys of same name,previous one will be removed automatically\n",
    "- So if you want that two keys of same name can exist and if they do,append those in list,we can use this below logic"
   ]
  },
  {
   "cell_type": "code",
   "execution_count": 100,
   "id": "477feddb",
   "metadata": {},
   "outputs": [],
   "source": [
    "dict1 = defaultdict(list)\n",
    "d=[('a',10),('b',20),('a',30)]"
   ]
  },
  {
   "cell_type": "code",
   "execution_count": 103,
   "id": "68bd4d4c",
   "metadata": {},
   "outputs": [],
   "source": [
    "for i,j in d:\n",
    "    dict1[i].append(j)"
   ]
  },
  {
   "cell_type": "code",
   "execution_count": 102,
   "id": "99755b4b",
   "metadata": {},
   "outputs": [
    {
     "data": {
      "text/plain": [
       "defaultdict(list, {'a': [10, 30], 'b': [20]})"
      ]
     },
     "execution_count": 102,
     "metadata": {},
     "output_type": "execute_result"
    }
   ],
   "source": [
    "dict1"
   ]
  }
 ],
 "metadata": {
  "kernelspec": {
   "display_name": "Python 3",
   "language": "python",
   "name": "python3"
  },
  "language_info": {
   "codemirror_mode": {
    "name": "ipython",
    "version": 3
   },
   "file_extension": ".py",
   "mimetype": "text/x-python",
   "name": "python",
   "nbconvert_exporter": "python",
   "pygments_lexer": "ipython3",
   "version": "3.8.8"
  }
 },
 "nbformat": 4,
 "nbformat_minor": 5
}
