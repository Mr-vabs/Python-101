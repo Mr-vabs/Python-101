{
 "cells": [
  {
   "cell_type": "markdown",
   "id": "d240914c",
   "metadata": {},
   "source": [
    "## List Slicing"
   ]
  },
  {
   "cell_type": "code",
   "execution_count": 1,
   "id": "4fd8fcaa",
   "metadata": {},
   "outputs": [],
   "source": [
    "names=['Sahil','Sonia','Sourav','Deepak','Vishal']\n",
    "age=[1,2,3]"
   ]
  },
  {
   "cell_type": "markdown",
   "id": "6230e1ea",
   "metadata": {},
   "source": [
    "### Syntax"
   ]
  },
  {
   "cell_type": "markdown",
   "id": "372e0519",
   "metadata": {},
   "source": [
    "- names[starting index:ending index:step]\n",
    "    - starting index means where to start from\n",
    "        - is inclusive\n",
    "        - if omitted,python assumes you want to start from begining\n",
    "    - ending index \n",
    "        - is exclusive if specified\n",
    "            - if specified,python goes till this index-1\n",
    "            - if not specified,python goes till this index(means till end)\n",
    "        - if omitted,python assumes you want to go till end\n",
    "    - step\n",
    "        - Be default 1\n",
    "            - 1 means go from left to right (forwards)\n",
    "            - -1 means go from right to left (backwards)\n",
    "            - 2 or n means steps,skipping\n",
    "                -used to get elements at even/odd positions or every n'th position\n",
    "                \n",
    "- <b>INTUITION:</b> Start/End at given position,going from left to right(or opp) and move till start/end/(last/begining if nothing given)"
   ]
  },
  {
   "cell_type": "markdown",
   "id": "acfaf2f5",
   "metadata": {},
   "source": [
    "#### Get Indexes based on element"
   ]
  },
  {
   "cell_type": "code",
   "execution_count": 2,
   "id": "6006e51e",
   "metadata": {},
   "outputs": [
    {
     "data": {
      "text/plain": [
       "3"
      ]
     },
     "execution_count": 2,
     "metadata": {},
     "output_type": "execute_result"
    }
   ],
   "source": [
    "names.index('Deepak')"
   ]
  },
  {
   "cell_type": "markdown",
   "id": "a13f6549",
   "metadata": {},
   "source": [
    "### Traversing from left to right"
   ]
  },
  {
   "cell_type": "code",
   "execution_count": 3,
   "id": "eea15842",
   "metadata": {},
   "outputs": [
    {
     "data": {
      "text/plain": [
       "['Sahil', 'Sonia', 'Sourav', 'Deepak', 'Vishal']"
      ]
     },
     "execution_count": 3,
     "metadata": {},
     "output_type": "execute_result"
    }
   ],
   "source": [
    "names[:]\n",
    "# or names[0:len(names)]\n",
    "# or [ i for i in names]    \n",
    "# Note 1:we generally prefer comprehension for iterations of lists\n",
    "# Note 2:we generally don't use list comprehensions for strings"
   ]
  },
  {
   "cell_type": "markdown",
   "id": "10f3a034",
   "metadata": {},
   "source": [
    "### Traversing from right to left"
   ]
  },
  {
   "cell_type": "code",
   "execution_count": 4,
   "id": "29c2128a",
   "metadata": {},
   "outputs": [
    {
     "data": {
      "text/plain": [
       "['Vishal', 'Deepak', 'Sourav', 'Sonia', 'Sahil']"
      ]
     },
     "execution_count": 4,
     "metadata": {},
     "output_type": "execute_result"
    }
   ],
   "source": [
    "names[::-1]\n",
    "# or [i for i in names[::-1]]"
   ]
  },
  {
   "cell_type": "markdown",
   "id": "baaea347",
   "metadata": {},
   "source": [
    "### Getting First Element"
   ]
  },
  {
   "cell_type": "code",
   "execution_count": 5,
   "id": "b3e1a088",
   "metadata": {},
   "outputs": [
    {
     "data": {
      "text/plain": [
       "'Sahil'"
      ]
     },
     "execution_count": 5,
     "metadata": {},
     "output_type": "execute_result"
    }
   ],
   "source": [
    "names[0]"
   ]
  },
  {
   "cell_type": "markdown",
   "id": "769a93b8",
   "metadata": {},
   "source": [
    "### Getting Second element"
   ]
  },
  {
   "cell_type": "code",
   "execution_count": 6,
   "id": "bf8f2793",
   "metadata": {},
   "outputs": [
    {
     "data": {
      "text/plain": [
       "'Sonia'"
      ]
     },
     "execution_count": 6,
     "metadata": {},
     "output_type": "execute_result"
    }
   ],
   "source": [
    "names[1]"
   ]
  },
  {
   "cell_type": "markdown",
   "id": "5f37fe01",
   "metadata": {},
   "source": [
    "### Getting first 3 elements"
   ]
  },
  {
   "cell_type": "code",
   "execution_count": 7,
   "id": "567ac110",
   "metadata": {},
   "outputs": [
    {
     "data": {
      "text/plain": [
       "['Sahil', 'Sonia', 'Sourav']"
      ]
     },
     "execution_count": 7,
     "metadata": {},
     "output_type": "execute_result"
    }
   ],
   "source": [
    "names[0:3]"
   ]
  },
  {
   "cell_type": "markdown",
   "id": "52e912e1",
   "metadata": {},
   "source": [
    "### Getting last element"
   ]
  },
  {
   "cell_type": "code",
   "execution_count": 8,
   "id": "d75afd34",
   "metadata": {},
   "outputs": [
    {
     "data": {
      "text/plain": [
       "'Vishal'"
      ]
     },
     "execution_count": 8,
     "metadata": {},
     "output_type": "execute_result"
    }
   ],
   "source": [
    "names[-1]"
   ]
  },
  {
   "cell_type": "markdown",
   "id": "9260ba52",
   "metadata": {},
   "source": [
    "### Getting second last element"
   ]
  },
  {
   "cell_type": "code",
   "execution_count": 9,
   "id": "7ad76699",
   "metadata": {},
   "outputs": [
    {
     "data": {
      "text/plain": [
       "'Deepak'"
      ]
     },
     "execution_count": 9,
     "metadata": {},
     "output_type": "execute_result"
    }
   ],
   "source": [
    "names[-2]"
   ]
  },
  {
   "cell_type": "markdown",
   "id": "a1393f0a",
   "metadata": {},
   "source": [
    "### Getting last 3 elements"
   ]
  },
  {
   "cell_type": "code",
   "execution_count": 10,
   "id": "8b323ff0",
   "metadata": {},
   "outputs": [
    {
     "data": {
      "text/plain": [
       "['Sourav', 'Deepak', 'Vishal']"
      ]
     },
     "execution_count": 10,
     "metadata": {},
     "output_type": "execute_result"
    }
   ],
   "source": [
    "names[-3:]"
   ]
  },
  {
   "cell_type": "markdown",
   "id": "ee2ea1f2",
   "metadata": {},
   "source": [
    "### Getting Last elements index"
   ]
  },
  {
   "cell_type": "code",
   "execution_count": 11,
   "id": "4217683c",
   "metadata": {},
   "outputs": [
    {
     "data": {
      "text/plain": [
       "4"
      ]
     },
     "execution_count": 11,
     "metadata": {},
     "output_type": "execute_result"
    }
   ],
   "source": [
    "len(names)-1"
   ]
  },
  {
   "cell_type": "markdown",
   "id": "40909180",
   "metadata": {},
   "source": [
    "### Give me elements based on index"
   ]
  },
  {
   "cell_type": "code",
   "execution_count": 12,
   "id": "0f426635",
   "metadata": {},
   "outputs": [
    {
     "data": {
      "text/plain": [
       "['Sonia', 'Sourav', 'Deepak']"
      ]
     },
     "execution_count": 12,
     "metadata": {},
     "output_type": "execute_result"
    }
   ],
   "source": [
    "# eg,give me sonia,sourav,deepak\n",
    "names=['Sahil','Sonia','Sourav','Deepak','Vishal']\n",
    "names[names.index('Sonia'):names.index('Vishal')]  # last index is exclusive so I wrote visal"
   ]
  },
  {
   "cell_type": "markdown",
   "id": "c07b76ff",
   "metadata": {},
   "source": [
    "### Give me all even indexes"
   ]
  },
  {
   "cell_type": "code",
   "execution_count": 13,
   "id": "35c2d599",
   "metadata": {},
   "outputs": [
    {
     "data": {
      "text/plain": [
       "['Sahil', 'Sourav', 'Vishal']"
      ]
     },
     "execution_count": 13,
     "metadata": {},
     "output_type": "execute_result"
    }
   ],
   "source": [
    "names[::2]"
   ]
  },
  {
   "cell_type": "markdown",
   "id": "e7ad3dc4",
   "metadata": {},
   "source": [
    "### Give me all old indexes"
   ]
  },
  {
   "cell_type": "code",
   "execution_count": 14,
   "id": "a7018168",
   "metadata": {},
   "outputs": [
    {
     "data": {
      "text/plain": [
       "['Sahil', 'Deepak']"
      ]
     },
     "execution_count": 14,
     "metadata": {},
     "output_type": "execute_result"
    }
   ],
   "source": [
    "names[::3]"
   ]
  },
  {
   "cell_type": "code",
   "execution_count": 15,
   "id": "4940a352",
   "metadata": {},
   "outputs": [
    {
     "ename": "SyntaxError",
     "evalue": "invalid syntax (<ipython-input-15-1e59d761b404>, line 1)",
     "output_type": "error",
     "traceback": [
      "\u001b[1;36m  File \u001b[1;32m\"<ipython-input-15-1e59d761b404>\"\u001b[1;36m, line \u001b[1;32m1\u001b[0m\n\u001b[1;33m    Give me the nth elements\u001b[0m\n\u001b[1;37m          ^\u001b[0m\n\u001b[1;31mSyntaxError\u001b[0m\u001b[1;31m:\u001b[0m invalid syntax\n"
     ]
    }
   ],
   "source": [
    "Give me the nth elements"
   ]
  },
  {
   "cell_type": "code",
   "execution_count": null,
   "id": "740dbbbf",
   "metadata": {},
   "outputs": [],
   "source": [
    "names[::2] # 2 can be replaced by N"
   ]
  },
  {
   "cell_type": "markdown",
   "id": "88db067d",
   "metadata": {},
   "source": [
    "# Summary"
   ]
  },
  {
   "cell_type": "code",
   "execution_count": null,
   "id": "5c375570",
   "metadata": {},
   "outputs": [],
   "source": [
    "#   0 1 2 3 4 5 6 7 8  (these are also indexes but positive) positive means from start\n",
    "a= [1,2,3,4,5,6,7,8,9]\n",
    "#  -9-8-7-6-5-4-3-2-1  (these are also indexes but negative) negative means from end\n",
    "\n",
    "# ---\n",
    "\n",
    "#INTUITION:\n",
    "# Start/End at given position,going from left to right(or opp) and move till start/end/(last/begining if nothing given)\n",
    "\n",
    "# ---\n",
    "\n",
    "# Using positive indexes\n",
    "a[2] #3\n",
    "a[2:4] # start from 2,end at 4 and go left to right ,[3,4] since last index is exclusive\n",
    "a[2:] # start from 2 and go left to right  ,[3,4,5,6,7,8,9]\n",
    "\n",
    "# Using negative indexes\n",
    "a[-2] # 8\n",
    "a[-4:-2] # start from -4,go left to right(because step=1 by default) and end at -2 and  # [6,7]\n",
    "a[-2:-4] # start from -2,go from left to right(because step=1 by default) and end at -4 and,not possible,so wont give anything\n",
    "a[-2:] # start from -2,go from left to right(because step=1 by default) #[8,9]\n",
    "a[:-2] # end at -2 going from left to right, [1, 2, 3, 4, 5, 6, 7],but 8 isn't included since stop index isn't included\n",
    "\n",
    "# Using steps (means two columns will come into picture)\n",
    "# if two colons aren't specified,means stepis one means go forward\n",
    "a[::1] # start from begining, go from left to right ,go till end , [1, 2, 3, 4, 5, 6, 7, 8, 9]\n",
    "a[::-1] # start from ending, go from right to left,go till end, [9, 8, 7, 6, 5, 4, 3, 2, 1]\n",
    "a[1::-1] # start from 1st index,go from right to left and end at last ,[2, 1]\n",
    "a[:-3:-1] # end at -3,go from right to left , [9,8]\n",
    "a[-3::-1] # start at -3,go from right to left , [7, 6, 5, 4, 3, 2, 1]"
   ]
  },
  {
   "cell_type": "code",
   "execution_count": null,
   "id": "e842ce86",
   "metadata": {},
   "outputs": [],
   "source": []
  }
 ],
 "metadata": {
  "kernelspec": {
   "display_name": "Python 3",
   "language": "python",
   "name": "python3"
  },
  "language_info": {
   "codemirror_mode": {
    "name": "ipython",
    "version": 3
   },
   "file_extension": ".py",
   "mimetype": "text/x-python",
   "name": "python",
   "nbconvert_exporter": "python",
   "pygments_lexer": "ipython3",
   "version": "3.7.7"
  }
 },
 "nbformat": 4,
 "nbformat_minor": 5
}