{
 "cells": [
  {
   "cell_type": "markdown",
   "id": "4526368c",
   "metadata": {},
   "source": [
    "## Working with Text files"
   ]
  },
  {
   "cell_type": "markdown",
   "id": "0932ec2e",
   "metadata": {},
   "source": [
    "- Pypi is like npm\n",
    "- you can upload your own libraries here and others can install using pip"
   ]
  },
  {
   "cell_type": "markdown",
   "id": "a9413b95",
   "metadata": {},
   "source": [
    "### Setting up your own package"
   ]
  },
  {
   "cell_type": "code",
   "execution_count": 1,
   "id": "5c0bc1cf",
   "metadata": {},
   "outputs": [
    {
     "ename": "SyntaxError",
     "evalue": "invalid syntax (<ipython-input-1-793428c33ef0>, line 1)",
     "output_type": "error",
     "traceback": [
      "\u001b[1;36m  File \u001b[1;32m\"<ipython-input-1-793428c33ef0>\"\u001b[1;36m, line \u001b[1;32m1\u001b[0m\n\u001b[1;33m    - create new folder\u001b[0m\n\u001b[1;37m               ^\u001b[0m\n\u001b[1;31mSyntaxError\u001b[0m\u001b[1;31m:\u001b[0m invalid syntax\n"
     ]
    }
   ],
   "source": [
    "- create new folder\n",
    "    - create new folder\n",
    "        - setup.py code\n",
    "        - readme.txt\n",
    "        - license.txt\n",
    "    - config.txt\n",
    "    - __main__.py ->\n",
    "    - __init__.py -> root of package->keep the version here \n",
    "    - feed.py -> code file\n",
    "    - viewer.py -> code file"
   ]
  },
  {
   "cell_type": "code",
   "execution_count": null,
   "id": "ce001ea6",
   "metadata": {},
   "outputs": [],
   "source": []
  },
  {
   "cell_type": "code",
   "execution_count": null,
   "id": "541a4500",
   "metadata": {},
   "outputs": [],
   "source": [
    "###"
   ]
  },
  {
   "cell_type": "code",
   "execution_count": null,
   "id": "19064b6b",
   "metadata": {},
   "outputs": [],
   "source": [
    "from setuptools import setup,find_package\n",
    "setup(name=\"packagesahil\",\n",
    "     vesion=\"0.1\",\n",
    "     description=\"This is code with Sahil\",\n",
    "     long_description=\"long description\",\n",
    "     author=\"\",\n",
    "     packages=['packagesahil'],\n",
    "     install_requires=[])"
   ]
  },
  {
   "cell_type": "code",
   "execution_count": null,
   "id": "bf47d95d",
   "metadata": {},
   "outputs": [],
   "source": []
  }
 ],
 "metadata": {
  "kernelspec": {
   "display_name": "Python 3",
   "language": "python",
   "name": "python3"
  },
  "language_info": {
   "codemirror_mode": {
    "name": "ipython",
    "version": 3
   },
   "file_extension": ".py",
   "mimetype": "text/x-python",
   "name": "python",
   "nbconvert_exporter": "python",
   "pygments_lexer": "ipython3",
   "version": "3.7.7"
  }
 },
 "nbformat": 4,
 "nbformat_minor": 5
}