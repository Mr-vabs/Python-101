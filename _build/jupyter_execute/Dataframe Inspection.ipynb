{
 "cells": [
  {
   "cell_type": "markdown",
   "id": "92f5ec54",
   "metadata": {},
   "source": [
    "## Dataframe Inspection"
   ]
  },
  {
   "cell_type": "code",
   "execution_count": 1,
   "id": "06e8f3f1",
   "metadata": {},
   "outputs": [],
   "source": [
    "import pandas as pd\n",
    "import numpy as np"
   ]
  },
  {
   "cell_type": "markdown",
   "id": "2c8354d9",
   "metadata": {},
   "source": [
    "| Description      | Syntax |\n",
    "| ----------- | ----------- |\n",
    "| Check number of rows and columns      | df.shape       |\n",
    "| Check number of elements   | df.size        |\n",
    "| Check number of columns   | len(df.columns)        |\n",
    "| Check list of all the columns   | df.columns        |\n",
    "| Check datatype of all the columns   | df.dtypes        |\n",
    "| Check datatype of one column  | df.dtype        |\n"
   ]
  }
 ],
 "metadata": {
  "kernelspec": {
   "display_name": "Python 3",
   "language": "python",
   "name": "python3"
  },
  "language_info": {
   "codemirror_mode": {
    "name": "ipython",
    "version": 3
   },
   "file_extension": ".py",
   "mimetype": "text/x-python",
   "name": "python",
   "nbconvert_exporter": "python",
   "pygments_lexer": "ipython3",
   "version": "3.7.7"
  }
 },
 "nbformat": 4,
 "nbformat_minor": 5
}