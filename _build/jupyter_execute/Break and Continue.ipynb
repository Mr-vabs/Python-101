{
 "cells": [
  {
   "cell_type": "markdown",
   "id": "d240914c",
   "metadata": {},
   "source": [
    "## Break and Continue"
   ]
  },
  {
   "cell_type": "markdown",
   "id": "05bdca4c",
   "metadata": {},
   "source": [
    "- When break is reached,program <b>immediately exits</b> that loop\n",
    "- When continue is reached,program jumps to start of that loop\n",
    "    - <b>next iteration</b>"
   ]
  },
  {
   "cell_type": "markdown",
   "id": "08e19d1f",
   "metadata": {},
   "source": [
    "### Example"
   ]
  },
  {
   "cell_type": "code",
   "execution_count": 1,
   "id": "a75744f2",
   "metadata": {},
   "outputs": [],
   "source": [
    "def login():\n",
    "    while True:\n",
    "        print('enter name of admin')\n",
    "        name=input()\n",
    "        if name!='sahil':\n",
    "            continue\n",
    "        print('Hello Admin,enter password')\n",
    "        password=input()\n",
    "        if password=='sahil':\n",
    "            break\n",
    "    print('Access Granted !!')"
   ]
  }
 ],
 "metadata": {
  "kernelspec": {
   "display_name": "Python 3",
   "language": "python",
   "name": "python3"
  },
  "language_info": {
   "codemirror_mode": {
    "name": "ipython",
    "version": 3
   },
   "file_extension": ".py",
   "mimetype": "text/x-python",
   "name": "python",
   "nbconvert_exporter": "python",
   "pygments_lexer": "ipython3",
   "version": "3.7.7"
  }
 },
 "nbformat": 4,
 "nbformat_minor": 5
}