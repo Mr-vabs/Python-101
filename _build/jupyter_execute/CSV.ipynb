{
 "cells": [
  {
   "cell_type": "markdown",
   "id": "c8a1d790",
   "metadata": {},
   "source": [
    "### Working with CSV files"
   ]
  },
  {
   "cell_type": "markdown",
   "id": "8b658076",
   "metadata": {},
   "source": [
    "### How does  a csv file looks?"
   ]
  },
  {
   "cell_type": "markdown",
   "id": "7f11e2a7",
   "metadata": {},
   "source": [
    "Name,Hire Date,Salary,Sick Days remaining\n",
    "\n",
    "Graham Chapman,03/15/14,50000.00,10\n",
    "\n",
    "John Cleese,06/01/15,65000.00,8\n",
    "\n",
    "Eric Idle,05/12/14,45000.00,10\n",
    "\n",
    "Terry Jones,11/01/13,70000.00,3\n",
    "\n",
    "Terry Gilliam,08/12/14,48000.00,7\n",
    "\n",
    "Michael Palin,05/23/13,66000.00,8"
   ]
  },
  {
   "cell_type": "markdown",
   "id": "96eb867a",
   "metadata": {},
   "source": [
    "Functions to play with csvs are present in Pandas,so import pandas"
   ]
  },
  {
   "cell_type": "code",
   "execution_count": 1,
   "id": "f7f9fa5d",
   "metadata": {},
   "outputs": [],
   "source": [
    "import pandas as pd"
   ]
  },
  {
   "cell_type": "markdown",
   "id": "85bf38d2",
   "metadata": {},
   "source": [
    "### Reading a csv file into dataframe"
   ]
  },
  {
   "cell_type": "code",
   "execution_count": 2,
   "id": "f6519f05",
   "metadata": {},
   "outputs": [
    {
     "name": "stdout",
     "output_type": "stream",
     "text": [
      "             Name Hire Date   Salary  Sick Days remaining\n",
      "0  Graham Chapman  03/15/14  50000.0                   10\n",
      "1     John Cleese  06/01/15  65000.0                    8\n",
      "2       Eric Idle  05/12/14  45000.0                   10\n",
      "3     Terry Jones  11/01/13  70000.0                    3\n",
      "4   Terry Gilliam  08/12/14  48000.0                    7\n",
      "5   Michael Palin  05/23/13  66000.0                    8\n"
     ]
    }
   ],
   "source": [
    "df = pd.read_csv('demo.csv')\n",
    "print(df)"
   ]
  },
  {
   "cell_type": "markdown",
   "id": "2b193e57",
   "metadata": {},
   "source": [
    "### Skip the number of lines at the start of the file"
   ]
  },
  {
   "cell_type": "code",
   "execution_count": 3,
   "id": "8755a5a5",
   "metadata": {},
   "outputs": [
    {
     "data": {
      "text/html": [
       "<div>\n",
       "<style scoped>\n",
       "    .dataframe tbody tr th:only-of-type {\n",
       "        vertical-align: middle;\n",
       "    }\n",
       "\n",
       "    .dataframe tbody tr th {\n",
       "        vertical-align: top;\n",
       "    }\n",
       "\n",
       "    .dataframe thead th {\n",
       "        text-align: right;\n",
       "    }\n",
       "</style>\n",
       "<table border=\"1\" class=\"dataframe\">\n",
       "  <thead>\n",
       "    <tr style=\"text-align: right;\">\n",
       "      <th></th>\n",
       "      <th>Graham Chapman</th>\n",
       "      <th>03/15/14</th>\n",
       "      <th>50000.00</th>\n",
       "      <th>10</th>\n",
       "    </tr>\n",
       "  </thead>\n",
       "  <tbody>\n",
       "    <tr>\n",
       "      <th>0</th>\n",
       "      <td>John Cleese</td>\n",
       "      <td>06/01/15</td>\n",
       "      <td>65000.0</td>\n",
       "      <td>8</td>\n",
       "    </tr>\n",
       "    <tr>\n",
       "      <th>1</th>\n",
       "      <td>Eric Idle</td>\n",
       "      <td>05/12/14</td>\n",
       "      <td>45000.0</td>\n",
       "      <td>10</td>\n",
       "    </tr>\n",
       "    <tr>\n",
       "      <th>2</th>\n",
       "      <td>Terry Jones</td>\n",
       "      <td>11/01/13</td>\n",
       "      <td>70000.0</td>\n",
       "      <td>3</td>\n",
       "    </tr>\n",
       "    <tr>\n",
       "      <th>3</th>\n",
       "      <td>Terry Gilliam</td>\n",
       "      <td>08/12/14</td>\n",
       "      <td>48000.0</td>\n",
       "      <td>7</td>\n",
       "    </tr>\n",
       "    <tr>\n",
       "      <th>4</th>\n",
       "      <td>Michael Palin</td>\n",
       "      <td>05/23/13</td>\n",
       "      <td>66000.0</td>\n",
       "      <td>8</td>\n",
       "    </tr>\n",
       "  </tbody>\n",
       "</table>\n",
       "</div>"
      ],
      "text/plain": [
       "  Graham Chapman  03/15/14  50000.00  10\n",
       "0    John Cleese  06/01/15   65000.0   8\n",
       "1      Eric Idle  05/12/14   45000.0  10\n",
       "2    Terry Jones  11/01/13   70000.0   3\n",
       "3  Terry Gilliam  08/12/14   48000.0   7\n",
       "4  Michael Palin  05/23/13   66000.0   8"
      ]
     },
     "execution_count": 3,
     "metadata": {},
     "output_type": "execute_result"
    }
   ],
   "source": [
    "pd.read_csv(\"demo.csv\", skiprows = 1)"
   ]
  },
  {
   "cell_type": "markdown",
   "id": "774917ba",
   "metadata": {},
   "source": [
    "### Getting only some columns while importing"
   ]
  },
  {
   "cell_type": "code",
   "execution_count": 4,
   "id": "7a26e966",
   "metadata": {},
   "outputs": [
    {
     "data": {
      "text/html": [
       "<div>\n",
       "<style scoped>\n",
       "    .dataframe tbody tr th:only-of-type {\n",
       "        vertical-align: middle;\n",
       "    }\n",
       "\n",
       "    .dataframe tbody tr th {\n",
       "        vertical-align: top;\n",
       "    }\n",
       "\n",
       "    .dataframe thead th {\n",
       "        text-align: right;\n",
       "    }\n",
       "</style>\n",
       "<table border=\"1\" class=\"dataframe\">\n",
       "  <thead>\n",
       "    <tr style=\"text-align: right;\">\n",
       "      <th></th>\n",
       "      <th>Name</th>\n",
       "      <th>Salary</th>\n",
       "    </tr>\n",
       "  </thead>\n",
       "  <tbody>\n",
       "    <tr>\n",
       "      <th>0</th>\n",
       "      <td>Graham Chapman</td>\n",
       "      <td>50000.0</td>\n",
       "    </tr>\n",
       "    <tr>\n",
       "      <th>1</th>\n",
       "      <td>John Cleese</td>\n",
       "      <td>65000.0</td>\n",
       "    </tr>\n",
       "    <tr>\n",
       "      <th>2</th>\n",
       "      <td>Eric Idle</td>\n",
       "      <td>45000.0</td>\n",
       "    </tr>\n",
       "    <tr>\n",
       "      <th>3</th>\n",
       "      <td>Terry Jones</td>\n",
       "      <td>70000.0</td>\n",
       "    </tr>\n",
       "    <tr>\n",
       "      <th>4</th>\n",
       "      <td>Terry Gilliam</td>\n",
       "      <td>48000.0</td>\n",
       "    </tr>\n",
       "    <tr>\n",
       "      <th>5</th>\n",
       "      <td>Michael Palin</td>\n",
       "      <td>66000.0</td>\n",
       "    </tr>\n",
       "  </tbody>\n",
       "</table>\n",
       "</div>"
      ],
      "text/plain": [
       "             Name   Salary\n",
       "0  Graham Chapman  50000.0\n",
       "1     John Cleese  65000.0\n",
       "2       Eric Idle  45000.0\n",
       "3     Terry Jones  70000.0\n",
       "4   Terry Gilliam  48000.0\n",
       "5   Michael Palin  66000.0"
      ]
     },
     "execution_count": 4,
     "metadata": {},
     "output_type": "execute_result"
    }
   ],
   "source": [
    "pd.read_csv('demo.csv',usecols=['Name','Salary']) # you can also use indexes as 0,1,2,3"
   ]
  },
  {
   "cell_type": "markdown",
   "id": "05045753",
   "metadata": {},
   "source": [
    "### Specifying the data type explictly while importing"
   ]
  },
  {
   "cell_type": "code",
   "execution_count": 5,
   "id": "cf94dc44",
   "metadata": {},
   "outputs": [
    {
     "name": "stdout",
     "output_type": "stream",
     "text": [
      "Name                    object\n",
      "Hire Date               object\n",
      "Salary                 float64\n",
      "Sick Days remaining      int64\n",
      "dtype: object\n"
     ]
    }
   ],
   "source": [
    "df=pd.read_csv('demo.csv',dtype={'Salary': float,'Name': str})\n",
    "print(df.dtypes)"
   ]
  },
  {
   "cell_type": "markdown",
   "id": "58229282",
   "metadata": {},
   "source": [
    "### Parsing date columns as dates instead of objects(which is the default behaviour)"
   ]
  },
  {
   "cell_type": "code",
   "execution_count": 6,
   "id": "c2b44165",
   "metadata": {},
   "outputs": [
    {
     "data": {
      "text/plain": [
       "Name                           object\n",
       "Hire Date              datetime64[ns]\n",
       "Salary                        float64\n",
       "Sick Days remaining             int64\n",
       "dtype: object"
      ]
     },
     "execution_count": 6,
     "metadata": {},
     "output_type": "execute_result"
    }
   ],
   "source": [
    "df = pd.read_csv('demo.csv', parse_dates=['Hire Date'])\n",
    "df.dtypes"
   ]
  },
  {
   "cell_type": "markdown",
   "id": "9f3324ca",
   "metadata": {},
   "source": [
    "### Saving the Dataframe as csv"
   ]
  },
  {
   "cell_type": "code",
   "execution_count": 7,
   "id": "e6b83df0",
   "metadata": {},
   "outputs": [],
   "source": [
    "df.to_csv('demo2.csv',index=False) # The index false removes the first column of 0,1,2,3 that was added by default"
   ]
  }
 ],
 "metadata": {
  "kernelspec": {
   "display_name": "Python 3",
   "language": "python",
   "name": "python3"
  },
  "language_info": {
   "codemirror_mode": {
    "name": "ipython",
    "version": 3
   },
   "file_extension": ".py",
   "mimetype": "text/x-python",
   "name": "python",
   "nbconvert_exporter": "python",
   "pygments_lexer": "ipython3",
   "version": "3.7.7"
  }
 },
 "nbformat": 4,
 "nbformat_minor": 5
}