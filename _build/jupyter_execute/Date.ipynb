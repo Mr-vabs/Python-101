{
 "cells": [
  {
   "cell_type": "markdown",
   "id": "92f5ec54",
   "metadata": {},
   "source": [
    "## Date"
   ]
  },
  {
   "cell_type": "markdown",
   "id": "1366ab07",
   "metadata": {},
   "source": [
    "### Create a date"
   ]
  },
  {
   "cell_type": "markdown",
   "id": "05790e58",
   "metadata": {},
   "source": [
    "#### Create any date"
   ]
  },
  {
   "cell_type": "code",
   "execution_count": 1,
   "id": "da992f09",
   "metadata": {},
   "outputs": [
    {
     "data": {
      "text/plain": [
       "datetime.date(2021, 7, 24)"
      ]
     },
     "execution_count": 1,
     "metadata": {},
     "output_type": "execute_result"
    }
   ],
   "source": [
    "import datetime\n",
    "datetime.date(2021,7,24) "
   ]
  },
  {
   "cell_type": "markdown",
   "id": "90034bfc",
   "metadata": {},
   "source": [
    "#### Create today's date"
   ]
  },
  {
   "cell_type": "code",
   "execution_count": 2,
   "id": "f1cebcf5",
   "metadata": {},
   "outputs": [
    {
     "data": {
      "text/plain": [
       "datetime.date(2022, 3, 20)"
      ]
     },
     "execution_count": 2,
     "metadata": {},
     "output_type": "execute_result"
    }
   ],
   "source": [
    "d=datetime.date.today()\n",
    "d"
   ]
  },
  {
   "cell_type": "markdown",
   "id": "3affba22",
   "metadata": {},
   "source": [
    "- If you want to specify timezone,use .now() instead of today()\n",
    "- Don't add leading leading zeroes yourself, it will cause syntax error"
   ]
  },
  {
   "cell_type": "markdown",
   "id": "5f3ef0d2",
   "metadata": {},
   "source": [
    "#### When date is created, you will need to get its components too"
   ]
  },
  {
   "cell_type": "markdown",
   "id": "3f76d650",
   "metadata": {},
   "source": [
    "### Get Date's components"
   ]
  },
  {
   "cell_type": "code",
   "execution_count": 3,
   "id": "198d7239",
   "metadata": {},
   "outputs": [
    {
     "data": {
      "text/plain": [
       "2022"
      ]
     },
     "execution_count": 3,
     "metadata": {},
     "output_type": "execute_result"
    }
   ],
   "source": [
    "d.year"
   ]
  },
  {
   "cell_type": "code",
   "execution_count": 4,
   "id": "b3f3d21e",
   "metadata": {},
   "outputs": [
    {
     "data": {
      "text/plain": [
       "3"
      ]
     },
     "execution_count": 4,
     "metadata": {},
     "output_type": "execute_result"
    }
   ],
   "source": [
    "d.month"
   ]
  },
  {
   "cell_type": "code",
   "execution_count": 5,
   "id": "f7cd10a6",
   "metadata": {},
   "outputs": [
    {
     "data": {
      "text/plain": [
       "20"
      ]
     },
     "execution_count": 5,
     "metadata": {},
     "output_type": "execute_result"
    }
   ],
   "source": [
    "d.day"
   ]
  },
  {
   "cell_type": "code",
   "execution_count": 6,
   "id": "1dea6387",
   "metadata": {},
   "outputs": [
    {
     "data": {
      "text/plain": [
       "<function date.isoweekday>"
      ]
     },
     "execution_count": 6,
     "metadata": {},
     "output_type": "execute_result"
    }
   ],
   "source": [
    "d.isoweekday"
   ]
  }
 ],
 "metadata": {
  "kernelspec": {
   "display_name": "Python 3",
   "language": "python",
   "name": "python3"
  },
  "language_info": {
   "codemirror_mode": {
    "name": "ipython",
    "version": 3
   },
   "file_extension": ".py",
   "mimetype": "text/x-python",
   "name": "python",
   "nbconvert_exporter": "python",
   "pygments_lexer": "ipython3",
   "version": "3.7.7"
  }
 },
 "nbformat": 4,
 "nbformat_minor": 5
}