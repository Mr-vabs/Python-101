{
 "cells": [
  {
   "cell_type": "markdown",
   "id": "92f5ec54",
   "metadata": {},
   "source": [
    "## SQL vs Pandas"
   ]
  },
  {
   "cell_type": "code",
   "execution_count": 1,
   "id": "06e8f3f1",
   "metadata": {},
   "outputs": [],
   "source": [
    "import pandas as pd\n",
    "import numpy as np"
   ]
  },
  {
   "cell_type": "code",
   "execution_count": 2,
   "id": "373789d6",
   "metadata": {},
   "outputs": [
    {
     "data": {
      "text/html": [
       "<div>\n",
       "<style scoped>\n",
       "    .dataframe tbody tr th:only-of-type {\n",
       "        vertical-align: middle;\n",
       "    }\n",
       "\n",
       "    .dataframe tbody tr th {\n",
       "        vertical-align: top;\n",
       "    }\n",
       "\n",
       "    .dataframe thead th {\n",
       "        text-align: right;\n",
       "    }\n",
       "</style>\n",
       "<table border=\"1\" class=\"dataframe\">\n",
       "  <thead>\n",
       "    <tr style=\"text-align: right;\">\n",
       "      <th></th>\n",
       "      <th>Name</th>\n",
       "      <th>Age</th>\n",
       "      <th>Gender</th>\n",
       "      <th>City</th>\n",
       "      <th>Work</th>\n",
       "    </tr>\n",
       "  </thead>\n",
       "  <tbody>\n",
       "    <tr>\n",
       "      <th>0</th>\n",
       "      <td>Sahil</td>\n",
       "      <td>10</td>\n",
       "      <td>M</td>\n",
       "      <td>J</td>\n",
       "      <td>True</td>\n",
       "    </tr>\n",
       "    <tr>\n",
       "      <th>1</th>\n",
       "      <td>Sonia</td>\n",
       "      <td>20</td>\n",
       "      <td>F</td>\n",
       "      <td>K</td>\n",
       "      <td>False</td>\n",
       "    </tr>\n",
       "    <tr>\n",
       "      <th>2</th>\n",
       "      <td>Sourav</td>\n",
       "      <td>30</td>\n",
       "      <td>M</td>\n",
       "      <td>L</td>\n",
       "      <td>False</td>\n",
       "    </tr>\n",
       "    <tr>\n",
       "      <th>3</th>\n",
       "      <td>Vishal</td>\n",
       "      <td>40</td>\n",
       "      <td>M</td>\n",
       "      <td>P</td>\n",
       "      <td>True</td>\n",
       "    </tr>\n",
       "  </tbody>\n",
       "</table>\n",
       "</div>"
      ],
      "text/plain": [
       "     Name  Age Gender City   Work\n",
       "0   Sahil   10      M    J   True\n",
       "1   Sonia   20      F    K  False\n",
       "2  Sourav   30      M    L  False\n",
       "3  Vishal   40      M    P   True"
      ]
     },
     "execution_count": 2,
     "metadata": {},
     "output_type": "execute_result"
    }
   ],
   "source": [
    "df=pd.DataFrame({\n",
    "'Name':['Sahil','Sonia','Sourav','Vishal'],\n",
    "'Age':[10,20,30,40],\n",
    "'Gender':['M','F','M','M'],\n",
    "'City':['J','K','L','P'],\n",
    "'Work':[True,False,False,True]\n",
    "}\n",
    ")\n",
    "df"
   ]
  },
  {
   "cell_type": "markdown",
   "id": "10024a2a",
   "metadata": {},
   "source": [
    "### SQL vs Pandas - Basics"
   ]
  },
  {
   "cell_type": "markdown",
   "id": "defb0e85",
   "metadata": {},
   "source": [
    "- Select * from Table\n",
    "    - ```df```\n",
    "    \n",
    "    \n",
    "- Select **name** from Table\n",
    "    - ```df['name'] or df[['name']]```\n",
    "    \n",
    "    \n",
    "- Select **name,age** from Table\n",
    "    - ``` df[['name,'age']]```\n",
    "    \n",
    "    \n",
    "- Select * from Table **limit** 7\n",
    "    - ```df.head(7)```\n",
    "    \n",
    "    \n",
    "- Select **distinct** name from table\n",
    "    - ``` df['name'].unique() ```\n",
    "\n",
    "\n",
    "- Select * from Table **where** name='sahil'\n",
    "    - ``` df[df['name']=='sahil']```\n",
    "    - ``` df[df.name=='sahil']```\n",
    "    \n",
    "    \n",
    "- Select name from Table where name='sahil'\n",
    "    - ``` df[df['name']=='sahil']['name']```\n",
    "    \n",
    " \n",
    "- Select name,age from Table where name='sahil'\n",
    "    - ``` df[df['name']=='sahil'][['name','age]]``` # double quotes in end\n",
    "    \n",
    "    \n",
    "- Select * from Table where name='sahil' **and** age=30\n",
    "    - ``` df[(df['name']=='sahil') & (df['age']==30) ]``` # end won't work\n",
    "    \n",
    "    \n",
    "- Select * from Table **sort** by age\n",
    "    - ``` df.sort_values(by='age',ascending=False)```\n",
    "    \n",
    "    \n",
    "- Select name,count(*) from table group name\n",
    "    - df.groupby('name').count()\n",
    "    - df[['name','age]].groupby('name').count()"
   ]
  },
  {
   "cell_type": "markdown",
   "id": "ef8d3a79",
   "metadata": {},
   "source": [
    "### SQL vs Pandas - Advance"
   ]
  },
  {
   "cell_type": "markdown",
   "id": "4550b110",
   "metadata": {},
   "source": [
    "- SQL : ```SELECT sum(total_bill) FROM tips```\n",
    "- Pandas : ```pd.Series(tips['total_bill'].sum())```"
   ]
  },
  {
   "cell_type": "markdown",
   "id": "83b443be",
   "metadata": {},
   "source": [
    "- SQL : ```SELECT sum(total_bill) FROM tips where tip > 5```\n",
    "- Pandas : ```pd.Series(tips[tips['tip'] > 5]['total_bill'].sum())```"
   ]
  },
  {
   "cell_type": "markdown",
   "id": "86dfd710",
   "metadata": {},
   "source": [
    "- SQL : ```SELECT sum(total_bill) FROM tips where tip > 5 and size > 1```\n",
    "- Pandas : ```pd.Series(tips[(tips['tip'] > 5) & (tips['size'] > 1)]['total_bill'].sum())```"
   ]
  },
  {
   "cell_type": "markdown",
   "id": "b8a31a8a",
   "metadata": {},
   "source": [
    "- SQL : \n",
    "\n",
    "```SELECT \n",
    "sum(total_bill),\n",
    "avg(size),\n",
    "min(tip),\n",
    "FROM \n",
    "tips \n",
    "where tip > 5\n",
    "Group by sex,day\n",
    "Order by total_bill desc,tip asc```"
   ]
  },
  {
   "cell_type": "markdown",
   "id": "e7b64b0d",
   "metadata": {},
   "source": [
    "- Pandas : \n",
    "\n",
    "```tips[tips['tip'] > 5]\n",
    ".groupby(['sex', 'day'])\n",
    ".agg({'total_bill': ['sum'], 'size': ['mean'], 'tip': ['min']})\n",
    ".sort_values(['total_bill', 'tip'], ascending = [False, True])```"
   ]
  },
  {
   "cell_type": "code",
   "execution_count": null,
   "id": "50a156be",
   "metadata": {},
   "outputs": [],
   "source": []
  }
 ],
 "metadata": {
  "kernelspec": {
   "display_name": "Python 3",
   "language": "python",
   "name": "python3"
  },
  "language_info": {
   "codemirror_mode": {
    "name": "ipython",
    "version": 3
   },
   "file_extension": ".py",
   "mimetype": "text/x-python",
   "name": "python",
   "nbconvert_exporter": "python",
   "pygments_lexer": "ipython3",
   "version": "3.7.7"
  }
 },
 "nbformat": 4,
 "nbformat_minor": 5
}