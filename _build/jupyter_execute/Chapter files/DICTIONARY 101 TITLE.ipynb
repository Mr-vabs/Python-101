{
 "cells": [
  {
   "cell_type": "markdown",
   "id": "dfbb0eba",
   "metadata": {},
   "source": [
    "## Dictionary 101"
   ]
  },
  {
   "cell_type": "markdown",
   "id": "51d8a45d",
   "metadata": {},
   "source": [
    "This chapter covers some useful Dictionary concepts"
   ]
  }
 ],
 "metadata": {
  "kernelspec": {
   "display_name": "Python 3",
   "language": "python",
   "name": "python3"
  },
  "language_info": {
   "codemirror_mode": {
    "name": "ipython",
    "version": 3
   },
   "file_extension": ".py",
   "mimetype": "text/x-python",
   "name": "python",
   "nbconvert_exporter": "python",
   "pygments_lexer": "ipython3",
   "version": "3.7.7"
  }
 },
 "nbformat": 4,
 "nbformat_minor": 5
}