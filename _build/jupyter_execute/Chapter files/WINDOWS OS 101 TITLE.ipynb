{
 "cells": [
  {
   "cell_type": "markdown",
   "id": "dfbb0eba",
   "metadata": {},
   "source": [
    "## Windows OS  "
   ]
  },
  {
   "cell_type": "markdown",
   "id": "7f5ac6b6",
   "metadata": {},
   "source": [
    "This chapter covers some useful Windows OS concepts"
   ]
  }
 ],
 "metadata": {
  "kernelspec": {
   "display_name": "Python 3",
   "language": "python",
   "name": "python3"
  },
  "language_info": {
   "codemirror_mode": {
    "name": "ipython",
    "version": 3
   },
   "file_extension": ".py",
   "mimetype": "text/x-python",
   "name": "python",
   "nbconvert_exporter": "python",
   "pygments_lexer": "ipython3",
   "version": "3.7.7"
  }
 },
 "nbformat": 4,
 "nbformat_minor": 5
}