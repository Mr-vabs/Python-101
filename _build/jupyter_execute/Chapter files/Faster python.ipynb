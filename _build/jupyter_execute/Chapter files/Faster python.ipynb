{
 "cells": [
  {
   "cell_type": "markdown",
   "id": "92f5ec54",
   "metadata": {},
   "source": [
    "## Faster Python"
   ]
  },
  {
   "cell_type": "markdown",
   "id": "d81e129c",
   "metadata": {},
   "source": [
    "- For CPU intensive work\n",
    "    - Doing calculations,manipulations etc\n",
    "        - Use multiprocessing (not supported in Jupyter)\n",
    "- For IO related work\n",
    "    - Reading from files/databases/querying large datasets\n",
    "        - Use multithreading\n",
    "- For basic caching\n",
    "    - Use @lru_cache decorator from functools module\n",
    "    - With the @lru_cache decorator in place, you store every call and answer in memory to access later if requested again. But how many calls can you save before running out of memory?\n",
    "\n",
    "        - Python’s @lru_cache decorator offers a maxsize attribute that defines the maximum number of entries before the cache starts evicting old items. By default, maxsize is set to 128. If you set maxsize to None, then the cache will grow indefinitely, and no entries will be ever evicted. This could become a problem if you’re storing a large number of different calls in memory"
   ]
  },
  {
   "cell_type": "markdown",
   "id": "23e0e466",
   "metadata": {},
   "source": [
    "### Example"
   ]
  },
  {
   "cell_type": "markdown",
   "id": "3fa4aade",
   "metadata": {},
   "source": [
    "#### Without Caching"
   ]
  },
  {
   "cell_type": "code",
   "execution_count": 1,
   "id": "ab72a32a",
   "metadata": {},
   "outputs": [
    {
     "name": "stdout",
     "output_type": "stream",
     "text": [
      "[0, 1, 1, 2, 3, 5, 8, 13, 21, 34, 55, 89, 144, 233, 377, 610, 987, 1597, 2584, 4181]\n",
      "0.015059232711791992\n"
     ]
    }
   ],
   "source": [
    "import time\n",
    "from functools import lru_cache\n",
    "\n",
    "def fib(n):\n",
    "    if n < 2:\n",
    "        return n\n",
    "    return fib(n-1) + fib(n-2)\n",
    "\n",
    "\n",
    "start=time.time()\n",
    "print([fib(n) for n in range(20)])\n",
    "end=time.time()\n",
    "print(end-start)\n",
    "# with caching,took 0.01s"
   ]
  },
  {
   "cell_type": "markdown",
   "id": "61c6c1f2",
   "metadata": {},
   "source": [
    "#### With Caching"
   ]
  },
  {
   "cell_type": "code",
   "execution_count": 2,
   "id": "36cc5464",
   "metadata": {},
   "outputs": [
    {
     "name": "stdout",
     "output_type": "stream",
     "text": [
      "[0, 1, 1, 2, 3, 5, 8, 13, 21, 34, 55, 89, 144, 233, 377, 610, 987, 1597, 2584, 4181]\n",
      "0.0\n"
     ]
    }
   ],
   "source": [
    "import time\n",
    "from functools import lru_cache\n",
    "\n",
    "@lru_cache(maxsize=32)\n",
    "def fib(n):\n",
    "    if n < 2:\n",
    "        return n\n",
    "    return fib(n-1) + fib(n-2)\n",
    "\n",
    "\n",
    "start=time.time()\n",
    "print([fib(n) for n in range(20)])\n",
    "end=time.time()\n",
    "print(end-start)\n",
    "\n",
    "# with caching,took 0s"
   ]
  },
  {
   "cell_type": "code",
   "execution_count": null,
   "id": "f43a4af9",
   "metadata": {},
   "outputs": [],
   "source": []
  },
  {
   "cell_type": "code",
   "execution_count": null,
   "id": "d0c90224",
   "metadata": {},
   "outputs": [],
   "source": []
  }
 ],
 "metadata": {
  "kernelspec": {
   "display_name": "Python 3",
   "language": "python",
   "name": "python3"
  },
  "language_info": {
   "codemirror_mode": {
    "name": "ipython",
    "version": 3
   },
   "file_extension": ".py",
   "mimetype": "text/x-python",
   "name": "python",
   "nbconvert_exporter": "python",
   "pygments_lexer": "ipython3",
   "version": "3.7.7"
  }
 },
 "nbformat": 4,
 "nbformat_minor": 5
}