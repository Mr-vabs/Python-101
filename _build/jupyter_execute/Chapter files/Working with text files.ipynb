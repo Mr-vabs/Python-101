{
 "cells": [
  {
   "cell_type": "markdown",
   "id": "4526368c",
   "metadata": {},
   "source": [
    "## Working with Text files"
   ]
  },
  {
   "cell_type": "markdown",
   "id": "e5d7e4fb",
   "metadata": {},
   "source": [
    "- Text files:\n",
    "    - Plain text\n",
    "    - XML\n",
    "    - JSON\n",
    "    - Source code"
   ]
  },
  {
   "cell_type": "markdown",
   "id": "30d23864",
   "metadata": {},
   "source": [
    "- When you open a file,3 modes are there:\n",
    "    - Read mode,'r'\n",
    "        - If file allready exists,python will read it\n",
    "        - If file doesn't exists,python will give error\n",
    "            - so wrap it in try block\n",
    "    - Write mode,'w'\n",
    "        - If file allready exists,python will overwrite it\n",
    "        - If file doesn't exists,python will create it\n",
    "    - Append mode,'a'\n",
    "        - If file allready exists,python will append text in end\n",
    "        - If file doesn't exists,python will create it"
   ]
  },
  {
   "cell_type": "markdown",
   "id": "302d9362",
   "metadata": {},
   "source": [
    "### Read the file"
   ]
  },
  {
   "cell_type": "code",
   "execution_count": 1,
   "id": "18efc252",
   "metadata": {},
   "outputs": [],
   "source": [
    "try:\n",
    "    with open('sahil.txt','r') as f:\n",
    "        text=f.read()\n",
    "    \n",
    "except FileNotFoundError:\n",
    "    text=none"
   ]
  },
  {
   "cell_type": "code",
   "execution_count": 2,
   "id": "db7816f1",
   "metadata": {},
   "outputs": [
    {
     "name": "stdout",
     "output_type": "stream",
     "text": [
      "A\n",
      "B\n",
      "C\n",
      "D\n",
      "E\n",
      "F\n",
      "\n"
     ]
    }
   ],
   "source": [
    "print(text)"
   ]
  },
  {
   "cell_type": "markdown",
   "id": "0f95efeb",
   "metadata": {},
   "source": [
    "### Write to file"
   ]
  },
  {
   "cell_type": "code",
   "execution_count": 3,
   "id": "08f596e5",
   "metadata": {},
   "outputs": [],
   "source": [
    "l=['A','B','C']\n",
    "with open('sahil.txt','w') as f:\n",
    "        for i in l:\n",
    "            f.write(i)"
   ]
  },
  {
   "cell_type": "markdown",
   "id": "3fd43df0",
   "metadata": {},
   "source": [
    "#### Check the file"
   ]
  },
  {
   "cell_type": "code",
   "execution_count": 4,
   "id": "2d7e3004",
   "metadata": {},
   "outputs": [],
   "source": [
    "with open('sahil.txt') as f:\n",
    "        text=f.read()"
   ]
  },
  {
   "cell_type": "code",
   "execution_count": 5,
   "id": "ce4fdd52",
   "metadata": {},
   "outputs": [
    {
     "name": "stdout",
     "output_type": "stream",
     "text": [
      "ABC\n"
     ]
    }
   ],
   "source": [
    "print(text) ### previous text got overwritten\n",
    "# also,no line separators by default"
   ]
  },
  {
   "cell_type": "markdown",
   "id": "9378f7a0",
   "metadata": {},
   "source": [
    "#### Adding the new line manually"
   ]
  },
  {
   "cell_type": "code",
   "execution_count": 6,
   "id": "b5c8f060",
   "metadata": {},
   "outputs": [],
   "source": [
    "l=['A','B','C']\n",
    "with open('sahil.txt','w') as f:\n",
    "        for i in l:\n",
    "            f.write(i)\n",
    "            f.write('\\n')\n",
    "            "
   ]
  },
  {
   "cell_type": "markdown",
   "id": "b916765a",
   "metadata": {},
   "source": [
    "#### Check the file"
   ]
  },
  {
   "cell_type": "code",
   "execution_count": 7,
   "id": "76261504",
   "metadata": {},
   "outputs": [],
   "source": [
    "with open('sahil.txt') as f:\n",
    "        text=f.read()"
   ]
  },
  {
   "cell_type": "code",
   "execution_count": 8,
   "id": "4629b46f",
   "metadata": {},
   "outputs": [
    {
     "name": "stdout",
     "output_type": "stream",
     "text": [
      "A\n",
      "B\n",
      "C\n",
      "\n"
     ]
    }
   ],
   "source": [
    "print(text)"
   ]
  },
  {
   "cell_type": "markdown",
   "id": "89ee6d54",
   "metadata": {},
   "source": [
    "### Append to File"
   ]
  },
  {
   "cell_type": "code",
   "execution_count": 9,
   "id": "2249b931",
   "metadata": {},
   "outputs": [],
   "source": [
    "l=['D','E','F']\n",
    "with open('sahil.txt','a') as f:\n",
    "        for i in l:\n",
    "            f.write(i)\n",
    "            f.write('\\n')\n",
    "            "
   ]
  },
  {
   "cell_type": "markdown",
   "id": "37fe56c2",
   "metadata": {},
   "source": [
    "### Check the file"
   ]
  },
  {
   "cell_type": "code",
   "execution_count": 10,
   "id": "ef733038",
   "metadata": {},
   "outputs": [],
   "source": [
    "with open('sahil.txt','r') as f:\n",
    "        text=f.read()"
   ]
  },
  {
   "cell_type": "code",
   "execution_count": 11,
   "id": "9a638ff6",
   "metadata": {},
   "outputs": [
    {
     "name": "stdout",
     "output_type": "stream",
     "text": [
      "A\n",
      "B\n",
      "C\n",
      "D\n",
      "E\n",
      "F\n",
      "\n"
     ]
    }
   ],
   "source": [
    "print(text)"
   ]
  }
 ],
 "metadata": {
  "kernelspec": {
   "display_name": "Python 3",
   "language": "python",
   "name": "python3"
  },
  "language_info": {
   "codemirror_mode": {
    "name": "ipython",
    "version": 3
   },
   "file_extension": ".py",
   "mimetype": "text/x-python",
   "name": "python",
   "nbconvert_exporter": "python",
   "pygments_lexer": "ipython3",
   "version": "3.7.7"
  }
 },
 "nbformat": 4,
 "nbformat_minor": 5
}