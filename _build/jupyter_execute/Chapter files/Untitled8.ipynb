{
 "cells": [
  {
   "cell_type": "code",
   "execution_count": 1,
   "id": "9c29aafb",
   "metadata": {},
   "outputs": [],
   "source": [
    "from multiprocessing import Pool, cpu_count\n",
    "\n",
    "def power(p):\n",
    "    x,n=p\n",
    "    time.sleep(1)\n",
    "    return x ** n\n",
    "\n",
    "\n",
    "def main():\n",
    "    values = ((2, 2), (4, 3), (5, 5))\n",
    "\n",
    "    with Pool() as pool:\n",
    "        res = pool.map(power, values)\n",
    "        print(res)\n",
    "\n",
    "\n",
    "if __name__ == '__main__':\n",
    "    main()"
   ]
  },
  {
   "cell_type": "code",
   "execution_count": null,
   "id": "4c5c8638",
   "metadata": {},
   "outputs": [],
   "source": []
  }
 ],
 "metadata": {
  "kernelspec": {
   "display_name": "Python 3",
   "language": "python",
   "name": "python3"
  },
  "language_info": {
   "codemirror_mode": {
    "name": "ipython",
    "version": 3
   },
   "file_extension": ".py",
   "mimetype": "text/x-python",
   "name": "python",
   "nbconvert_exporter": "python",
   "pygments_lexer": "ipython3",
   "version": "3.7.7"
  }
 },
 "nbformat": 4,
 "nbformat_minor": 5
}