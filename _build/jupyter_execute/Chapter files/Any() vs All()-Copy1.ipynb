{
 "cells": [
  {
   "cell_type": "markdown",
   "id": "70f6756e",
   "metadata": {},
   "source": [
    "## SQL vs Pandas"
   ]
  },
  {
   "cell_type": "code",
   "execution_count": 1,
   "id": "3e602cb7",
   "metadata": {},
   "outputs": [
    {
     "ename": "IndentationError",
     "evalue": "unexpected indent (<ipython-input-1-23a26eb40e98>, line 6)",
     "output_type": "error",
     "traceback": [
      "\u001b[1;36m  File \u001b[1;32m\"<ipython-input-1-23a26eb40e98>\"\u001b[1;36m, line \u001b[1;32m6\u001b[0m\n\u001b[1;33m    tips\u001b[0m\n\u001b[1;37m    ^\u001b[0m\n\u001b[1;31mIndentationError\u001b[0m\u001b[1;31m:\u001b[0m unexpected indent\n"
     ]
    }
   ],
   "source": [
    "SELECT \n",
    "sum(total_bill),\n",
    "avg(size),\n",
    "min(tip),\n",
    "FROM \n",
    "  tips \n",
    "where tip>5\n",
    "Group by sex,day\n",
    "Order by total_bill desc,tip asc"
   ]
  }
 ],
 "metadata": {
  "kernelspec": {
   "display_name": "Python 3",
   "language": "python",
   "name": "python3"
  },
  "language_info": {
   "codemirror_mode": {
    "name": "ipython",
    "version": 3
   },
   "file_extension": ".py",
   "mimetype": "text/x-python",
   "name": "python",
   "nbconvert_exporter": "python",
   "pygments_lexer": "ipython3",
   "version": "3.7.7"
  }
 },
 "nbformat": 4,
 "nbformat_minor": 5
}