{
 "cells": [
  {
   "cell_type": "markdown",
   "id": "d240914c",
   "metadata": {},
   "source": [
    "## List Slicing"
   ]
  },
  {
   "cell_type": "code",
   "execution_count": 1,
   "id": "4fd8fcaa",
   "metadata": {},
   "outputs": [],
   "source": [
    "names=['Sahil','Sonia','Sourav','Deepak','Vishal']\n",
    "age=[1,2,3]"
   ]
  },
  {
   "cell_type": "markdown",
   "id": "0bda8062",
   "metadata": {},
   "source": [
    "### Syntax"
   ]
  },
  {
   "cell_type": "markdown",
   "id": "d56b2c68",
   "metadata": {},
   "source": [
    "- names[starting index:ending index:step]\n",
    "    - starting index is inclusive\n",
    "    - ending index is exclusive , so write thing you need +1"
   ]
  },
  {
   "cell_type": "markdown",
   "id": "ef71c088",
   "metadata": {},
   "source": [
    "#### Get Indexes based on element"
   ]
  },
  {
   "cell_type": "code",
   "execution_count": 2,
   "id": "d2b355c8",
   "metadata": {},
   "outputs": [
    {
     "data": {
      "text/plain": [
       "3"
      ]
     },
     "execution_count": 2,
     "metadata": {},
     "output_type": "execute_result"
    }
   ],
   "source": [
    "names.index('Deepak')"
   ]
  },
  {
   "cell_type": "markdown",
   "id": "d1b10bf1",
   "metadata": {},
   "source": [
    "### Traversing from left to right"
   ]
  },
  {
   "cell_type": "code",
   "execution_count": 3,
   "id": "22b0c549",
   "metadata": {},
   "outputs": [
    {
     "data": {
      "text/plain": [
       "['Sahil', 'Sonia', 'Sourav', 'Deepak', 'Vishal']"
      ]
     },
     "execution_count": 3,
     "metadata": {},
     "output_type": "execute_result"
    }
   ],
   "source": [
    "names[:]\n",
    "# or names[0:len(names)]\n",
    "# or [ i for i in names]    # we generally prefer comprehension for iterations"
   ]
  },
  {
   "cell_type": "markdown",
   "id": "046b2dec",
   "metadata": {},
   "source": [
    "### Traversing from right to left"
   ]
  },
  {
   "cell_type": "code",
   "execution_count": 4,
   "id": "cdd35887",
   "metadata": {},
   "outputs": [
    {
     "data": {
      "text/plain": [
       "['Vishal', 'Deepak', 'Sourav', 'Sonia', 'Sahil']"
      ]
     },
     "execution_count": 4,
     "metadata": {},
     "output_type": "execute_result"
    }
   ],
   "source": [
    "names[::-1]\n",
    "# or [i for i in names[::-1]]"
   ]
  },
  {
   "cell_type": "markdown",
   "id": "1a8007bd",
   "metadata": {},
   "source": [
    "### Getting First Element"
   ]
  },
  {
   "cell_type": "code",
   "execution_count": 5,
   "id": "7e1f2b21",
   "metadata": {},
   "outputs": [
    {
     "data": {
      "text/plain": [
       "'Sahil'"
      ]
     },
     "execution_count": 5,
     "metadata": {},
     "output_type": "execute_result"
    }
   ],
   "source": [
    "names[0]"
   ]
  },
  {
   "cell_type": "markdown",
   "id": "615c928c",
   "metadata": {},
   "source": [
    "### Getting Second element"
   ]
  },
  {
   "cell_type": "code",
   "execution_count": 6,
   "id": "f8e32d1e",
   "metadata": {},
   "outputs": [
    {
     "data": {
      "text/plain": [
       "'Sonia'"
      ]
     },
     "execution_count": 6,
     "metadata": {},
     "output_type": "execute_result"
    }
   ],
   "source": [
    "names[1]"
   ]
  },
  {
   "cell_type": "markdown",
   "id": "99feea55",
   "metadata": {},
   "source": [
    "### Getting first 3 elements"
   ]
  },
  {
   "cell_type": "code",
   "execution_count": 7,
   "id": "6a7f9e54",
   "metadata": {},
   "outputs": [
    {
     "data": {
      "text/plain": [
       "['Sahil', 'Sonia', 'Sourav']"
      ]
     },
     "execution_count": 7,
     "metadata": {},
     "output_type": "execute_result"
    }
   ],
   "source": [
    "names[0:3]"
   ]
  },
  {
   "cell_type": "markdown",
   "id": "4cbb0fd3",
   "metadata": {},
   "source": [
    "### Getting last element"
   ]
  },
  {
   "cell_type": "code",
   "execution_count": 8,
   "id": "4629c0ca",
   "metadata": {},
   "outputs": [
    {
     "data": {
      "text/plain": [
       "'Vishal'"
      ]
     },
     "execution_count": 8,
     "metadata": {},
     "output_type": "execute_result"
    }
   ],
   "source": [
    "names[-1]"
   ]
  },
  {
   "cell_type": "markdown",
   "id": "33dbef54",
   "metadata": {},
   "source": [
    "### Getting second last element"
   ]
  },
  {
   "cell_type": "code",
   "execution_count": 9,
   "id": "4097a06c",
   "metadata": {},
   "outputs": [
    {
     "data": {
      "text/plain": [
       "'Deepak'"
      ]
     },
     "execution_count": 9,
     "metadata": {},
     "output_type": "execute_result"
    }
   ],
   "source": [
    "names[-2]"
   ]
  },
  {
   "cell_type": "markdown",
   "id": "61d235a0",
   "metadata": {},
   "source": [
    "### Getting last 3 elements"
   ]
  },
  {
   "cell_type": "code",
   "execution_count": 10,
   "id": "526deb66",
   "metadata": {},
   "outputs": [
    {
     "data": {
      "text/plain": [
       "['Sourav', 'Deepak', 'Vishal']"
      ]
     },
     "execution_count": 10,
     "metadata": {},
     "output_type": "execute_result"
    }
   ],
   "source": [
    "names[-3:]"
   ]
  },
  {
   "cell_type": "markdown",
   "id": "9a24da65",
   "metadata": {},
   "source": [
    "### Getting Last elements index"
   ]
  },
  {
   "cell_type": "code",
   "execution_count": 11,
   "id": "3c5117ff",
   "metadata": {},
   "outputs": [
    {
     "data": {
      "text/plain": [
       "4"
      ]
     },
     "execution_count": 11,
     "metadata": {},
     "output_type": "execute_result"
    }
   ],
   "source": [
    "len(names)-1"
   ]
  },
  {
   "cell_type": "markdown",
   "id": "78931419",
   "metadata": {},
   "source": [
    "### Give me elements based on index"
   ]
  },
  {
   "cell_type": "code",
   "execution_count": 12,
   "id": "02c5a68f",
   "metadata": {},
   "outputs": [
    {
     "data": {
      "text/plain": [
       "['Sonia', 'Sourav', 'Deepak']"
      ]
     },
     "execution_count": 12,
     "metadata": {},
     "output_type": "execute_result"
    }
   ],
   "source": [
    "# eg,give me sonia,sourav,deepak\n",
    "names=['Sahil','Sonia','Sourav','Deepak','Vishal']\n",
    "names[names.index('Sonia'):names.index('Vishal')]  # last index is exclusive so I wrote visal"
   ]
  }
 ],
 "metadata": {
  "kernelspec": {
   "display_name": "Python 3",
   "language": "python",
   "name": "python3"
  },
  "language_info": {
   "codemirror_mode": {
    "name": "ipython",
    "version": 3
   },
   "file_extension": ".py",
   "mimetype": "text/x-python",
   "name": "python",
   "nbconvert_exporter": "python",
   "pygments_lexer": "ipython3",
   "version": "3.7.7"
  }
 },
 "nbformat": 4,
 "nbformat_minor": 5
}