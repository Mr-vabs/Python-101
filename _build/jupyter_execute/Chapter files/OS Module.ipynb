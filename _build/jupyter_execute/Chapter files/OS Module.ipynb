{
 "cells": [
  {
   "cell_type": "markdown",
   "id": "ec78990c",
   "metadata": {},
   "source": [
    "## OS Module Basics"
   ]
  },
  {
   "cell_type": "code",
   "execution_count": 1,
   "id": "841a657f",
   "metadata": {},
   "outputs": [],
   "source": [
    "import os"
   ]
  },
  {
   "cell_type": "markdown",
   "id": "5e0f3506",
   "metadata": {},
   "source": [
    "### Get current working directory"
   ]
  },
  {
   "cell_type": "code",
   "execution_count": 2,
   "id": "03aeafe1",
   "metadata": {},
   "outputs": [
    {
     "data": {
      "text/plain": [
       "'C:\\\\Users\\\\Sahil Choudhary\\\\Book\\\\Python\\\\Chapter files'"
      ]
     },
     "execution_count": 2,
     "metadata": {},
     "output_type": "execute_result"
    }
   ],
   "source": [
    "os.getcwd() # Most important command"
   ]
  },
  {
   "cell_type": "markdown",
   "id": "e7d7ff12",
   "metadata": {},
   "source": [
    "### List the files and folders of current directory"
   ]
  },
  {
   "cell_type": "code",
   "execution_count": 3,
   "id": "d16df259",
   "metadata": {},
   "outputs": [
    {
     "data": {
      "text/plain": [
       "['.bash_history',\n",
       " 'Any() vs All()-Copy1.ipynb',\n",
       " 'Any() vs All().ipynb',\n",
       " 'Applying functions on dataframe.ipynb',\n",
       " 'Array Destructuring.ipynb']"
      ]
     },
     "execution_count": 3,
     "metadata": {},
     "output_type": "execute_result"
    }
   ],
   "source": [
    "os.listdir()[0:5]"
   ]
  },
  {
   "cell_type": "markdown",
   "id": "0df18956",
   "metadata": {},
   "source": [
    "### Changing the working directory"
   ]
  },
  {
   "cell_type": "code",
   "execution_count": 4,
   "id": "286d1b44",
   "metadata": {},
   "outputs": [],
   "source": [
    "os.chdir('C:\\\\users\\\\Sahil Choudhary\\\\Desktop') # Most important command"
   ]
  },
  {
   "cell_type": "markdown",
   "id": "cbe01e4b",
   "metadata": {},
   "source": [
    "### List the files and folders of particular directory"
   ]
  },
  {
   "cell_type": "code",
   "execution_count": 5,
   "id": "90c0e841",
   "metadata": {},
   "outputs": [
    {
     "data": {
      "text/plain": [
       "['Parent file outside.txt', 'Sub folder 1', 'Sub folder 2']"
      ]
     },
     "execution_count": 5,
     "metadata": {},
     "output_type": "execute_result"
    }
   ],
   "source": [
    "os.listdir(\"C:\\\\Users\\\\Sahil Choudhary\\\\Documents\\\\Test folder\\\\Parent folder\")"
   ]
  },
  {
   "cell_type": "code",
   "execution_count": 6,
   "id": "496a5625",
   "metadata": {},
   "outputs": [
    {
     "ename": "FileNotFoundError",
     "evalue": "[WinError 2] The system cannot find the file specified: '_static'",
     "output_type": "error",
     "traceback": [
      "\u001b[1;31m---------------------------------------------------------------------------\u001b[0m",
      "\u001b[1;31mFileNotFoundError\u001b[0m                         Traceback (most recent call last)",
      "\u001b[1;32m<ipython-input-6-cc31abb7845f>\u001b[0m in \u001b[0;36m<module>\u001b[1;34m\u001b[0m\n\u001b[0;32m      1\u001b[0m \u001b[0mos\u001b[0m\u001b[1;33m.\u001b[0m\u001b[0mlistdir\u001b[0m\u001b[1;33m(\u001b[0m\u001b[1;33m)\u001b[0m \u001b[1;31m#_static\u001b[0m\u001b[1;33m\u001b[0m\u001b[1;33m\u001b[0m\u001b[0m\n\u001b[1;32m----> 2\u001b[1;33m \u001b[0mos\u001b[0m\u001b[1;33m.\u001b[0m\u001b[0mchdir\u001b[0m\u001b[1;33m(\u001b[0m\u001b[1;34m\"_static\"\u001b[0m\u001b[1;33m)\u001b[0m\u001b[1;33m\u001b[0m\u001b[1;33m\u001b[0m\u001b[0m\n\u001b[0m",
      "\u001b[1;31mFileNotFoundError\u001b[0m: [WinError 2] The system cannot find the file specified: '_static'"
     ]
    }
   ],
   "source": [
    "os.listdir() #_static\n",
    "os.chdir(\"_static\")"
   ]
  },
  {
   "cell_type": "code",
   "execution_count": 66,
   "id": "10f9f73d",
   "metadata": {},
   "outputs": [
    {
     "data": {
      "text/plain": [
       "'C:\\\\Users\\\\Sahil Choudhary\\\\Book\\\\Python\\\\_build\\\\html\\\\_static'"
      ]
     },
     "execution_count": 66,
     "metadata": {},
     "output_type": "execute_result"
    }
   ],
   "source": [
    "os.getcwd()"
   ]
  },
  {
   "cell_type": "markdown",
   "id": "6713410c",
   "metadata": {},
   "source": [
    "### Making a new directory"
   ]
  },
  {
   "cell_type": "code",
   "execution_count": 67,
   "id": "82483a5e",
   "metadata": {},
   "outputs": [],
   "source": [
    "os.mkdir('Test')"
   ]
  },
  {
   "cell_type": "markdown",
   "id": "d036a89c",
   "metadata": {},
   "source": [
    "### OS.walk"
   ]
  },
  {
   "cell_type": "markdown",
   "id": "b090cea4",
   "metadata": {},
   "source": [
    "#### Get file names and folder names and the files present in subfolders all in one go"
   ]
  },
  {
   "cell_type": "markdown",
   "id": "392304e6",
   "metadata": {},
   "source": [
    "![]('https://ibb.co/TvKhBch')"
   ]
  },
  {
   "cell_type": "markdown",
   "id": "e5205594",
   "metadata": {},
   "source": [
    "!['g'](https://i.postimg.cc/x815HRPY/curr.png)"
   ]
  },
  {
   "cell_type": "code",
   "execution_count": 71,
   "id": "1b9b1bf0",
   "metadata": {},
   "outputs": [
    {
     "name": "stdout",
     "output_type": "stream",
     "text": [
      "Parent folder =  Parent folder\n",
      "Sub directories =  ['Sub folder 1', 'Sub folder 2']\n",
      "Files =  ['Parent file outside.txt']\n",
      "---------\n",
      "Parent folder =  Sub folder 1\n",
      "Sub directories =  []\n",
      "Files =  ['sub folder 1 file.txt']\n",
      "---------\n",
      "Parent folder =  Sub folder 2\n",
      "Sub directories =  ['sub sub folder 2']\n",
      "Files =  ['sub folder 2 file.txt']\n",
      "---------\n",
      "Parent folder =  sub sub folder 2\n",
      "Sub directories =  []\n",
      "Files =  ['sub sub folder 2 file.txt']\n",
      "---------\n"
     ]
    }
   ],
   "source": [
    "path='C:\\\\Users\\\\Sahil Choudhary\\\\Documents\\\\Test folder\\\\Parent folder'\n",
    "for root_path,sub_directories,files in os.walk(path):  \n",
    "    # os.walk(path) gives 3 things\n",
    "        # parent directory\n",
    "        # subdirectory\n",
    "        # files\n",
    "    print('Parent folder = ',root_path.split('\\\\')[-1])\n",
    "    print('Sub directories = ',sub_directories)\n",
    "    print('Files = ',files)\n",
    "    print('---------')"
   ]
  }
 ],
 "metadata": {
  "kernelspec": {
   "display_name": "Python 3",
   "language": "python",
   "name": "python3"
  },
  "language_info": {
   "codemirror_mode": {
    "name": "ipython",
    "version": 3
   },
   "file_extension": ".py",
   "mimetype": "text/x-python",
   "name": "python",
   "nbconvert_exporter": "python",
   "pygments_lexer": "ipython3",
   "version": "3.7.7"
  }
 },
 "nbformat": 4,
 "nbformat_minor": 5
}