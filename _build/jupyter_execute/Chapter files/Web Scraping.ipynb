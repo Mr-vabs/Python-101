{
 "cells": [
  {
   "cell_type": "markdown",
   "id": "eb23561a",
   "metadata": {},
   "source": [
    "## Web Scraping"
   ]
  },
  {
   "cell_type": "markdown",
   "id": "1b97314b",
   "metadata": {},
   "source": [
    "- Use beautiful soup library to parse the DOM (It is parser)\n",
    "- Use request library to make http requests since inbuild urllib of python is not that good"
   ]
  },
  {
   "cell_type": "code",
   "execution_count": 1,
   "id": "14218d76",
   "metadata": {},
   "outputs": [
    {
     "name": "stdout",
     "output_type": "stream",
     "text": [
      "Requirement already satisfied: beautifulsoup4 in c:\\users\\sahil choudhary\\appdata\\local\\programs\\python\\python37-32\\lib\\site-packages (4.10.0)\n",
      "Requirement already satisfied: soupsieve>1.2 in c:\\users\\sahil choudhary\\appdata\\local\\programs\\python\\python37-32\\lib\\site-packages (from beautifulsoup4) (2.3.1)\n"
     ]
    },
    {
     "name": "stderr",
     "output_type": "stream",
     "text": [
      "WARNING: You are using pip version 21.1.2; however, version 22.0.4 is available.\n",
      "You should consider upgrading via the 'c:\\users\\sahil choudhary\\appdata\\local\\programs\\python\\python37-32\\python.exe -m pip install --upgrade pip' command.\n"
     ]
    },
    {
     "name": "stdout",
     "output_type": "stream",
     "text": [
      "Requirement already satisfied: html5lib in c:\\users\\sahil choudhary\\appdata\\local\\programs\\python\\python37-32\\lib\\site-packages (1.1)\n",
      "Requirement already satisfied: webencodings in c:\\users\\sahil choudhary\\appdata\\local\\programs\\python\\python37-32\\lib\\site-packages (from html5lib) (0.5.1)\n",
      "Requirement already satisfied: six>=1.9 in c:\\users\\sahil choudhary\\appdata\\local\\programs\\python\\python37-32\\lib\\site-packages (from html5lib) (1.16.0)\n"
     ]
    },
    {
     "name": "stderr",
     "output_type": "stream",
     "text": [
      "WARNING: You are using pip version 21.1.2; however, version 22.0.4 is available.\n",
      "You should consider upgrading via the 'c:\\users\\sahil choudhary\\appdata\\local\\programs\\python\\python37-32\\python.exe -m pip install --upgrade pip' command.\n"
     ]
    },
    {
     "name": "stdout",
     "output_type": "stream",
     "text": [
      "Requirement already satisfied: lxml in c:\\users\\sahil choudhary\\appdata\\local\\programs\\python\\python37-32\\lib\\site-packages (4.8.0)\n"
     ]
    },
    {
     "name": "stderr",
     "output_type": "stream",
     "text": [
      "WARNING: You are using pip version 21.1.2; however, version 22.0.4 is available.\n",
      "You should consider upgrading via the 'c:\\users\\sahil choudhary\\appdata\\local\\programs\\python\\python37-32\\python.exe -m pip install --upgrade pip' command.\n"
     ]
    },
    {
     "name": "stdout",
     "output_type": "stream",
     "text": [
      "Requirement already satisfied: requests in c:\\users\\sahil choudhary\\appdata\\local\\programs\\python\\python37-32\\lib\\site-packages (2.25.1)\n",
      "Requirement already satisfied: chardet<5,>=3.0.2 in c:\\users\\sahil choudhary\\appdata\\local\\programs\\python\\python37-32\\lib\\site-packages (from requests) (4.0.0)\n",
      "Requirement already satisfied: certifi>=2017.4.17 in c:\\users\\sahil choudhary\\appdata\\local\\programs\\python\\python37-32\\lib\\site-packages (from requests) (2020.12.5)\n",
      "Requirement already satisfied: urllib3<1.27,>=1.21.1 in c:\\users\\sahil choudhary\\appdata\\local\\programs\\python\\python37-32\\lib\\site-packages (from requests) (1.26.5)\n",
      "Requirement already satisfied: idna<3,>=2.5 in c:\\users\\sahil choudhary\\appdata\\local\\programs\\python\\python37-32\\lib\\site-packages (from requests) (2.10)\n"
     ]
    },
    {
     "name": "stderr",
     "output_type": "stream",
     "text": [
      "WARNING: You are using pip version 21.1.2; however, version 22.0.4 is available.\n",
      "You should consider upgrading via the 'c:\\users\\sahil choudhary\\appdata\\local\\programs\\python\\python37-32\\python.exe -m pip install --upgrade pip' command.\n"
     ]
    }
   ],
   "source": [
    "!pip install beautifulsoup4\n",
    "!pip install html5lib\n",
    "!pip install lxml\n",
    "!pip install requests"
   ]
  },
  {
   "cell_type": "code",
   "execution_count": 2,
   "id": "0622e3d4",
   "metadata": {},
   "outputs": [],
   "source": [
    "from bs4 import BeautifulSoup\n",
    "import requests"
   ]
  },
  {
   "cell_type": "code",
   "execution_count": 3,
   "id": "874d070b",
   "metadata": {},
   "outputs": [
    {
     "ename": "SyntaxError",
     "evalue": "invalid syntax (<ipython-input-3-27aae68ca8f1>, line 1)",
     "output_type": "error",
     "traceback": [
      "\u001b[1;36m  File \u001b[1;32m\"<ipython-input-3-27aae68ca8f1>\"\u001b[1;36m, line \u001b[1;32m1\u001b[0m\n\u001b[1;33m    with open(https://webscraper.io/) as html_file: # open the file\u001b[0m\n\u001b[1;37m                   ^\u001b[0m\n\u001b[1;31mSyntaxError\u001b[0m\u001b[1;31m:\u001b[0m invalid syntax\n"
     ]
    }
   ],
   "source": [
    "with open(https://webscraper.io/) as html_file: # open the file\n",
    "    #pass the file into soup variable\n",
    "    soup=BeautifulSoup(html_file,'lxml')\n",
    "print(soup.prettify())"
   ]
  },
  {
   "cell_type": "markdown",
   "id": "3a230fcd",
   "metadata": {},
   "source": [
    "# get title tag\n",
    "\n",
    "#First title tag on page\n",
    "match=soup.title.text\n",
    "\n",
    "#First div tag on page\n",
    "match=soup.div # it give childs as well\n",
    "\n",
    "# Get div of particular class\n",
    "# Use find method\n",
    "match=soup.find('div',class_='footer')\n",
    "\n",
    "# to get all articles no need to use parent div\n",
    "for article in soup.find_all('div',class_='footer')\n",
    "    article=article.h2.a.text\n",
    "    summary=article.p.text\n",
    "    print()"
   ]
  },
  {
   "cell_type": "code",
   "execution_count": null,
   "id": "9ae5228e",
   "metadata": {},
   "outputs": [],
   "source": [
    "### Get 1 div with your needs\n",
    "#article=soup.find('div',class_='article')\n",
    "\n",
    "# now use dot operators to go inside that article\n",
    "headline=article.h2.a.text\n",
    "summary=article.p.text\n",
    "\n"
   ]
  },
  {
   "cell_type": "code",
   "execution_count": 14,
   "id": "261b3cc4",
   "metadata": {},
   "outputs": [],
   "source": [
    "# ### Using request library\n",
    "# source=requests.get('http://coreyms.com').text # html of website\n",
    "# soup=BeautifulSoup(source,'lxml')\n",
    "\n",
    "# #Logic->Grab one thing and then use findall and loop to get everything\n",
    "\n",
    "# article=soup.find('article')\n",
    "# # Get text\n",
    "# summary=article.find('div',class_='entry-content').p.text\n",
    "\n",
    "# # Get attribute (like a dictionary)\n",
    "# summary=article.find('div',class_='entry-content')['src']\n",
    "# print(summary)"
   ]
  },
  {
   "cell_type": "code",
   "execution_count": 18,
   "id": "a96d001b",
   "metadata": {},
   "outputs": [
    {
     "name": "stdout",
     "output_type": "stream",
     "text": [
      "<html>\n",
      " <head>\n",
      "  <title>\n",
      "   tableau.com\n",
      "  </title>\n",
      "  <style>\n",
      "   #cmsg{animation: A 1.5s;}@keyframes A{0%{opacity:0;}99%{opacity:0;}100%{opacity:1;}}\n",
      "  </style>\n",
      " </head>\n",
      " <body style=\"margin:0\">\n",
      "  <p id=\"cmsg\">\n",
      "   Please enable JS and disable any ad blocker\n",
      "  </p>\n",
      "  <script>\n",
      "   var dd={'cid':'AHrlqAAAAAMA0OJQsGmEn9AAMSTA-g==','hsh':'3BA67E83B5E1C93C86A6F784C53F4C','t':'bv','s':20143,'host':'geo.captcha-delivery.com'}\n",
      "  </script>\n",
      "  <script src=\"https://ct.captcha-delivery.com/c.js\">\n",
      "  </script>\n",
      " </body>\n",
      "</html>\n",
      "\n"
     ]
    }
   ],
   "source": [
    "### Using request library\n",
    "source=requests.get('https://usergroups.tableau.com/').text # html of website\n",
    "soup=BeautifulSoup(source,'lxml')\n",
    "print(soup.prettify())"
   ]
  },
  {
   "cell_type": "code",
   "execution_count": null,
   "id": "e193dd5e",
   "metadata": {},
   "outputs": [],
   "source": []
  }
 ],
 "metadata": {
  "kernelspec": {
   "display_name": "Python 3",
   "language": "python",
   "name": "python3"
  },
  "language_info": {
   "codemirror_mode": {
    "name": "ipython",
    "version": 3
   },
   "file_extension": ".py",
   "mimetype": "text/x-python",
   "name": "python",
   "nbconvert_exporter": "python",
   "pygments_lexer": "ipython3",
   "version": "3.7.7"
  }
 },
 "nbformat": 4,
 "nbformat_minor": 5
}