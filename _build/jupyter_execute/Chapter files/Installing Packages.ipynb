{
 "cells": [
  {
   "cell_type": "markdown",
   "id": "bc58f105",
   "metadata": {},
   "source": [
    "### Installing packages"
   ]
  },
  {
   "cell_type": "markdown",
   "id": "8cc4e677",
   "metadata": {},
   "source": [
    "To install latest version(default) : ```!pip <commands> [options] [name of library] ```\n",
    "\n",
    "To install previous/specific version: ```!pip <commands> [options] [name of library]==Version Number``` "
   ]
  },
  {
   "cell_type": "markdown",
   "id": "f9dfcb06",
   "metadata": {},
   "source": [
    "- Commands:\n",
    "   - install\n",
    "   - uninstall\n",
    "   - freeze - Gives a list of all the modules installed with their version in one go in Module name==module version format\n",
    "- Options:\n",
    "    - ```-h or --help``` to get help\n",
    "    - ```pip -h``` Overall help\n",
    "    - ```pip subcommand -h``` gives you help for that sub command\n",
    "    - ```-y``` automatically says yes to prompts\n",
    "    - ```-V``` To know current version\n",
    "    - ```-U``` To upgrade package to the latest versions \n",
    "    - ```--force-reinstall ``` Reinstall all packages"
   ]
  }
 ],
 "metadata": {
  "kernelspec": {
   "display_name": "Python 3",
   "language": "python",
   "name": "python3"
  },
  "language_info": {
   "codemirror_mode": {
    "name": "ipython",
    "version": 3
   },
   "file_extension": ".py",
   "mimetype": "text/x-python",
   "name": "python",
   "nbconvert_exporter": "python",
   "pygments_lexer": "ipython3",
   "version": "3.7.7"
  }
 },
 "nbformat": 4,
 "nbformat_minor": 5
}