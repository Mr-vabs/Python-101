{
 "cells": [
  {
   "cell_type": "markdown",
   "id": "e29407a9",
   "metadata": {},
   "source": [
    "### Windows Command Line"
   ]
  },
  {
   "cell_type": "markdown",
   "id": "40d80345",
   "metadata": {},
   "source": [
    "#### In Command Line Interface, folders are called directories\n",
    "- Give list of all files and folders in current directory: ```dir```\n",
    "    - Files are tagged as Blanks\n",
    "    - Folders are tagged as ```<DIR>```\n",
    "- Create Folder: ```mkdir <name of folder>```\n",
    "- Delete folder: ```rmdir <name of folder>```\n",
    "    - Use ```rmdir /s <name of directory>``` if  folder has stuff in it\n",
    "- Going one level up in Directory: ```cd <name>```\n",
    "    - Going to any folder: ```cd C:\\Desktop\\Folder\\Subfolder```\n",
    "- Going one level down in Directory: ```cd ..```\n",
    "- Clear Screen: ```cls```\n",
    "- Open Files: Type name of file without any command\n",
    "    - It opens file in default program"
   ]
  }
 ],
 "metadata": {
  "kernelspec": {
   "display_name": "Python 3",
   "language": "python",
   "name": "python3"
  },
  "language_info": {
   "codemirror_mode": {
    "name": "ipython",
    "version": 3
   },
   "file_extension": ".py",
   "mimetype": "text/x-python",
   "name": "python",
   "nbconvert_exporter": "python",
   "pygments_lexer": "ipython3",
   "version": "3.7.7"
  }
 },
 "nbformat": 4,
 "nbformat_minor": 5
}