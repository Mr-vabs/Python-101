{
 "cells": [
  {
   "cell_type": "markdown",
   "id": "d240914c",
   "metadata": {},
   "source": [
    "## Integer Sequence"
   ]
  },
  {
   "cell_type": "markdown",
   "id": "17f433b7",
   "metadata": {},
   "source": [
    "- use range function\n",
    "- range creates a sequence of numbers\n",
    "- range function returns range object which is iterable\n",
    "    - range function returns range object (which is iterable) ⇒convert it to list to see the inside elements"
   ]
  },
  {
   "cell_type": "markdown",
   "id": "70f22d57",
   "metadata": {},
   "source": [
    "### Syntax"
   ]
  },
  {
   "cell_type": "markdown",
   "id": "945a9ccd",
   "metadata": {},
   "source": [
    "range([start],end[,step])\n",
    "- [] means optional\n",
    "- start defaults to 0\n",
    "- end is exclusive\n",
    "- step is 1 by default\n",
    "- returns iterable"
   ]
  },
  {
   "cell_type": "markdown",
   "id": "e3dfd159",
   "metadata": {},
   "source": [
    "### One argument"
   ]
  },
  {
   "cell_type": "code",
   "execution_count": 1,
   "id": "f4e79e24",
   "metadata": {},
   "outputs": [
    {
     "data": {
      "text/plain": [
       "[0, 1, 2, 3, 4]"
      ]
     },
     "execution_count": 1,
     "metadata": {},
     "output_type": "execute_result"
    }
   ],
   "source": [
    "list(range(5))"
   ]
  },
  {
   "cell_type": "markdown",
   "id": "77f74655",
   "metadata": {},
   "source": [
    "#### Use case"
   ]
  },
  {
   "cell_type": "code",
   "execution_count": 2,
   "id": "7d0df9ef",
   "metadata": {},
   "outputs": [
    {
     "data": {
      "text/plain": [
       "[0, 1, 2, 3, 4, 5]"
      ]
     },
     "execution_count": 2,
     "metadata": {},
     "output_type": "execute_result"
    }
   ],
   "source": [
    "a=[1,2,3,4,5,6]\n",
    "list(range(len(a)))\n",
    "# Note: This is like indexes of the sequence you passed if you see it carefully"
   ]
  },
  {
   "cell_type": "markdown",
   "id": "914e70af",
   "metadata": {},
   "source": [
    "### Two arguments"
   ]
  },
  {
   "cell_type": "code",
   "execution_count": 3,
   "id": "e4b515b1",
   "metadata": {},
   "outputs": [
    {
     "data": {
      "text/plain": [
       "[3, 4, 5, 6, 7]"
      ]
     },
     "execution_count": 3,
     "metadata": {},
     "output_type": "execute_result"
    }
   ],
   "source": [
    "list(range(3,8))"
   ]
  },
  {
   "cell_type": "markdown",
   "id": "dad74310",
   "metadata": {},
   "source": [
    "### Three arguments"
   ]
  },
  {
   "cell_type": "markdown",
   "id": "f9951c2f",
   "metadata": {},
   "source": [
    "#### Positive Step"
   ]
  },
  {
   "cell_type": "code",
   "execution_count": 4,
   "id": "1b18a847",
   "metadata": {},
   "outputs": [
    {
     "data": {
      "text/plain": [
       "[2, 5, 8, 11]"
      ]
     },
     "execution_count": 4,
     "metadata": {},
     "output_type": "execute_result"
    }
   ],
   "source": [
    "list(range(2,12,3))"
   ]
  },
  {
   "cell_type": "markdown",
   "id": "0effa313",
   "metadata": {},
   "source": [
    "#### Negative Step"
   ]
  },
  {
   "cell_type": "code",
   "execution_count": 5,
   "id": "8c194486",
   "metadata": {},
   "outputs": [
    {
     "data": {
      "text/plain": [
       "[20, 15, 10]"
      ]
     },
     "execution_count": 5,
     "metadata": {},
     "output_type": "execute_result"
    }
   ],
   "source": [
    "list(range(20,5,-5))"
   ]
  }
 ],
 "metadata": {
  "kernelspec": {
   "display_name": "Python 3",
   "language": "python",
   "name": "python3"
  },
  "language_info": {
   "codemirror_mode": {
    "name": "ipython",
    "version": 3
   },
   "file_extension": ".py",
   "mimetype": "text/x-python",
   "name": "python",
   "nbconvert_exporter": "python",
   "pygments_lexer": "ipython3",
   "version": "3.7.7"
  }
 },
 "nbformat": 4,
 "nbformat_minor": 5
}