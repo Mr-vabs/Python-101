{
 "cells": [
  {
   "cell_type": "markdown",
   "id": "92f5ec54",
   "metadata": {},
   "source": [
    "## Jupyter Notebook Basics"
   ]
  },
  {
   "cell_type": "markdown",
   "id": "82f2e6e3",
   "metadata": {},
   "source": [
    "- Formally known as ipython Notebook\n",
    "- Ipython started as GUI notebooks to run code\n",
    "- It had ipython kernel architecture written as well\n",
    "- Project Jupyter separated and branched out of ipython and decided that we will only work for (julia,python,R).\n",
    "    - But in the backend,jupyter project still uses the ipython's kernel\n",
    "- The Jupyter Notebook Application has three main kernels: the IPython, IRkernel and IJulia kernels.\n",
    "- These are kernels mantained by julyterlab(they take it from ipython in the backend)\n",
    "- The parallel computing network used to be part of the IPython project, but as of 4.0, they have removed it and made its separate standalone package called ipyparallel. \n",
    "- It’s so powerful because instead of running a single Python kernel, it allows you to start many distributed kernels over many machines\n",
    "- Everything you write in jupyter notebook is stored in RAM.\n",
    "    - Will be removed once you close the file"
   ]
  },
  {
   "cell_type": "code",
   "execution_count": null,
   "id": "b1537a6d",
   "metadata": {},
   "outputs": [],
   "source": []
  }
 ],
 "metadata": {
  "kernelspec": {
   "display_name": "Python 3",
   "language": "python",
   "name": "python3"
  },
  "language_info": {
   "codemirror_mode": {
    "name": "ipython",
    "version": 3
   },
   "file_extension": ".py",
   "mimetype": "text/x-python",
   "name": "python",
   "nbconvert_exporter": "python",
   "pygments_lexer": "ipython3",
   "version": "3.7.7"
  }
 },
 "nbformat": 4,
 "nbformat_minor": 5
}