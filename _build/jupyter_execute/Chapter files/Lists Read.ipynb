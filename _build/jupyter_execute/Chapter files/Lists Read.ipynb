{
 "cells": [
  {
   "cell_type": "markdown",
   "id": "31e14143",
   "metadata": {},
   "source": [
    "## Read Elements"
   ]
  },
  {
   "cell_type": "code",
   "execution_count": 1,
   "id": "4fd8fcaa",
   "metadata": {},
   "outputs": [],
   "source": [
    "names=['Sahil','Sonia','Sourav']\n",
    "age=[10,20,30]"
   ]
  },
  {
   "cell_type": "markdown",
   "id": "2a62ba08",
   "metadata": {},
   "source": [
    "### Get first value"
   ]
  },
  {
   "cell_type": "code",
   "execution_count": 2,
   "id": "e446c774",
   "metadata": {},
   "outputs": [
    {
     "data": {
      "text/plain": [
       "'Sahil'"
      ]
     },
     "execution_count": 2,
     "metadata": {},
     "output_type": "execute_result"
    }
   ],
   "source": [
    "names[0]"
   ]
  },
  {
   "cell_type": "markdown",
   "id": "8320f51c",
   "metadata": {},
   "source": [
    "### Get last value"
   ]
  },
  {
   "cell_type": "code",
   "execution_count": 3,
   "id": "b736a0eb",
   "metadata": {},
   "outputs": [
    {
     "data": {
      "text/plain": [
       "'Sourav'"
      ]
     },
     "execution_count": 3,
     "metadata": {},
     "output_type": "execute_result"
    }
   ],
   "source": [
    "names[-1]"
   ]
  },
  {
   "cell_type": "markdown",
   "id": "2b256c25",
   "metadata": {},
   "source": [
    "### Getting a range"
   ]
  },
  {
   "cell_type": "code",
   "execution_count": 4,
   "id": "6e7cdcb8",
   "metadata": {},
   "outputs": [
    {
     "data": {
      "text/plain": [
       "['Sahil', 'Sonia']"
      ]
     },
     "execution_count": 4,
     "metadata": {},
     "output_type": "execute_result"
    }
   ],
   "source": [
    "names[0:2]"
   ]
  },
  {
   "cell_type": "markdown",
   "id": "5cbe7c45",
   "metadata": {},
   "source": [
    "### Getting all values"
   ]
  },
  {
   "cell_type": "code",
   "execution_count": 5,
   "id": "aba41b36",
   "metadata": {},
   "outputs": [
    {
     "data": {
      "text/plain": [
       "['Sahil', 'Sonia', 'Sourav']"
      ]
     },
     "execution_count": 5,
     "metadata": {},
     "output_type": "execute_result"
    }
   ],
   "source": [
    "[i for i in names]"
   ]
  },
  {
   "cell_type": "code",
   "execution_count": 6,
   "id": "d0e06859",
   "metadata": {},
   "outputs": [
    {
     "name": "stdout",
     "output_type": "stream",
     "text": [
      "Sahil\n",
      "Sonia\n",
      "Sourav\n"
     ]
    }
   ],
   "source": [
    "for i in names:\n",
    "    print(i)"
   ]
  },
  {
   "cell_type": "markdown",
   "id": "eb79a3bb",
   "metadata": {},
   "source": [
    "### Getting values+Indexes"
   ]
  },
  {
   "cell_type": "code",
   "execution_count": 7,
   "id": "55492d3d",
   "metadata": {},
   "outputs": [
    {
     "name": "stdout",
     "output_type": "stream",
     "text": [
      "0 Sahil\n",
      "1 Sonia\n",
      "2 Sourav\n"
     ]
    }
   ],
   "source": [
    "for i,x in enumerate(names):\n",
    "    print(i,x)"
   ]
  },
  {
   "cell_type": "markdown",
   "id": "f00badd5",
   "metadata": {},
   "source": [
    "### Iterate through two lists at same time"
   ]
  },
  {
   "cell_type": "code",
   "execution_count": 8,
   "id": "88af0a71",
   "metadata": {},
   "outputs": [
    {
     "name": "stdout",
     "output_type": "stream",
     "text": [
      "Sahil is 10 years old\n",
      "Sonia is 20 years old\n",
      "Sourav is 30 years old\n"
     ]
    }
   ],
   "source": [
    "for x,y in zip(names,age):\n",
    "    print(x + \" is \" + str(y) + \" years old\")"
   ]
  }
 ],
 "metadata": {
  "kernelspec": {
   "display_name": "Python 3",
   "language": "python",
   "name": "python3"
  },
  "language_info": {
   "codemirror_mode": {
    "name": "ipython",
    "version": 3
   },
   "file_extension": ".py",
   "mimetype": "text/x-python",
   "name": "python",
   "nbconvert_exporter": "python",
   "pygments_lexer": "ipython3",
   "version": "3.7.7"
  }
 },
 "nbformat": 4,
 "nbformat_minor": 5
}