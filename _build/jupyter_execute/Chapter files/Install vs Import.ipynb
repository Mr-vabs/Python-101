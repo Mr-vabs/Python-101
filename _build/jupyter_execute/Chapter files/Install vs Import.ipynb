{
 "cells": [
  {
   "cell_type": "markdown",
   "id": "46767bdb",
   "metadata": {},
   "source": [
    "### Install vs Import"
   ]
  },
  {
   "cell_type": "markdown",
   "id": "c8fac7a9",
   "metadata": {},
   "source": [
    "- When you install something,all its files comes to your local(C drive) and you can access/import all the underlying libraries(files)\n",
    "    - eg,when we install python,by default you get pathlib library automatically\n",
    "    - So you just need to import it\n",
    "    - Note:These libraries which come auomatically when we install python and we don't need to install them separately,can import directly and start using them are called **Standard libraries**\n",
    "    \n",
    "    \n",
    "- But what if some library doesn't come by default when we install python?\n",
    "    - We will need to install that package manually\n",
    "    - Once it is installed,all the underlying libraries come to our local so now,we can import these libraries\n",
    "        - eg,smartsheet library(files) do not come by default when we install python\n",
    "        - So,we wil need to install smartsheet package manually\n",
    "        - Once we install this package,all its underlying files(libraries) will come to our local\n",
    "        - Now we can just use them by importing the one we need"
   ]
  },
  {
   "cell_type": "markdown",
   "id": "841ffb6c",
   "metadata": {},
   "source": [
    "In local setups,you need to install only once and then anytime, you can import them in all other files\n",
    "\n",
    "In cloud,you have to install and import everytime you open script"
   ]
  },
  {
   "cell_type": "code",
   "execution_count": null,
   "id": "6c3e3e19",
   "metadata": {},
   "outputs": [],
   "source": []
  }
 ],
 "metadata": {
  "kernelspec": {
   "display_name": "Python 3",
   "language": "python",
   "name": "python3"
  },
  "language_info": {
   "codemirror_mode": {
    "name": "ipython",
    "version": 3
   },
   "file_extension": ".py",
   "mimetype": "text/x-python",
   "name": "python",
   "nbconvert_exporter": "python",
   "pygments_lexer": "ipython3",
   "version": "3.7.7"
  }
 },
 "nbformat": 4,
 "nbformat_minor": 5
}