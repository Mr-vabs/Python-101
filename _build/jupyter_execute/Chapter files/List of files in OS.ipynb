{
 "cells": [
  {
   "cell_type": "markdown",
   "id": "8a252b4e",
   "metadata": {},
   "source": [
    "## Getting the list of all the files from OS"
   ]
  },
  {
   "cell_type": "code",
   "execution_count": 1,
   "id": "607699c8",
   "metadata": {},
   "outputs": [],
   "source": [
    "import os\n",
    "import pandas as pd\n",
    "\n",
    "# Getting the current work directory (cwd)\n",
    "thisdir = os.getcwd()\n",
    "\n",
    "# Getting the reqd directory\n",
    "thatdir='C:\\\\Users\\\\Sahil Choudhary\\\\Book\\\\Python'\n",
    "\n",
    "# Traditional way\n",
    "# r=root, d=directories, f = files\n",
    "\n",
    "# csv_files=[]\n",
    "# for r, d, f in os.walk(thisdir):\n",
    "#     for file in f:\n",
    "#         if file.endswith(\".csv\"):\n",
    "#             csv_files.append(file)\n",
    "\n",
    "\n",
    "# Single line pythonic way            \n",
    "csv_files=[ file for r, d, f in os.walk(thisdir) for file in f if file.endswith('.csv')] \n",
    "# outer loop first,then inner loop(just like traditional) and then if condition"
   ]
  },
  {
   "cell_type": "code",
   "execution_count": 2,
   "id": "c7cb8197",
   "metadata": {},
   "outputs": [
    {
     "data": {
      "text/plain": [
       "['demo.csv', 'demo2.csv']"
      ]
     },
     "execution_count": 2,
     "metadata": {},
     "output_type": "execute_result"
    }
   ],
   "source": [
    "csv_files"
   ]
  },
  {
   "cell_type": "code",
   "execution_count": 3,
   "id": "7734fd87",
   "metadata": {},
   "outputs": [],
   "source": [
    "# applying some filters if you want\n",
    "# Lists_list=[i for i in python_files if 'List' in i and 'checkpoint' not in i]"
   ]
  },
  {
   "cell_type": "code",
   "execution_count": 4,
   "id": "bd5f7ecb",
   "metadata": {},
   "outputs": [
    {
     "data": {
      "text/plain": [
       "2"
      ]
     },
     "execution_count": 4,
     "metadata": {},
     "output_type": "execute_result"
    }
   ],
   "source": [
    "len(csv_files)"
   ]
  },
  {
   "cell_type": "code",
   "execution_count": 5,
   "id": "faa9922b",
   "metadata": {},
   "outputs": [
    {
     "data": {
      "text/plain": [
       "['demo.csv', 'demo2.csv']"
      ]
     },
     "execution_count": 5,
     "metadata": {},
     "output_type": "execute_result"
    }
   ],
   "source": [
    "csv_files"
   ]
  },
  {
   "cell_type": "markdown",
   "id": "c0b01850",
   "metadata": {},
   "source": [
    "### Reading all as CSVs and converting them into single df"
   ]
  },
  {
   "cell_type": "code",
   "execution_count": 6,
   "id": "e21fc5dd",
   "metadata": {},
   "outputs": [],
   "source": [
    "# create empty list\n",
    "dataframes_list = []\n",
    "\n",
    "# append datasets into the list\n",
    "for i in range(len(csv_files)):\n",
    "    if 'csv' in csv_files[i]:\n",
    "        temp_df = pd.read_csv(csv_files[i])\n",
    "        dataframes_list.append(temp_df)"
   ]
  },
  {
   "cell_type": "code",
   "execution_count": 7,
   "id": "3e366270",
   "metadata": {},
   "outputs": [
    {
     "data": {
      "text/plain": [
       "[             Name Hire Date   Salary  Sick Days remaining\n",
       " 0  Graham Chapman  03/15/14  50000.0                   10\n",
       " 1     John Cleese  06/01/15  65000.0                    8\n",
       " 2       Eric Idle  05/12/14  45000.0                   10\n",
       " 3     Terry Jones  11/01/13  70000.0                    3\n",
       " 4   Terry Gilliam  08/12/14  48000.0                    7\n",
       " 5   Michael Palin  05/23/13  66000.0                    8,\n",
       "              Name   Hire Date   Salary  Sick Days remaining\n",
       " 0  Graham Chapman  2014-03-15  50000.0                   10\n",
       " 1     John Cleese  2015-06-01  65000.0                    8\n",
       " 2       Eric Idle  2014-05-12  45000.0                   10\n",
       " 3     Terry Jones  2013-11-01  70000.0                    3\n",
       " 4   Terry Gilliam  2014-08-12  48000.0                    7\n",
       " 5   Michael Palin  2013-05-23  66000.0                    8]"
      ]
     },
     "execution_count": 7,
     "metadata": {},
     "output_type": "execute_result"
    }
   ],
   "source": [
    "dataframes_list"
   ]
  },
  {
   "cell_type": "markdown",
   "id": "9a6a2c3c",
   "metadata": {},
   "source": [
    "### Applying operations on multiple dataframes at ones"
   ]
  },
  {
   "cell_type": "code",
   "execution_count": 8,
   "id": "981b4fe2",
   "metadata": {},
   "outputs": [],
   "source": [
    "def filter(df):\n",
    "    return df[df.Name=='Graham Chapman']\n",
    "\n",
    "\n",
    "df1, df2 = [filter(df) for df in dataframes_list]"
   ]
  },
  {
   "cell_type": "code",
   "execution_count": 9,
   "id": "aab65469",
   "metadata": {},
   "outputs": [
    {
     "data": {
      "text/html": [
       "<div>\n",
       "<style scoped>\n",
       "    .dataframe tbody tr th:only-of-type {\n",
       "        vertical-align: middle;\n",
       "    }\n",
       "\n",
       "    .dataframe tbody tr th {\n",
       "        vertical-align: top;\n",
       "    }\n",
       "\n",
       "    .dataframe thead th {\n",
       "        text-align: right;\n",
       "    }\n",
       "</style>\n",
       "<table border=\"1\" class=\"dataframe\">\n",
       "  <thead>\n",
       "    <tr style=\"text-align: right;\">\n",
       "      <th></th>\n",
       "      <th>Name</th>\n",
       "      <th>Hire Date</th>\n",
       "      <th>Salary</th>\n",
       "      <th>Sick Days remaining</th>\n",
       "    </tr>\n",
       "  </thead>\n",
       "  <tbody>\n",
       "    <tr>\n",
       "      <th>0</th>\n",
       "      <td>Graham Chapman</td>\n",
       "      <td>03/15/14</td>\n",
       "      <td>50000.0</td>\n",
       "      <td>10</td>\n",
       "    </tr>\n",
       "  </tbody>\n",
       "</table>\n",
       "</div>"
      ],
      "text/plain": [
       "             Name Hire Date   Salary  Sick Days remaining\n",
       "0  Graham Chapman  03/15/14  50000.0                   10"
      ]
     },
     "execution_count": 9,
     "metadata": {},
     "output_type": "execute_result"
    }
   ],
   "source": [
    "df1"
   ]
  },
  {
   "cell_type": "code",
   "execution_count": 10,
   "id": "3d4673c9",
   "metadata": {},
   "outputs": [
    {
     "data": {
      "text/html": [
       "<div>\n",
       "<style scoped>\n",
       "    .dataframe tbody tr th:only-of-type {\n",
       "        vertical-align: middle;\n",
       "    }\n",
       "\n",
       "    .dataframe tbody tr th {\n",
       "        vertical-align: top;\n",
       "    }\n",
       "\n",
       "    .dataframe thead th {\n",
       "        text-align: right;\n",
       "    }\n",
       "</style>\n",
       "<table border=\"1\" class=\"dataframe\">\n",
       "  <thead>\n",
       "    <tr style=\"text-align: right;\">\n",
       "      <th></th>\n",
       "      <th>Name</th>\n",
       "      <th>Hire Date</th>\n",
       "      <th>Salary</th>\n",
       "      <th>Sick Days remaining</th>\n",
       "    </tr>\n",
       "  </thead>\n",
       "  <tbody>\n",
       "    <tr>\n",
       "      <th>0</th>\n",
       "      <td>Graham Chapman</td>\n",
       "      <td>2014-03-15</td>\n",
       "      <td>50000.0</td>\n",
       "      <td>10</td>\n",
       "    </tr>\n",
       "  </tbody>\n",
       "</table>\n",
       "</div>"
      ],
      "text/plain": [
       "             Name   Hire Date   Salary  Sick Days remaining\n",
       "0  Graham Chapman  2014-03-15  50000.0                   10"
      ]
     },
     "execution_count": 10,
     "metadata": {},
     "output_type": "execute_result"
    }
   ],
   "source": [
    "df2"
   ]
  }
 ],
 "metadata": {
  "kernelspec": {
   "display_name": "Python 3",
   "language": "python",
   "name": "python3"
  },
  "language_info": {
   "codemirror_mode": {
    "name": "ipython",
    "version": 3
   },
   "file_extension": ".py",
   "mimetype": "text/x-python",
   "name": "python",
   "nbconvert_exporter": "python",
   "pygments_lexer": "ipython3",
   "version": "3.7.7"
  }
 },
 "nbformat": 4,
 "nbformat_minor": 5
}