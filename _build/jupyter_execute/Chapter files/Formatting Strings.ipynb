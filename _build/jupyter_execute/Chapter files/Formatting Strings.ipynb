{
 "cells": [
  {
   "cell_type": "markdown",
   "id": "08de8205",
   "metadata": {},
   "source": [
    "## Formatting Strings"
   ]
  },
  {
   "cell_type": "markdown",
   "id": "48515c0e",
   "metadata": {},
   "source": [
    "- Dynamic strings"
   ]
  },
  {
   "cell_type": "code",
   "execution_count": 1,
   "id": "d07d9770",
   "metadata": {},
   "outputs": [],
   "source": [
    "name='Sahil'\n",
    "age=25"
   ]
  },
  {
   "cell_type": "markdown",
   "id": "9df7e374",
   "metadata": {},
   "source": [
    "### Using .format()"
   ]
  },
  {
   "cell_type": "code",
   "execution_count": 2,
   "id": "9271f7c0",
   "metadata": {},
   "outputs": [
    {
     "name": "stdout",
     "output_type": "stream",
     "text": [
      "My name is Sahil. I am 25 years old\n"
     ]
    }
   ],
   "source": [
    "print('My name is {}. I am {} years old'.format(name,age))"
   ]
  },
  {
   "cell_type": "markdown",
   "id": "90a5d420",
   "metadata": {},
   "source": [
    "### F-string - Better way !!"
   ]
  },
  {
   "cell_type": "markdown",
   "id": "6cd13170",
   "metadata": {},
   "source": [
    "- Just place f in start of string\n",
    "- You can add variables directly\n",
    "- You don't need to first convert everything to string and then do concatenation"
   ]
  },
  {
   "cell_type": "code",
   "execution_count": 3,
   "id": "fa5e62e4",
   "metadata": {},
   "outputs": [
    {
     "name": "stdout",
     "output_type": "stream",
     "text": [
      "My name is Sahil. I am 25 years old\n"
     ]
    }
   ],
   "source": [
    "print(f\"My name is {name}. I am {age} years old\")"
   ]
  },
  {
   "cell_type": "markdown",
   "id": "6ab5ef6c",
   "metadata": {},
   "source": [
    "- You can run functions on variables and evaluate or perform computation within string"
   ]
  },
  {
   "cell_type": "code",
   "execution_count": 4,
   "id": "ce587ee0",
   "metadata": {},
   "outputs": [
    {
     "name": "stdout",
     "output_type": "stream",
     "text": [
      "My name is SAHIL. I am 26.0 years old\n"
     ]
    }
   ],
   "source": [
    "print(f\"My name is {name.upper()}. I am {float(age+1)} years old\")"
   ]
  },
  {
   "cell_type": "code",
   "execution_count": 5,
   "id": "962f5317",
   "metadata": {},
   "outputs": [],
   "source": [
    "dict={'name':'sahil','age':25}"
   ]
  },
  {
   "cell_type": "code",
   "execution_count": 6,
   "id": "ac6c1ca4",
   "metadata": {},
   "outputs": [
    {
     "ename": "SyntaxError",
     "evalue": "invalid syntax (<ipython-input-6-20779f222600>, line 1)",
     "output_type": "error",
     "traceback": [
      "\u001b[1;36m  File \u001b[1;32m\"<ipython-input-6-20779f222600>\"\u001b[1;36m, line \u001b[1;32m1\u001b[0m\n\u001b[1;33m    print(f'My name is {dict['name']}. I am {dict['age']} years old')\u001b[0m\n\u001b[1;37m                                 ^\u001b[0m\n\u001b[1;31mSyntaxError\u001b[0m\u001b[1;31m:\u001b[0m invalid syntax\n"
     ]
    }
   ],
   "source": [
    "print(f'My name is {dict['name']}. I am {dict['age']} years old')"
   ]
  },
  {
   "cell_type": "markdown",
   "id": "5c3c5253",
   "metadata": {},
   "source": [
    "- Note: Error came because pythn gets confused in single quotes used in string\n",
    "    - So,always use double quotes to start and end a string"
   ]
  },
  {
   "cell_type": "code",
   "execution_count": 17,
   "id": "89fb6f94",
   "metadata": {},
   "outputs": [
    {
     "name": "stdout",
     "output_type": "stream",
     "text": [
      "My name is sahil. I am 25 years old\n"
     ]
    }
   ],
   "source": [
    "print(f\"My name is {dict['name']}. I am {dict['age']} years old\")"
   ]
  },
  {
   "cell_type": "code",
   "execution_count": null,
   "id": "a157b285",
   "metadata": {},
   "outputs": [],
   "source": []
  }
 ],
 "metadata": {
  "kernelspec": {
   "display_name": "Python 3",
   "language": "python",
   "name": "python3"
  },
  "language_info": {
   "codemirror_mode": {
    "name": "ipython",
    "version": 3
   },
   "file_extension": ".py",
   "mimetype": "text/x-python",
   "name": "python",
   "nbconvert_exporter": "python",
   "pygments_lexer": "ipython3",
   "version": "3.7.7"
  }
 },
 "nbformat": 4,
 "nbformat_minor": 5
}