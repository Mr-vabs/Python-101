{
 "cells": [
  {
   "cell_type": "markdown",
   "id": "31e14143",
   "metadata": {},
   "source": [
    "## Append 2 lists"
   ]
  },
  {
   "cell_type": "code",
   "execution_count": 1,
   "id": "4fd8fcaa",
   "metadata": {},
   "outputs": [],
   "source": [
    "names=['Sahil','Sonia','Abhi','Sourav']\n",
    "age=[10,20,30]"
   ]
  },
  {
   "cell_type": "code",
   "execution_count": 2,
   "id": "44710703",
   "metadata": {},
   "outputs": [
    {
     "data": {
      "text/plain": [
       "['Sahil', 'Sonia', 'Abhi', 'Sourav', 10, 20, 30]"
      ]
     },
     "execution_count": 2,
     "metadata": {},
     "output_type": "execute_result"
    }
   ],
   "source": [
    "names+age"
   ]
  }
 ],
 "metadata": {
  "kernelspec": {
   "display_name": "Python 3",
   "language": "python",
   "name": "python3"
  },
  "language_info": {
   "codemirror_mode": {
    "name": "ipython",
    "version": 3
   },
   "file_extension": ".py",
   "mimetype": "text/x-python",
   "name": "python",
   "nbconvert_exporter": "python",
   "pygments_lexer": "ipython3",
   "version": "3.7.7"
  }
 },
 "nbformat": 4,
 "nbformat_minor": 5
}