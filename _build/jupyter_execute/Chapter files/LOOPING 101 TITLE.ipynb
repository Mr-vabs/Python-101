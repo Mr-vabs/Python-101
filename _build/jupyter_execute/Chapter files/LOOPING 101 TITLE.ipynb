{
 "cells": [
  {
   "cell_type": "markdown",
   "id": "dfbb0eba",
   "metadata": {},
   "source": [
    "## Looping  "
   ]
  },
  {
   "cell_type": "markdown",
   "id": "abbe80de",
   "metadata": {},
   "source": [
    "This chapter covers some useful Looping concepts"
   ]
  }
 ],
 "metadata": {
  "kernelspec": {
   "display_name": "Python 3",
   "language": "python",
   "name": "python3"
  },
  "language_info": {
   "codemirror_mode": {
    "name": "ipython",
    "version": 3
   },
   "file_extension": ".py",
   "mimetype": "text/x-python",
   "name": "python",
   "nbconvert_exporter": "python",
   "pygments_lexer": "ipython3",
   "version": "3.7.7"
  }
 },
 "nbformat": 4,
 "nbformat_minor": 5
}