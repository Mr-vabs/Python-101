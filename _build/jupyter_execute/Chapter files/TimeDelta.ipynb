{
 "cells": [
  {
   "cell_type": "markdown",
   "id": "92f5ec54",
   "metadata": {},
   "source": [
    "## TimeDelta"
   ]
  },
  {
   "cell_type": "markdown",
   "id": "1366ab07",
   "metadata": {},
   "source": [
    "### Add to dates to get future dates"
   ]
  },
  {
   "cell_type": "markdown",
   "id": "0a614641",
   "metadata": {},
   "source": [
    "- date+date = timeedelta\n",
    "- date+timedelta=date"
   ]
  },
  {
   "cell_type": "code",
   "execution_count": 1,
   "id": "da992f09",
   "metadata": {},
   "outputs": [],
   "source": [
    "import datetime\n",
    "seven_days=datetime.timedelta(days=7) # 7 dats after date\n",
    "date=datetime.date(2021,7,24) "
   ]
  },
  {
   "cell_type": "code",
   "execution_count": 2,
   "id": "8dc5c651",
   "metadata": {},
   "outputs": [],
   "source": [
    "# date(date)+7day(timedelta)\n",
    "a=date+seven_days"
   ]
  },
  {
   "cell_type": "code",
   "execution_count": 3,
   "id": "e5ae873c",
   "metadata": {},
   "outputs": [
    {
     "data": {
      "text/plain": [
       "datetime.date(2021, 7, 31)"
      ]
     },
     "execution_count": 3,
     "metadata": {},
     "output_type": "execute_result"
    }
   ],
   "source": [
    "a"
   ]
  },
  {
   "cell_type": "code",
   "execution_count": 4,
   "id": "1bf431a6",
   "metadata": {},
   "outputs": [
    {
     "name": "stdout",
     "output_type": "stream",
     "text": [
      "2021-07-31\n"
     ]
    }
   ],
   "source": [
    "print(a)"
   ]
  }
 ],
 "metadata": {
  "kernelspec": {
   "display_name": "Python 3",
   "language": "python",
   "name": "python3"
  },
  "language_info": {
   "codemirror_mode": {
    "name": "ipython",
    "version": 3
   },
   "file_extension": ".py",
   "mimetype": "text/x-python",
   "name": "python",
   "nbconvert_exporter": "python",
   "pygments_lexer": "ipython3",
   "version": "3.7.7"
  }
 },
 "nbformat": 4,
 "nbformat_minor": 5
}