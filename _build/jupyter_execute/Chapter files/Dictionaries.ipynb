{
 "cells": [
  {
   "cell_type": "markdown",
   "id": "d240914c",
   "metadata": {},
   "source": [
    "## Dictionaries"
   ]
  },
  {
   "cell_type": "code",
   "execution_count": 1,
   "id": "4fd8fcaa",
   "metadata": {},
   "outputs": [
    {
     "data": {
      "text/plain": [
       "{'name': 'Sahil',\n",
       " 'age': 24,\n",
       " 'gender': 'Male',\n",
       " 'profession': ['Data Analyst', 'SDE', 'SEO']}"
      ]
     },
     "execution_count": 1,
     "metadata": {},
     "output_type": "execute_result"
    }
   ],
   "source": [
    "dict1={\n",
    "    'name':\"Sahil\",\n",
    "    'age':24,\n",
    "    'gender':'Male',\n",
    "    'profession':['Data Analyst','SDE','SEO']\n",
    "}\n",
    "dict1"
   ]
  },
  {
   "cell_type": "markdown",
   "id": "2f7b0364",
   "metadata": {},
   "source": [
    "### Get all Keys"
   ]
  },
  {
   "cell_type": "code",
   "execution_count": 2,
   "id": "b5fb7d15",
   "metadata": {},
   "outputs": [
    {
     "data": {
      "text/plain": [
       "dict_keys(['name', 'age', 'gender', 'profession'])"
      ]
     },
     "execution_count": 2,
     "metadata": {},
     "output_type": "execute_result"
    }
   ],
   "source": [
    "dict1.keys()"
   ]
  },
  {
   "cell_type": "markdown",
   "id": "e4a1a193",
   "metadata": {},
   "source": [
    "### Get all Values"
   ]
  },
  {
   "cell_type": "code",
   "execution_count": 3,
   "id": "fb6178f9",
   "metadata": {},
   "outputs": [
    {
     "data": {
      "text/plain": [
       "dict_values(['Sahil', 24, 'Male', ['Data Analyst', 'SDE', 'SEO']])"
      ]
     },
     "execution_count": 3,
     "metadata": {},
     "output_type": "execute_result"
    }
   ],
   "source": [
    "dict1.values()"
   ]
  },
  {
   "cell_type": "markdown",
   "id": "cf39ebda",
   "metadata": {},
   "source": [
    "### Get Keys+Values"
   ]
  },
  {
   "cell_type": "code",
   "execution_count": 4,
   "id": "4297642b",
   "metadata": {},
   "outputs": [
    {
     "data": {
      "text/plain": [
       "dict_items([('name', 'Sahil'), ('age', 24), ('gender', 'Male'), ('profession', ['Data Analyst', 'SDE', 'SEO'])])"
      ]
     },
     "execution_count": 4,
     "metadata": {},
     "output_type": "execute_result"
    }
   ],
   "source": [
    "dict1.items()"
   ]
  },
  {
   "cell_type": "markdown",
   "id": "8df1cbd1",
   "metadata": {},
   "source": [
    "### Get specific Values"
   ]
  },
  {
   "cell_type": "markdown",
   "id": "3bb7dd5e",
   "metadata": {},
   "source": [
    "- dict1['key you want value for']"
   ]
  },
  {
   "cell_type": "code",
   "execution_count": 5,
   "id": "a0db3592",
   "metadata": {},
   "outputs": [
    {
     "data": {
      "text/plain": [
       "'Sahil'"
      ]
     },
     "execution_count": 5,
     "metadata": {},
     "output_type": "execute_result"
    }
   ],
   "source": [
    "dict1['name']"
   ]
  },
  {
   "cell_type": "code",
   "execution_count": 6,
   "id": "8fe40412",
   "metadata": {},
   "outputs": [
    {
     "data": {
      "text/plain": [
       "'SDE'"
      ]
     },
     "execution_count": 6,
     "metadata": {},
     "output_type": "execute_result"
    }
   ],
   "source": [
    "dict1['profession'][1]"
   ]
  },
  {
   "cell_type": "markdown",
   "id": "4b3ce28e",
   "metadata": {},
   "source": [
    "### Assigning/Overwritting Values"
   ]
  },
  {
   "cell_type": "code",
   "execution_count": 7,
   "id": "cc99e93e",
   "metadata": {},
   "outputs": [
    {
     "data": {
      "text/plain": [
       "{'name': 'Sahil Choudhary',\n",
       " 'age': 24,\n",
       " 'gender': 'Male',\n",
       " 'profession': ['Data Analyst', 'SDE', 'SEO']}"
      ]
     },
     "execution_count": 7,
     "metadata": {},
     "output_type": "execute_result"
    }
   ],
   "source": [
    "dict1['name']='Sahil Choudhary'\n",
    "dict1"
   ]
  },
  {
   "cell_type": "markdown",
   "id": "43c2ee31",
   "metadata": {},
   "source": [
    "### Adding new keys/values"
   ]
  },
  {
   "cell_type": "code",
   "execution_count": 8,
   "id": "e4b0ebc0",
   "metadata": {},
   "outputs": [
    {
     "data": {
      "text/plain": [
       "{'name': 'Sahil Choudhary',\n",
       " 'age': 24,\n",
       " 'gender': 'Male',\n",
       " 'profession': ['Data Analyst', 'SDE', 'SEO'],\n",
       " 'email': 'officialhksahil@gmail.com'}"
      ]
     },
     "execution_count": 8,
     "metadata": {},
     "output_type": "execute_result"
    }
   ],
   "source": [
    "dict1['email']='officialhksahil@gmail.com'\n",
    "dict1"
   ]
  },
  {
   "cell_type": "markdown",
   "id": "0aba81c3",
   "metadata": {},
   "source": [
    "### Removing key/value pair"
   ]
  },
  {
   "cell_type": "code",
   "execution_count": 9,
   "id": "cd9f33f8",
   "metadata": {},
   "outputs": [
    {
     "data": {
      "text/plain": [
       "{'name': 'Sahil Choudhary',\n",
       " 'gender': 'Male',\n",
       " 'profession': ['Data Analyst', 'SDE', 'SEO'],\n",
       " 'email': 'officialhksahil@gmail.com'}"
      ]
     },
     "execution_count": 9,
     "metadata": {},
     "output_type": "execute_result"
    }
   ],
   "source": [
    "del dict1['age']\n",
    "dict1"
   ]
  },
  {
   "cell_type": "markdown",
   "id": "529eaedb",
   "metadata": {},
   "source": [
    "### Looping"
   ]
  },
  {
   "cell_type": "markdown",
   "id": "f2fa87f7",
   "metadata": {},
   "source": [
    "#### By default,it gives keys only"
   ]
  },
  {
   "cell_type": "code",
   "execution_count": 10,
   "id": "d975fe65",
   "metadata": {},
   "outputs": [
    {
     "name": "stdout",
     "output_type": "stream",
     "text": [
      "name\n",
      "gender\n",
      "profession\n",
      "email\n"
     ]
    }
   ],
   "source": [
    "for x in dict1:\n",
    "    print(x)"
   ]
  },
  {
   "cell_type": "markdown",
   "id": "9c0f9497",
   "metadata": {},
   "source": [
    "#### To loop through keys and values : items is the solution always"
   ]
  },
  {
   "cell_type": "code",
   "execution_count": 11,
   "id": "94b187b9",
   "metadata": {},
   "outputs": [
    {
     "name": "stdout",
     "output_type": "stream",
     "text": [
      "name Sahil Choudhary\n",
      "gender Male\n",
      "profession ['Data Analyst', 'SDE', 'SEO']\n",
      "email officialhksahil@gmail.com\n"
     ]
    }
   ],
   "source": [
    "for x,y in dict1.items():\n",
    "    print(x,y)"
   ]
  }
 ],
 "metadata": {
  "kernelspec": {
   "display_name": "Python 3",
   "language": "python",
   "name": "python3"
  },
  "language_info": {
   "codemirror_mode": {
    "name": "ipython",
    "version": 3
   },
   "file_extension": ".py",
   "mimetype": "text/x-python",
   "name": "python",
   "nbconvert_exporter": "python",
   "pygments_lexer": "ipython3",
   "version": "3.7.7"
  }
 },
 "nbformat": 4,
 "nbformat_minor": 5
}