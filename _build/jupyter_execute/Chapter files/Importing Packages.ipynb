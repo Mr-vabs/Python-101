{
 "cells": [
  {
   "cell_type": "markdown",
   "id": "b78c856a",
   "metadata": {},
   "source": [
    "### Importing Packages"
   ]
  },
  {
   "cell_type": "code",
   "execution_count": 1,
   "id": "2dfb18a9",
   "metadata": {},
   "outputs": [],
   "source": [
    "# !import module_name"
   ]
  },
  {
   "cell_type": "markdown",
   "id": "9aba6c90",
   "metadata": {},
   "source": [
    "Now,all the obects and functions present in that module can be accessed by module name followed by dot(.)\n",
    "\n",
    "eg, If lets say module_name has object,s=\"text\" and function,def foo(arg)\n",
    "\n",
    "You can access both the things using module_name.s and module_name.foo(5)"
   ]
  },
  {
   "cell_type": "markdown",
   "id": "f2059330",
   "metadata": {},
   "source": [
    "### Importing everything vs Specifics"
   ]
  },
  {
   "cell_type": "markdown",
   "id": "150ebd27",
   "metadata": {},
   "source": [
    "- If you want to import everything: ```import module_name ``` or ```from module_name import *```   \n",
    "- If you want to import specific things ```from module_name import s,foo``` \n",
    "    - It will be faster\n",
    "    - You can use only things u specified to import"
   ]
  },
  {
   "cell_type": "markdown",
   "id": "e0751e84",
   "metadata": {},
   "source": [
    "### Giving names to Imported modules as shortforms"
   ]
  },
  {
   "cell_type": "code",
   "execution_count": 2,
   "id": "27c93d84",
   "metadata": {},
   "outputs": [],
   "source": [
    "# import pandas as pd\n",
    "# import numpy as np\n",
    "# import matplotlib as plt"
   ]
  }
 ],
 "metadata": {
  "kernelspec": {
   "display_name": "Python 3",
   "language": "python",
   "name": "python3"
  },
  "language_info": {
   "codemirror_mode": {
    "name": "ipython",
    "version": 3
   },
   "file_extension": ".py",
   "mimetype": "text/x-python",
   "name": "python",
   "nbconvert_exporter": "python",
   "pygments_lexer": "ipython3",
   "version": "3.7.7"
  }
 },
 "nbformat": 4,
 "nbformat_minor": 5
}