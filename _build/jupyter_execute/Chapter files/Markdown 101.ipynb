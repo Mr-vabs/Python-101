{
 "cells": [
  {
   "cell_type": "markdown",
   "id": "365ef69d",
   "metadata": {},
   "source": [
    "## Markdown Rules"
   ]
  },
  {
   "cell_type": "markdown",
   "id": "06a08971",
   "metadata": {},
   "source": [
    "- For bold use ```** your text **```\n",
    "- For Italics use ```* you text *```\n",
    "- For Numbers, use \n",
    "\n",
    "```\n",
    "1. \n",
    "2.\n",
    "```\n",
    "- For Bullets, use \n",
    "\n",
    "```\n",
    "- First point\n",
    "- Second point\n",
    "```\n",
    "- For Code, use ``` your code here ``` \n",
    "    - Wrap everything in inverted colons\n",
    "- For Link, use ``` ['g'](http://google.com) ```\n",
    "- For Image, use ``` !['g'](http://google.com) ```\n",
    "- For Table , use\n",
    "```\n",
    "|   |   |   |   |   |\n",
    "|---|---|---|---|---|\n",
    "|   |   |   |   |   |\n",
    "|   |   |   |   |   |\n",
    "|   |   |   |   |   |\n",
    "```"
   ]
  },
  {
   "cell_type": "code",
   "execution_count": null,
   "id": "994a2e05",
   "metadata": {},
   "outputs": [],
   "source": []
  }
 ],
 "metadata": {
  "kernelspec": {
   "display_name": "Python 3",
   "language": "python",
   "name": "python3"
  },
  "language_info": {
   "codemirror_mode": {
    "name": "ipython",
    "version": 3
   },
   "file_extension": ".py",
   "mimetype": "text/x-python",
   "name": "python",
   "nbconvert_exporter": "python",
   "pygments_lexer": "ipython3",
   "version": "3.7.7"
  }
 },
 "nbformat": 4,
 "nbformat_minor": 5
}