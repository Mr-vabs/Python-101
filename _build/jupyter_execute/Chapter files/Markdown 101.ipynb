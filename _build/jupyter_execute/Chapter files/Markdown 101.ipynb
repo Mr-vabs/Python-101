{
 "cells": [
  {
   "cell_type": "markdown",
   "id": "b83473fa",
   "metadata": {},
   "source": [
    "## Markdown 101"
   ]
  },
  {
   "cell_type": "markdown",
   "id": "8c9d74a4",
   "metadata": {},
   "source": [
    "### If you are inside the cell"
   ]
  },
  {
   "cell_type": "markdown",
   "id": "178cd5cc",
   "metadata": {},
   "source": [
    "- a-insert cell above\n",
    "- b-insert cell below\n",
    "- c-copy cell\n",
    "- v-paste cell\n",
    "- f-find"
   ]
  },
  {
   "cell_type": "markdown",
   "id": "072e178b",
   "metadata": {},
   "source": [
    "### If you are outside the cell"
   ]
  },
  {
   "cell_type": "markdown",
   "id": "f45e9ca2",
   "metadata": {},
   "source": [
    "- ESC a-insert cell above\n",
    "- ESC b-insert cell below\n",
    "- ESC c-copy cell\n",
    "- ESC v-paste cell\n",
    "- ESC f-find"
   ]
  },
  {
   "cell_type": "markdown",
   "id": "365ef69d",
   "metadata": {},
   "source": [
    "### Markdown Rules"
   ]
  },
  {
   "cell_type": "code",
   "execution_count": 1,
   "id": "f0d0f376",
   "metadata": {},
   "outputs": [],
   "source": [
    "# For bold use **\n",
    "# For Italics use *\n",
    "# For Numbers, use 1. 2.\n",
    "# For Bullets, use - - \n",
    "# For Code, use ``` ```\n",
    "# For Link, use ['g'](http://google.com)\n",
    "# For Image, use !['g'](http://google.com)\n",
    "# For table , use\n",
    "# |   |   |   |   |   |\n",
    "# |---|---|---|---|---|\n",
    "# |   |   |   |   |   |\n",
    "# |   |   |   |   |   |\n",
    "# |   |   |   |   |   |"
   ]
  },
  {
   "cell_type": "code",
   "execution_count": null,
   "id": "cedb8796",
   "metadata": {},
   "outputs": [],
   "source": []
  }
 ],
 "metadata": {
  "kernelspec": {
   "display_name": "Python 3",
   "language": "python",
   "name": "python3"
  },
  "language_info": {
   "codemirror_mode": {
    "name": "ipython",
    "version": 3
   },
   "file_extension": ".py",
   "mimetype": "text/x-python",
   "name": "python",
   "nbconvert_exporter": "python",
   "pygments_lexer": "ipython3",
   "version": "3.7.7"
  }
 },
 "nbformat": 4,
 "nbformat_minor": 5
}