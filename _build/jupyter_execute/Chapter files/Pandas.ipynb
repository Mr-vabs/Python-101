{
 "cells": [
  {
   "cell_type": "markdown",
   "id": "b83473fa",
   "metadata": {},
   "source": [
    "## Pandas Introduction"
   ]
  },
  {
   "cell_type": "code",
   "execution_count": 1,
   "id": "78cdd7dd",
   "metadata": {},
   "outputs": [],
   "source": [
    "import pandas as pd"
   ]
  },
  {
   "cell_type": "markdown",
   "id": "ad6f39d7",
   "metadata": {},
   "source": [
    "### Series"
   ]
  },
  {
   "cell_type": "markdown",
   "id": "3c05911d",
   "metadata": {},
   "source": [
    "- series is indexed list\n",
    "    - index can be numbers(0,1,2,3) or strings('first','second')\n",
    "- one column of dataframe"
   ]
  },
  {
   "cell_type": "markdown",
   "id": "58f4a08d",
   "metadata": {},
   "source": [
    "### Dataframe"
   ]
  },
  {
   "cell_type": "markdown",
   "id": "f13c3ec5",
   "metadata": {},
   "source": [
    "- combination of series"
   ]
  },
  {
   "cell_type": "code",
   "execution_count": null,
   "id": "d8cf5f75",
   "metadata": {},
   "outputs": [],
   "source": []
  }
 ],
 "metadata": {
  "kernelspec": {
   "display_name": "Python 3",
   "language": "python",
   "name": "python3"
  },
  "language_info": {
   "codemirror_mode": {
    "name": "ipython",
    "version": 3
   },
   "file_extension": ".py",
   "mimetype": "text/x-python",
   "name": "python",
   "nbconvert_exporter": "python",
   "pygments_lexer": "ipython3",
   "version": "3.7.7"
  }
 },
 "nbformat": 4,
 "nbformat_minor": 5
}