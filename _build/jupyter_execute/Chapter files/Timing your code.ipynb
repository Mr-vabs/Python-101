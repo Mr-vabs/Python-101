{
 "cells": [
  {
   "cell_type": "markdown",
   "id": "c8a1d790",
   "metadata": {},
   "source": [
    "## Timing your Code"
   ]
  },
  {
   "cell_type": "markdown",
   "id": "7b3da054",
   "metadata": {},
   "source": [
    "### Approach 1"
   ]
  },
  {
   "cell_type": "markdown",
   "id": "537351fc",
   "metadata": {},
   "source": [
    "- use time library"
   ]
  },
  {
   "cell_type": "code",
   "execution_count": 1,
   "id": "b6804b48",
   "metadata": {},
   "outputs": [
    {
     "name": "stdout",
     "output_type": "stream",
     "text": [
      "0.0\n"
     ]
    }
   ],
   "source": [
    "import time\n",
    "start = time.time()  # tells time in second\n",
    "\"the code you want to test stays here\"\n",
    "end = time.time()\n",
    "print(end - start)"
   ]
  },
  {
   "cell_type": "markdown",
   "id": "795b8611",
   "metadata": {},
   "source": [
    "### Approach 2"
   ]
  },
  {
   "cell_type": "markdown",
   "id": "f0fa1928",
   "metadata": {},
   "source": [
    "use magic command\n",
    "- there are some magic commands in jupyter notebook which u can use to measure time\n",
    "- '%time'\n",
    "    - It is used if you want to measure time of one statement\n",
    "    - If using %,write the statement just after you write %time\n",
    "        - eg, %time [your statement]\n",
    "-'%%time'\n",
    "    - It is used if you want to measure time of whole cell\n",
    "    - If using %%,don't write anything on same line ie,code should start from next line\n",
    "        - eg, %%time\n",
    "           \n",
    "           [your code]\n",
    "    - this can be used for above scenario as well if you write the statement in below line"
   ]
  },
  {
   "cell_type": "markdown",
   "id": "35cc8089",
   "metadata": {},
   "source": [
    "### Examples"
   ]
  },
  {
   "cell_type": "code",
   "execution_count": 2,
   "id": "35aed195",
   "metadata": {},
   "outputs": [
    {
     "name": "stdout",
     "output_type": "stream",
     "text": [
      "Wall time: 0 ns\n"
     ]
    },
    {
     "data": {
      "text/plain": [
       "[1, 3, 5, 7, 9]"
      ]
     },
     "execution_count": 2,
     "metadata": {},
     "output_type": "execute_result"
    }
   ],
   "source": [
    "%time [i for i in range(1,10,2)]"
   ]
  },
  {
   "cell_type": "code",
   "execution_count": 3,
   "id": "3827e2ed",
   "metadata": {},
   "outputs": [
    {
     "name": "stdout",
     "output_type": "stream",
     "text": [
      "Wall time: 5.98 ms\n"
     ]
    }
   ],
   "source": [
    "%%time\n",
    "l=[i for i in range(1,100000,2)]\n",
    "l=l*22"
   ]
  },
  {
   "cell_type": "code",
   "execution_count": null,
   "id": "799419d4",
   "metadata": {},
   "outputs": [],
   "source": []
  }
 ],
 "metadata": {
  "kernelspec": {
   "display_name": "Python 3",
   "language": "python",
   "name": "python3"
  },
  "language_info": {
   "codemirror_mode": {
    "name": "ipython",
    "version": 3
   },
   "file_extension": ".py",
   "mimetype": "text/x-python",
   "name": "python",
   "nbconvert_exporter": "python",
   "pygments_lexer": "ipython3",
   "version": "3.7.7"
  }
 },
 "nbformat": 4,
 "nbformat_minor": 5
}