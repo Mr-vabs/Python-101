{
 "cells": [
  {
   "cell_type": "markdown",
   "id": "d240914c",
   "metadata": {},
   "source": [
    "## Shallow vs Deep copy"
   ]
  },
  {
   "cell_type": "markdown",
   "id": "88e5893a",
   "metadata": {},
   "source": [
    "### Pre requistic"
   ]
  },
  {
   "cell_type": "markdown",
   "id": "0390bd52",
   "metadata": {},
   "source": [
    "### Difference between == and is "
   ]
  },
  {
   "cell_type": "markdown",
   "id": "fd409a9d",
   "metadata": {},
   "source": [
    "- == is used to compare values <b>(are they equal)</b>\n",
    "- is is used to compare if same object or not(means pointing to same memory location or not) <b>(are they same)</b>"
   ]
  },
  {
   "cell_type": "code",
   "execution_count": 1,
   "id": "aae6fa92",
   "metadata": {},
   "outputs": [
    {
     "name": "stdout",
     "output_type": "stream",
     "text": [
      "True\n",
      "False\n"
     ]
    }
   ],
   "source": [
    "# example\n",
    "a=500\n",
    "b=500\n",
    "print(a==b)\n",
    "print(a is b)\n",
    "\n",
    "# Note: Python works wierdly in this case if we compare smaller numbers,lets say single digit"
   ]
  },
  {
   "cell_type": "markdown",
   "id": "806ce650",
   "metadata": {},
   "source": [
    "### Problem?"
   ]
  },
  {
   "cell_type": "code",
   "execution_count": 2,
   "id": "fcbc2ce8",
   "metadata": {},
   "outputs": [],
   "source": [
    "a=[1,2,3,4,5]\n",
    "b=a"
   ]
  },
  {
   "cell_type": "code",
   "execution_count": 3,
   "id": "6f78aafa",
   "metadata": {},
   "outputs": [
    {
     "data": {
      "text/plain": [
       "5"
      ]
     },
     "execution_count": 3,
     "metadata": {},
     "output_type": "execute_result"
    }
   ],
   "source": [
    "b.pop()"
   ]
  },
  {
   "cell_type": "code",
   "execution_count": 4,
   "id": "88f5251b",
   "metadata": {},
   "outputs": [
    {
     "name": "stdout",
     "output_type": "stream",
     "text": [
      "[1, 2, 3, 4]\n",
      "[1, 2, 3, 4]\n"
     ]
    }
   ],
   "source": [
    "print(b)\n",
    "print(a)"
   ]
  },
  {
   "cell_type": "markdown",
   "id": "55f4a36e",
   "metadata": {},
   "source": [
    "#### Problem is when we created a copy and changed that,old/original one also got changed,ie,it was shallow copy(by default we get shallow copy)"
   ]
  },
  {
   "cell_type": "markdown",
   "id": "97c97780",
   "metadata": {},
   "source": [
    "- Shallow copy- changes on new one affect the old one\n",
    "- Deep copy- changes on new one won't affect the old one"
   ]
  },
  {
   "cell_type": "markdown",
   "id": "37b5207f",
   "metadata": {},
   "source": [
    "### Solution"
   ]
  },
  {
   "cell_type": "code",
   "execution_count": 5,
   "id": "812e43d5",
   "metadata": {},
   "outputs": [
    {
     "name": "stdout",
     "output_type": "stream",
     "text": [
      "[1, 2, 3, 4, 5]\n",
      "[1, 2, 3, 4, 5]\n"
     ]
    }
   ],
   "source": [
    "# use deep copies\n",
    "import copy\n",
    "a=[1,2,3,4,5]\n",
    "b=copy.deepcopy(a)\n",
    "print(a)\n",
    "print(b)"
   ]
  },
  {
   "cell_type": "code",
   "execution_count": 6,
   "id": "75966c61",
   "metadata": {},
   "outputs": [
    {
     "data": {
      "text/plain": [
       "5"
      ]
     },
     "execution_count": 6,
     "metadata": {},
     "output_type": "execute_result"
    }
   ],
   "source": [
    "b.pop()"
   ]
  },
  {
   "cell_type": "code",
   "execution_count": 7,
   "id": "f867dc96",
   "metadata": {},
   "outputs": [
    {
     "name": "stdout",
     "output_type": "stream",
     "text": [
      "[1, 2, 3, 4, 5]\n",
      "[1, 2, 3, 4]\n"
     ]
    }
   ],
   "source": [
    "print(a)\n",
    "print(b)"
   ]
  },
  {
   "cell_type": "markdown",
   "id": "ab97875c",
   "metadata": {},
   "source": [
    "### All good !!"
   ]
  }
 ],
 "metadata": {
  "kernelspec": {
   "display_name": "Python 3",
   "language": "python",
   "name": "python3"
  },
  "language_info": {
   "codemirror_mode": {
    "name": "ipython",
    "version": 3
   },
   "file_extension": ".py",
   "mimetype": "text/x-python",
   "name": "python",
   "nbconvert_exporter": "python",
   "pygments_lexer": "ipython3",
   "version": "3.7.7"
  }
 },
 "nbformat": 4,
 "nbformat_minor": 5
}