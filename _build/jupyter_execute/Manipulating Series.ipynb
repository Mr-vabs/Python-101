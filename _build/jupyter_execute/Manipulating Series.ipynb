{
 "cells": [
  {
   "cell_type": "markdown",
   "id": "92f5ec54",
   "metadata": {},
   "source": [
    "## Manipulating a Series"
   ]
  },
  {
   "cell_type": "code",
   "execution_count": 1,
   "id": "06e8f3f1",
   "metadata": {},
   "outputs": [],
   "source": [
    "import pandas as pd\n",
    "import numpy as np"
   ]
  },
  {
   "cell_type": "code",
   "execution_count": 2,
   "id": "c8470dfc",
   "metadata": {},
   "outputs": [],
   "source": [
    "s1=pd.Series([1,2,3,4,5])"
   ]
  },
  {
   "cell_type": "code",
   "execution_count": 3,
   "id": "27f342cb",
   "metadata": {},
   "outputs": [
    {
     "data": {
      "text/plain": [
       "0    1\n",
       "1    2\n",
       "2    3\n",
       "3    4\n",
       "4    5\n",
       "dtype: int64"
      ]
     },
     "execution_count": 3,
     "metadata": {},
     "output_type": "execute_result"
    }
   ],
   "source": [
    "s1"
   ]
  },
  {
   "cell_type": "markdown",
   "id": "af682f04",
   "metadata": {},
   "source": [
    "### Series Inspection"
   ]
  },
  {
   "cell_type": "markdown",
   "id": "f41e056d",
   "metadata": {},
   "source": [
    "| Syntax      | Description |\n",
    "| ----------- | ----------- |\n",
    "| Check datatype of series      | s1.dtype       |\n",
    "| Convert datatype of series      | pd.Series(['a','b','c'],dtype=np.float)       |\n",
    "| Find mean of series   | s1.mean()        |\n",
    "| Find sum of series   | s1.sum()        |\n",
    "| Find max of series   | s1.max()        |\n",
    "| Sort values of series   | s1.sort_values()        |\n",
    "| Change the fifth element of series   | s1[2]='d'        |\n",
    "| Add 5 to every element of series   | s1+5        |\n",
    "| Get elements>3   | s1[s1>3]        |\n",
    "| Get negative elements   | s1[s1>=0]        |\n",
    "| Get if element is 2 or 3   | s1[(s1==2) | (s1==3)]        |\n",
    "| Find unique values   | pd.unique(series) or df[''].unique       |\n",
    "| Convert series to list   | s1.to_list() (earlier it used to be tolist()       |\n"
   ]
  },
  {
   "cell_type": "code",
   "execution_count": null,
   "id": "8eaedd5e",
   "metadata": {},
   "outputs": [],
   "source": []
  }
 ],
 "metadata": {
  "kernelspec": {
   "display_name": "Python 3",
   "language": "python",
   "name": "python3"
  },
  "language_info": {
   "codemirror_mode": {
    "name": "ipython",
    "version": 3
   },
   "file_extension": ".py",
   "mimetype": "text/x-python",
   "name": "python",
   "nbconvert_exporter": "python",
   "pygments_lexer": "ipython3",
   "version": "3.7.7"
  }
 },
 "nbformat": 4,
 "nbformat_minor": 5
}