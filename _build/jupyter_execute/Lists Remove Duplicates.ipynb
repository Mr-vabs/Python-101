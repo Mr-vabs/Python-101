{
 "cells": [
  {
   "cell_type": "markdown",
   "id": "31e14143",
   "metadata": {},
   "source": [
    "## Remove Duplicates"
   ]
  },
  {
   "cell_type": "code",
   "execution_count": 1,
   "id": "4fd8fcaa",
   "metadata": {},
   "outputs": [],
   "source": [
    "names=['Sahil','Sonia','Sourav','Sahil']\n",
    "age=[10,20,30]"
   ]
  },
  {
   "cell_type": "markdown",
   "id": "d54fc0e0",
   "metadata": {},
   "source": [
    "#1 Using Ordered dict"
   ]
  },
  {
   "cell_type": "code",
   "execution_count": 2,
   "id": "0c2a89cd",
   "metadata": {},
   "outputs": [
    {
     "data": {
      "text/plain": [
       "['Sahil', 'Sonia', 'Sourav']"
      ]
     },
     "execution_count": 2,
     "metadata": {},
     "output_type": "execute_result"
    }
   ],
   "source": [
    "from collections import OrderedDict\n",
    "list(OrderedDict.fromkeys(names))"
   ]
  },
  {
   "cell_type": "markdown",
   "id": "8f0187b4",
   "metadata": {},
   "source": [
    "#2 Using Set"
   ]
  },
  {
   "cell_type": "code",
   "execution_count": 3,
   "id": "03c01433",
   "metadata": {},
   "outputs": [],
   "source": [
    "names=['Sahil','Sonia','Sourav','Sahil']"
   ]
  },
  {
   "cell_type": "code",
   "execution_count": 4,
   "id": "7a1fb99a",
   "metadata": {},
   "outputs": [
    {
     "data": {
      "text/plain": [
       "['Sonia', 'Sourav', 'Sahil']"
      ]
     },
     "execution_count": 4,
     "metadata": {},
     "output_type": "execute_result"
    }
   ],
   "source": [
    "list(set(names))"
   ]
  },
  {
   "cell_type": "markdown",
   "id": "3267ee3e",
   "metadata": {},
   "source": [
    "#3 Using non pyhonic way"
   ]
  },
  {
   "cell_type": "code",
   "execution_count": 5,
   "id": "f53a9a06",
   "metadata": {},
   "outputs": [],
   "source": [
    "names=['Sahil','Sonia','Sourav','Sahil']"
   ]
  },
  {
   "cell_type": "code",
   "execution_count": 6,
   "id": "63f4ec21",
   "metadata": {},
   "outputs": [
    {
     "data": {
      "text/plain": [
       "['Sahil', 'Sonia', 'Sourav']"
      ]
     },
     "execution_count": 6,
     "metadata": {},
     "output_type": "execute_result"
    }
   ],
   "source": [
    "new=[]\n",
    "for i in names:\n",
    "    if i not in new:\n",
    "        new.append(i)\n",
    "new"
   ]
  }
 ],
 "metadata": {
  "kernelspec": {
   "display_name": "Python 3",
   "language": "python",
   "name": "python3"
  },
  "language_info": {
   "codemirror_mode": {
    "name": "ipython",
    "version": 3
   },
   "file_extension": ".py",
   "mimetype": "text/x-python",
   "name": "python",
   "nbconvert_exporter": "python",
   "pygments_lexer": "ipython3",
   "version": "3.7.7"
  }
 },
 "nbformat": 4,
 "nbformat_minor": 5
}