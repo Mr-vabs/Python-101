{
 "cells": [
  {
   "cell_type": "markdown",
   "id": "d240914c",
   "metadata": {},
   "source": [
    "## Playing with Missing values in dataframe"
   ]
  },
  {
   "cell_type": "markdown",
   "id": "cff1d4c2",
   "metadata": {},
   "source": [
    "### Step 1: Detect the missing values"
   ]
  },
  {
   "cell_type": "markdown",
   "id": "e2bc8fae",
   "metadata": {},
   "source": [
    "``` missing_values=[\"N/A\",\"na\",np.nan(which is NaN)] ```"
   ]
  },
  {
   "cell_type": "markdown",
   "id": "de45540b",
   "metadata": {},
   "source": [
    "- By default, pandas only consider NaN as missing\n",
    "- It ignores na and N/a⇒ Specify custom Nan's while loading file\n",
    "- pd.read_csv('',na_values=missing_values) # very useful"
   ]
  },
  {
   "cell_type": "markdown",
   "id": "40f1b4fe",
   "metadata": {},
   "source": [
    "*Note: If you want to create missing values(NaN)-> use np.nan*"
   ]
  },
  {
   "cell_type": "markdown",
   "id": "08048510",
   "metadata": {},
   "source": [
    "### Step 2: Find the number of missing values in each column"
   ]
  },
  {
   "cell_type": "markdown",
   "id": "4b615fca",
   "metadata": {},
   "source": [
    "``` df.isnull.sum() ``` \n",
    "- will give colname → total missing values in that column"
   ]
  },
  {
   "cell_type": "markdown",
   "id": "5dc75746",
   "metadata": {},
   "source": [
    "```sns.heatmap(df.isnull(),yticklabels=False,annot=True) ```\n",
    "- will plot the missing values"
   ]
  },
  {
   "cell_type": "markdown",
   "id": "754251e1",
   "metadata": {},
   "source": [
    "### Step 3: Handle the Missing Values"
   ]
  },
  {
   "cell_type": "markdown",
   "id": "669163c8",
   "metadata": {},
   "source": [
    "- **Remove** the nan's\n",
    "    - df.dropna() is used\n",
    "    - **Remove the rows containing NaNs**\n",
    "        - Atleast one NaN is there\n",
    "            - ```df.dropna(inplace=True)``` ( is similar to df.dropna(axis=0,how='any',inplace=True))\n",
    "            \n",
    "        - When all values are NaN\n",
    "            - ```df.dropna(axis=0, how='all',inplace=True)```\n",
    "        \n",
    "        - If NaNs>certain threshhold\n",
    "            - ```df.dropna(axis=0, thresh=2,inplace=True)```\n",
    "            \n",
    "        - if NaNs only in specific columns\n",
    "            - ```df.dropna(subset=['ID'],inplace=True)```\n",
    "        \n",
    "        - **Remove the columns containing NaNs**\n",
    "            - Atleast one NaN is there\n",
    "                - ```df.dropna(axis=1,inplace=True)```\n",
    "                \n",
    "            - When all values are NaN\n",
    "                - ```df.dropna(axis=1, how='all', inplace=True)```\n",
    "            \n",
    "            - If NaNs>certain threshhold\n",
    "                - ```df.dropna(axis=1, thresh=2, inplace=True)```\n",
    "    \n",
    "    \n",
    "- **Replacing** the NaN's (missing values) by something else\n",
    "    - df.fillna() is used\n",
    "    - Note: If you have to replace NaNs on entire df,use df.fillna() but if you want to replace NaNs or any particular column,use df['name'].fillna()\n",
    "        - Replace with 0\n",
    "            - ```df.fillna(0,inplace=True)```\n",
    "        - Replace with anything else\n",
    "            - ```df.fillna(\"any value\",inplace=True)```\n",
    "        - Other methods\n",
    "            - Above cell's value will be copied in NaN\n",
    "                - ```df.fillna(method=\"ffill\",inplace=True)```\n",
    "            - Below cell's value will be copied in NaN\n",
    "                - ```df.fillna(method=\"bfill\",inplace=True)```\n",
    "            - Take the average of above and bottom value of NaN's (above+below/2)\n",
    "                - ```df.interpolate()```"
   ]
  },
  {
   "cell_type": "code",
   "execution_count": null,
   "id": "4436bb73",
   "metadata": {},
   "outputs": [],
   "source": []
  }
 ],
 "metadata": {
  "kernelspec": {
   "display_name": "Python 3",
   "language": "python",
   "name": "python3"
  },
  "language_info": {
   "codemirror_mode": {
    "name": "ipython",
    "version": 3
   },
   "file_extension": ".py",
   "mimetype": "text/x-python",
   "name": "python",
   "nbconvert_exporter": "python",
   "pygments_lexer": "ipython3",
   "version": "3.7.7"
  }
 },
 "nbformat": 4,
 "nbformat_minor": 5
}