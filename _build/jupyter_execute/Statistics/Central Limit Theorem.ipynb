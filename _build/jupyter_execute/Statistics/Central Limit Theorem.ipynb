{
 "cells": [
  {
   "cell_type": "markdown",
   "id": "0e8a495c",
   "metadata": {},
   "source": [
    "## Central Limit Theorem"
   ]
  },
  {
   "cell_type": "markdown",
   "id": "31f43e0c",
   "metadata": {},
   "source": [
    "- As the sample size becomes large(tends to infinity), the shape of the distribution resembles a bell shape (normal distribution). \n",
    "    - The center of this sample's distribution becomes very close to the population mean"
   ]
  }
 ],
 "metadata": {
  "kernelspec": {
   "display_name": "Python 3",
   "language": "python",
   "name": "python3"
  },
  "language_info": {
   "codemirror_mode": {
    "name": "ipython",
    "version": 3
   },
   "file_extension": ".py",
   "mimetype": "text/x-python",
   "name": "python",
   "nbconvert_exporter": "python",
   "pygments_lexer": "ipython3",
   "version": "3.7.7"
  }
 },
 "nbformat": 4,
 "nbformat_minor": 5
}