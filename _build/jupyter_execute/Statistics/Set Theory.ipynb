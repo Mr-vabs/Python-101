{
 "cells": [
  {
   "cell_type": "markdown",
   "id": "626da1b8",
   "metadata": {},
   "source": [
    "### Set Theory"
   ]
  },
  {
   "attachments": {},
   "cell_type": "markdown",
   "id": "8bfd0090",
   "metadata": {},
   "source": [
    "- To specify compound events. \n",
    "    - For example, we can represent the event \"roll an even number\" by the set {2, 4, 6}\n",
    "- Talks about union and intersetion venn diagrams\n",
    "- [![sets.png](https://i.postimg.cc/sgNz5Rpc/sets.png)](https://postimg.cc/HrXFCRvc)"
   ]
  },
  {
   "cell_type": "code",
   "execution_count": null,
   "id": "b7c024af",
   "metadata": {},
   "outputs": [],
   "source": []
  }
 ],
 "metadata": {
  "kernelspec": {
   "display_name": "Python 3",
   "language": "python",
   "name": "python3"
  },
  "language_info": {
   "codemirror_mode": {
    "name": "ipython",
    "version": 3
   },
   "file_extension": ".py",
   "mimetype": "text/x-python",
   "name": "python",
   "nbconvert_exporter": "python",
   "pygments_lexer": "ipython3",
   "version": "3.7.7"
  }
 },
 "nbformat": 4,
 "nbformat_minor": 5
}