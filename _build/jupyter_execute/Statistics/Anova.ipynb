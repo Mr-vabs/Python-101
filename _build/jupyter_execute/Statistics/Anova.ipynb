{
 "cells": [
  {
   "cell_type": "markdown",
   "id": "626da1b8",
   "metadata": {},
   "source": [
    "### Analysis of Variance(ANOVA)"
   ]
  },
  {
   "cell_type": "markdown",
   "id": "eb07afdf",
   "metadata": {},
   "source": [
    "- Analysis of Variance (ANOVA) is a statistical method for testing whether groups of data have the same mean.\n",
    "- ANOVA compares the sum of square error within and between groups"
   ]
  },
  {
   "attachments": {},
   "cell_type": "markdown",
   "id": "5d0a76f2",
   "metadata": {},
   "source": [
    "[![anova.png](https://i.postimg.cc/GhzdhDt6/anova.png)](https://postimg.cc/Mvch9vyY)"
   ]
  },
  {
   "cell_type": "code",
   "execution_count": null,
   "id": "5306aaa0",
   "metadata": {},
   "outputs": [],
   "source": []
  }
 ],
 "metadata": {
  "kernelspec": {
   "display_name": "Python 3",
   "language": "python",
   "name": "python3"
  },
  "language_info": {
   "codemirror_mode": {
    "name": "ipython",
    "version": 3
   },
   "file_extension": ".py",
   "mimetype": "text/x-python",
   "name": "python",
   "nbconvert_exporter": "python",
   "pygments_lexer": "ipython3",
   "version": "3.7.7"
  }
 },
 "nbformat": 4,
 "nbformat_minor": 5
}