{
 "cells": [
  {
   "cell_type": "markdown",
   "id": "0e8a495c",
   "metadata": {},
   "source": [
    "## Estimations in Stats"
   ]
  },
  {
   "cell_type": "markdown",
   "id": "94f5d128",
   "metadata": {},
   "source": [
    "- One of the main goals of statistics is to estimate unknown parameters\n",
    "- Estmations level:\n",
    "    - Estimate a parameter by specifyiing a point\n",
    "        - Called Point Estimators\n",
    "    - Estimate a parameter by specifying a range of possible values\n",
    "        - Called Interval Estimators( Confidence "
   ]
  }
 ],
 "metadata": {
  "kernelspec": {
   "display_name": "Python 3",
   "language": "python",
   "name": "python3"
  },
  "language_info": {
   "codemirror_mode": {
    "name": "ipython",
    "version": 3
   },
   "file_extension": ".py",
   "mimetype": "text/x-python",
   "name": "python",
   "nbconvert_exporter": "python",
   "pygments_lexer": "ipython3",
   "version": "3.7.7"
  }
 },
 "nbformat": 4,
 "nbformat_minor": 5
}