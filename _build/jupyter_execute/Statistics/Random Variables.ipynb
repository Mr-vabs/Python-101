{
 "cells": [
  {
   "cell_type": "markdown",
   "id": "e09bab3c",
   "metadata": {},
   "source": [
    "### Random Variables"
   ]
  },
  {
   "cell_type": "markdown",
   "id": "aeb96cd1",
   "metadata": {},
   "source": [
    "- In probability,we calculate the probablity(chances of outcomes)\n",
    "- We need to assign a number to each outcome\n",
    "- Function which does this is called random variable\n",
    "- For example,in below example :\n",
    "    - I clicked on any hexagon (click means outcome) and then gave it a number\n",
    "    - Repeated it for all the outcomes\n",
    "        - We now have random variable"
   ]
  },
  {
   "attachments": {},
   "cell_type": "markdown",
   "id": "ccfc1eb5",
   "metadata": {},
   "source": [
    "[![random-function.png](https://i.postimg.cc/xdN2RF5S/random-function.png)](https://postimg.cc/GBRV3K6M)"
   ]
  },
  {
   "cell_type": "markdown",
   "id": "66c6a4e8",
   "metadata": {},
   "source": [
    "### Types of Random Variable"
   ]
  },
  {
   "cell_type": "markdown",
   "id": "9341e7fb",
   "metadata": {},
   "source": [
    "- Discrete Random Variable\n",
    "    - A discrete random variable has a finite/countable number of possible values.\n",
    "\n",
    "    \n",
    "- Continuous Random Variable\n",
    "    - A continuous random variable has a infinite/non-countable number of possible values"
   ]
  },
  {
   "cell_type": "code",
   "execution_count": null,
   "id": "960a598a",
   "metadata": {},
   "outputs": [],
   "source": []
  }
 ],
 "metadata": {
  "kernelspec": {
   "display_name": "Python 3",
   "language": "python",
   "name": "python3"
  },
  "language_info": {
   "codemirror_mode": {
    "name": "ipython",
    "version": 3
   },
   "file_extension": ".py",
   "mimetype": "text/x-python",
   "name": "python",
   "nbconvert_exporter": "python",
   "pygments_lexer": "ipython3",
   "version": "3.7.7"
  }
 },
 "nbformat": 4,
 "nbformat_minor": 5
}