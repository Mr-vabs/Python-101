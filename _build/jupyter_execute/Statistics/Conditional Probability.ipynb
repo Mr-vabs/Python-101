{
 "cells": [
  {
   "cell_type": "markdown",
   "id": "9c03e4df",
   "metadata": {},
   "source": [
    "### Conditional Probability"
   ]
  },
  {
   "cell_type": "markdown",
   "id": "98e230f7",
   "metadata": {},
   "source": [
    "- Probability - Find the probability that it will rain tomorrow\n",
    "- Conditional Probability- Find the probability that it will rain tomorrow given that it is a cloudy day\n",
    "    - Instead of looking at how often it rains on any day in general, we \"pretend\" that our sample space consists of only those days for which the previous day was cloudy\n",
    "        - Lesser sample space\n",
    "    - Conditional probability uses the information we allready have about our system of interest.\n",
    "    - Bookish Defination : A conditional probability is the probability of an event, given some other event has already occurred\n",
    "    - Formulae : P(A|B)=P(A intersection B)/P(B)\n",
    "    - More : https://setosa.io/conditional/\n"
   ]
  }
 ],
 "metadata": {
  "kernelspec": {
   "display_name": "Python 3",
   "language": "python",
   "name": "python3"
  },
  "language_info": {
   "codemirror_mode": {
    "name": "ipython",
    "version": 3
   },
   "file_extension": ".py",
   "mimetype": "text/x-python",
   "name": "python",
   "nbconvert_exporter": "python",
   "pygments_lexer": "ipython3",
   "version": "3.7.7"
  }
 },
 "nbformat": 4,
 "nbformat_minor": 5
}