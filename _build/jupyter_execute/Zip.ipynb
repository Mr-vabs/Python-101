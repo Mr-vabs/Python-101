{
 "cells": [
  {
   "cell_type": "markdown",
   "id": "c8a1d790",
   "metadata": {},
   "source": [
    "## Zip"
   ]
  },
  {
   "cell_type": "markdown",
   "id": "96eb867a",
   "metadata": {},
   "source": [
    "- Used to link two lists just like physical zip"
   ]
  },
  {
   "cell_type": "markdown",
   "id": "6c35350b",
   "metadata": {},
   "source": [
    "### Syntax"
   ]
  },
  {
   "cell_type": "markdown",
   "id": "aa1d9876",
   "metadata": {},
   "source": [
    "- zip(list1,list2)\n",
    "    - Takes lists\n",
    "    - Gives tupple by default"
   ]
  },
  {
   "cell_type": "code",
   "execution_count": 1,
   "id": "f7f9fa5d",
   "metadata": {},
   "outputs": [],
   "source": [
    "list1=[1,2,3,4]\n",
    "list2=['A','B','C','D']"
   ]
  },
  {
   "cell_type": "code",
   "execution_count": 2,
   "id": "f6519f05",
   "metadata": {},
   "outputs": [
    {
     "data": {
      "text/plain": [
       "[(1, 'A'), (2, 'B'), (3, 'C'), (4, 'D')]"
      ]
     },
     "execution_count": 2,
     "metadata": {},
     "output_type": "execute_result"
    }
   ],
   "source": [
    "list(zip(list1,list2)) # returns iterable obj <> which is tuple by default but can be converted to list as well"
   ]
  },
  {
   "cell_type": "markdown",
   "id": "459ec6af",
   "metadata": {},
   "source": [
    "### Unequal Length Lists"
   ]
  },
  {
   "cell_type": "code",
   "execution_count": 3,
   "id": "a5bf24ce",
   "metadata": {},
   "outputs": [
    {
     "data": {
      "text/plain": [
       "[(2, 'A'), (3, 'B')]"
      ]
     },
     "execution_count": 3,
     "metadata": {},
     "output_type": "execute_result"
    }
   ],
   "source": [
    "id=[2,3]\n",
    "name=['A','B','C','D']\n",
    "list(zip(id,name))  # It will give only for 2 and 3"
   ]
  },
  {
   "cell_type": "code",
   "execution_count": 4,
   "id": "c6028210",
   "metadata": {},
   "outputs": [
    {
     "data": {
      "text/plain": [
       "[(2, 'A'), (3, 'B')]"
      ]
     },
     "execution_count": 4,
     "metadata": {},
     "output_type": "execute_result"
    }
   ],
   "source": [
    "id=[2,3,4]\n",
    "name=['A','B']\n",
    "list(zip(id,name))  # It will give only for 2 and 3"
   ]
  },
  {
   "cell_type": "markdown",
   "id": "4224a1bc",
   "metadata": {},
   "source": [
    "#### Solution - Use zip_longest from itertools"
   ]
  },
  {
   "cell_type": "code",
   "execution_count": 5,
   "id": "fa14d372",
   "metadata": {},
   "outputs": [
    {
     "name": "stdout",
     "output_type": "stream",
     "text": [
      "[(2, 'A'), (3, 'B'), (4, 'C'), (5, None)]\n",
      "[(2, 'A'), (3, 'B'), (4, 'C'), (5, 'Not found')]\n"
     ]
    }
   ],
   "source": [
    "from itertools import zip_longest\n",
    "\n",
    "id=[2,3,4,5]\n",
    "name=['A','B','C']\n",
    "print(list(zip_longest(id,name)))  \n",
    "# assigns none for not found keys\n",
    "#by default which can be replaced by other values as well using fillvalue\n",
    "\n",
    "print(list(zip_longest(id,name,fillvalue='Not found')))  "
   ]
  },
  {
   "cell_type": "code",
   "execution_count": 6,
   "id": "51bb2074",
   "metadata": {},
   "outputs": [
    {
     "name": "stdout",
     "output_type": "stream",
     "text": [
      "[(2, 'A'), (3, 'B'), (4, 'C'), (None, 'D')]\n",
      "[(2, 'A'), (3, 'B'), (4, 'C'), ('Not found', 'D')]\n"
     ]
    }
   ],
   "source": [
    "id=[2,3,4]\n",
    "name=['A','B','C','D']\n",
    "print(list(zip_longest(id,name)))  \n",
    "# assigns none for not found keys\n",
    "#by default which can be replaced by other values as well using fillvalue\n",
    "\n",
    "print(list(zip_longest(id,name,fillvalue='Not found')))  "
   ]
  },
  {
   "cell_type": "markdown",
   "id": "774917ba",
   "metadata": {},
   "source": [
    "## Use case"
   ]
  },
  {
   "cell_type": "code",
   "execution_count": 7,
   "id": "18719bca",
   "metadata": {},
   "outputs": [],
   "source": [
    "# All the if conditions can be applied since it is list comprehension"
   ]
  },
  {
   "cell_type": "markdown",
   "id": "4cbbbaa5",
   "metadata": {},
   "source": [
    "### Creating dictionary from list"
   ]
  },
  {
   "cell_type": "code",
   "execution_count": 8,
   "id": "c2b44165",
   "metadata": {},
   "outputs": [
    {
     "data": {
      "text/plain": [
       "{1: 'A', 2: 'B', 3: 'C', 4: 'D'}"
      ]
     },
     "execution_count": 8,
     "metadata": {},
     "output_type": "execute_result"
    }
   ],
   "source": [
    "dict(zip(list1,list2))"
   ]
  }
 ],
 "metadata": {
  "kernelspec": {
   "display_name": "Python 3",
   "language": "python",
   "name": "python3"
  },
  "language_info": {
   "codemirror_mode": {
    "name": "ipython",
    "version": 3
   },
   "file_extension": ".py",
   "mimetype": "text/x-python",
   "name": "python",
   "nbconvert_exporter": "python",
   "pygments_lexer": "ipython3",
   "version": "3.7.7"
  }
 },
 "nbformat": 4,
 "nbformat_minor": 5
}