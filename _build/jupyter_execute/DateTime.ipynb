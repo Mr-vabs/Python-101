{
 "cells": [
  {
   "cell_type": "markdown",
   "id": "92f5ec54",
   "metadata": {},
   "source": [
    "## DateTime"
   ]
  },
  {
   "cell_type": "markdown",
   "id": "1366ab07",
   "metadata": {},
   "source": [
    "### Create a DateTime"
   ]
  },
  {
   "cell_type": "code",
   "execution_count": 1,
   "id": "da992f09",
   "metadata": {},
   "outputs": [
    {
     "data": {
      "text/plain": [
       "datetime.datetime(2016, 7, 12, 2, 30, 45, 1400)"
      ]
     },
     "execution_count": 1,
     "metadata": {},
     "output_type": "execute_result"
    }
   ],
   "source": [
    "import datetime\n",
    "dt=datetime.datetime(2016,7,12,2,30,45,1400)\n",
    "dt"
   ]
  },
  {
   "cell_type": "markdown",
   "id": "90034bfc",
   "metadata": {},
   "source": [
    "#### Get Date"
   ]
  },
  {
   "cell_type": "code",
   "execution_count": 2,
   "id": "978b7cfc",
   "metadata": {},
   "outputs": [],
   "source": [
    "a=dt.date()"
   ]
  },
  {
   "cell_type": "code",
   "execution_count": 3,
   "id": "9714b51a",
   "metadata": {},
   "outputs": [
    {
     "data": {
      "text/plain": [
       "datetime.date(2016, 7, 12)"
      ]
     },
     "execution_count": 3,
     "metadata": {},
     "output_type": "execute_result"
    }
   ],
   "source": [
    "a"
   ]
  },
  {
   "cell_type": "code",
   "execution_count": 4,
   "id": "ec0a807d",
   "metadata": {},
   "outputs": [
    {
     "name": "stdout",
     "output_type": "stream",
     "text": [
      "2016-07-12\n"
     ]
    }
   ],
   "source": [
    "print(a)"
   ]
  },
  {
   "cell_type": "markdown",
   "id": "e0c41d12",
   "metadata": {},
   "source": [
    "#### Get Time "
   ]
  },
  {
   "cell_type": "code",
   "execution_count": 5,
   "id": "9e8bc7ff",
   "metadata": {},
   "outputs": [],
   "source": [
    "b=dt.time()"
   ]
  },
  {
   "cell_type": "code",
   "execution_count": 6,
   "id": "88165450",
   "metadata": {},
   "outputs": [
    {
     "data": {
      "text/plain": [
       "datetime.time(2, 30, 45, 1400)"
      ]
     },
     "execution_count": 6,
     "metadata": {},
     "output_type": "execute_result"
    }
   ],
   "source": [
    "b"
   ]
  },
  {
   "cell_type": "code",
   "execution_count": 7,
   "id": "9fe8a4a9",
   "metadata": {},
   "outputs": [
    {
     "name": "stdout",
     "output_type": "stream",
     "text": [
      "02:30:45.001400\n"
     ]
    }
   ],
   "source": [
    "print(b)"
   ]
  }
 ],
 "metadata": {
  "kernelspec": {
   "display_name": "Python 3",
   "language": "python",
   "name": "python3"
  },
  "language_info": {
   "codemirror_mode": {
    "name": "ipython",
    "version": 3
   },
   "file_extension": ".py",
   "mimetype": "text/x-python",
   "name": "python",
   "nbconvert_exporter": "python",
   "pygments_lexer": "ipython3",
   "version": "3.7.7"
  }
 },
 "nbformat": 4,
 "nbformat_minor": 5
}