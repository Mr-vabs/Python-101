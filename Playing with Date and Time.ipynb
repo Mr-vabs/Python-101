{
 "cells": [
  {
   "cell_type": "markdown",
   "id": "92f5ec54",
   "metadata": {},
   "source": [
    "## Playing with Date and Time"
   ]
  },
  {
   "cell_type": "markdown",
   "id": "a7301ea5",
   "metadata": {},
   "source": [
    "- Python do not has date as datatype\n",
    "- Python has datetime library to **create** dates and times"
   ]
  },
  {
   "cell_type": "markdown",
   "id": "d8b15edb",
   "metadata": {},
   "source": [
    "### Summary"
   ]
  },
  {
   "cell_type": "code",
   "execution_count": 1,
   "id": "4f6174f9",
   "metadata": {},
   "outputs": [],
   "source": [
    "import datetime"
   ]
  },
  {
   "cell_type": "markdown",
   "id": "e6224c66",
   "metadata": {},
   "source": [
    "- datetime.date() # pass yyyy,m,d\n",
    "- datetime.time() # pass h,m,s,ms\n",
    "- datetime.datetime() # pass year,month,day,hour,minute,second,ms\n",
    "- datetime.timedelta()"
   ]
  },
  {
   "cell_type": "code",
   "execution_count": 7,
   "id": "a4b96c2f",
   "metadata": {},
   "outputs": [
    {
     "data": {
      "text/plain": [
       "datetime.date(1997, 2, 19)"
      ]
     },
     "execution_count": 7,
     "metadata": {},
     "output_type": "execute_result"
    }
   ],
   "source": [
    "datetime.date(1997,2,19)"
   ]
  },
  {
   "cell_type": "code",
   "execution_count": 8,
   "id": "41f1a6d1",
   "metadata": {},
   "outputs": [
    {
     "data": {
      "text/plain": [
       "datetime.time(12, 22, 21, 11)"
      ]
     },
     "execution_count": 8,
     "metadata": {},
     "output_type": "execute_result"
    }
   ],
   "source": [
    "datetime.time(12,22,21,11)"
   ]
  },
  {
   "cell_type": "code",
   "execution_count": 9,
   "id": "b61f1d30",
   "metadata": {},
   "outputs": [
    {
     "data": {
      "text/plain": [
       "datetime.datetime(1997, 2, 19, 12, 22, 21, 11)"
      ]
     },
     "execution_count": 9,
     "metadata": {},
     "output_type": "execute_result"
    }
   ],
   "source": [
    "datetime.datetime(1997,2,19,12,22,21,11)"
   ]
  }
 ],
 "metadata": {
  "kernelspec": {
   "display_name": "Python 3",
   "language": "python",
   "name": "python3"
  },
  "language_info": {
   "codemirror_mode": {
    "name": "ipython",
    "version": 3
   },
   "file_extension": ".py",
   "mimetype": "text/x-python",
   "name": "python",
   "nbconvert_exporter": "python",
   "pygments_lexer": "ipython3",
   "version": "3.8.8"
  }
 },
 "nbformat": 4,
 "nbformat_minor": 5
}
