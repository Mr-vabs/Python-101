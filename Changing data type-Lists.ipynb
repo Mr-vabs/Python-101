{
 "cells": [
  {
   "cell_type": "markdown",
   "id": "d240914c",
   "metadata": {},
   "source": [
    "## List of Strings to list of ints"
   ]
  },
  {
   "cell_type": "code",
   "execution_count": 2,
   "id": "4fd8fcaa",
   "metadata": {},
   "outputs": [
    {
     "name": "stdout",
     "output_type": "stream",
     "text": [
      "[1, 2, 3]\n"
     ]
    }
   ],
   "source": [
    "age=['1','2','3']\n",
    "age=[int(i) for i in age]\n",
    "print(age)"
   ]
  },
  {
   "cell_type": "markdown",
   "id": "ffd3c635",
   "metadata": {},
   "source": [
    "## List of ints to list of strings"
   ]
  },
  {
   "cell_type": "code",
   "execution_count": 4,
   "id": "991998ed",
   "metadata": {},
   "outputs": [
    {
     "name": "stdout",
     "output_type": "stream",
     "text": [
      "['1', '2', '3']\n"
     ]
    }
   ],
   "source": [
    "age=[1,2,3]\n",
    "age=[str(i) for i in age]\n",
    "print(age)"
   ]
  }
 ],
 "metadata": {
  "kernelspec": {
   "display_name": "Python 3",
   "language": "python",
   "name": "python3"
  },
  "language_info": {
   "codemirror_mode": {
    "name": "ipython",
    "version": 3
   },
   "file_extension": ".py",
   "mimetype": "text/x-python",
   "name": "python",
   "nbconvert_exporter": "python",
   "pygments_lexer": "ipython3",
   "version": "3.8.8"
  }
 },
 "nbformat": 4,
 "nbformat_minor": 5
}
