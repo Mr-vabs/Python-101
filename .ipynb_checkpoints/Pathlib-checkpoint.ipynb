{
 "cells": [
  {
   "cell_type": "markdown",
   "id": "1400d0c2",
   "metadata": {},
   "source": [
    "### Pathlib Module"
   ]
  },
  {
   "cell_type": "markdown",
   "id": "5bd0da55",
   "metadata": {},
   "source": [
    "- Module to use same path for different OS's"
   ]
  },
  {
   "cell_type": "markdown",
   "id": "bfc3a307",
   "metadata": {},
   "source": [
    "### Older ways"
   ]
  },
  {
   "cell_type": "markdown",
   "id": "dd0cc1af",
   "metadata": {},
   "source": [
    "- defining paths manually\n",
    "    - data_folder = \"source_data\\\\text_files\\\\\"\n",
    "    - file_to_open = data_folder + \"raw_data.txt\"\n",
    "    - f = open(file_to_open)\n",
    "- using os.path module\n",
    "    - data_folder = \"source_data\\\\text_files\\\\\"\n",
    "    - file_to_open = data_folder + \"raw_data.txt\"\n",
    "    - f = open(file_to_open)"
   ]
  },
  {
   "cell_type": "markdown",
   "id": "ea6d48fc",
   "metadata": {},
   "source": [
    "### Pathlib"
   ]
  },
  {
   "cell_type": "markdown",
   "id": "e7c5e7e3",
   "metadata": {},
   "source": [
    "- Check easily if file exists\n",
    "- To deal with file extensions\n",
    "- Common operations with paths\n",
    "- Inbuilt in python 3.4 ,so no need to install\n",
    "- treat paths as obects"
   ]
  },
  {
   "cell_type": "code",
   "execution_count": 1,
   "id": "32accb55",
   "metadata": {},
   "outputs": [],
   "source": [
    "from pathlib import Path\n",
    "import os"
   ]
  },
  {
   "cell_type": "code",
   "execution_count": 42,
   "id": "adbdd7f5",
   "metadata": {},
   "outputs": [
    {
     "data": {
      "text/plain": [
       "WindowsPath('.')"
      ]
     },
     "execution_count": 42,
     "metadata": {},
     "output_type": "execute_result"
    }
   ],
   "source": [
    "Path() # If no arguments passed,Current folder\n",
    "# relative path to the current folder"
   ]
  },
  {
   "cell_type": "code",
   "execution_count": 59,
   "id": "f6c18d96",
   "metadata": {},
   "outputs": [
    {
     "data": {
      "text/plain": [
       "WindowsPath('_build/subfolder')"
      ]
     },
     "execution_count": 59,
     "metadata": {},
     "output_type": "execute_result"
    }
   ],
   "source": [
    "Path('_build/subfolder')"
   ]
  },
  {
   "cell_type": "markdown",
   "id": "2ee170a2",
   "metadata": {},
   "source": [
    "### Creating a path by passing folder and file name"
   ]
  },
  {
   "cell_type": "code",
   "execution_count": 58,
   "id": "eb440f0c",
   "metadata": {},
   "outputs": [
    {
     "data": {
      "text/plain": [
       "WindowsPath('_build/subfolder/file1.json')"
      ]
     },
     "execution_count": 58,
     "metadata": {},
     "output_type": "execute_result"
    }
   ],
   "source": [
    "Path(\"_build/subfolder\", \"file1.json\")"
   ]
  },
  {
   "cell_type": "markdown",
   "id": "ad62e31f",
   "metadata": {},
   "source": [
    "### Get home directory"
   ]
  },
  {
   "cell_type": "code",
   "execution_count": 46,
   "id": "8f52bf32",
   "metadata": {},
   "outputs": [
    {
     "data": {
      "text/plain": [
       "WindowsPath('C:/Users/Sahil Choudhary')"
      ]
     },
     "execution_count": 46,
     "metadata": {},
     "output_type": "execute_result"
    }
   ],
   "source": [
    "home_dir=Path.home() # In windows,home directory is C:/Users:/Username\n",
    "home_dir"
   ]
  },
  {
   "cell_type": "markdown",
   "id": "11b04da5",
   "metadata": {},
   "source": [
    "### Get Current working directory"
   ]
  },
  {
   "cell_type": "code",
   "execution_count": 7,
   "id": "175ad72d",
   "metadata": {},
   "outputs": [
    {
     "name": "stdout",
     "output_type": "stream",
     "text": [
      "C:\\Users\\Sahil Choudhary\\Book\\Python\n"
     ]
    }
   ],
   "source": [
    "cwd=Path.cwd()\n",
    "print(str(cwd))"
   ]
  },
  {
   "cell_type": "markdown",
   "id": "146198f3",
   "metadata": {},
   "source": [
    "### Change current working directory"
   ]
  },
  {
   "cell_type": "code",
   "execution_count": 2,
   "id": "87dd4650",
   "metadata": {},
   "outputs": [],
   "source": [
    "os.chdir('C:\\\\users\\\\Sahil Choudhary\\\\Desktop') # Most important command"
   ]
  },
  {
   "cell_type": "markdown",
   "id": "d5f6f39e",
   "metadata": {},
   "source": [
    "### Get the parent directories"
   ]
  },
  {
   "cell_type": "code",
   "execution_count": 11,
   "id": "e901b4c6",
   "metadata": {},
   "outputs": [
    {
     "name": "stdout",
     "output_type": "stream",
     "text": [
      "C:\\Users\\Sahil Choudhary\\Book\n",
      "C:\\Users\\Sahil Choudhary\\Book\n",
      "C:\\Users\\Sahil Choudhary\n"
     ]
    }
   ],
   "source": [
    "# Get the first parent\n",
    "one_above=Path.cwd().parent\n",
    "print(one_above)\n",
    "\n",
    "n_above=Path.cwd().parents[0]\n",
    "n1_above=Path.cwd().parents[1]\n",
    "print(n_above)\n",
    "print(n1_above)"
   ]
  },
  {
   "cell_type": "markdown",
   "id": "7741c20f",
   "metadata": {},
   "source": [
    "### Joining paths"
   ]
  },
  {
   "cell_type": "code",
   "execution_count": 13,
   "id": "d6307196",
   "metadata": {},
   "outputs": [
    {
     "data": {
      "text/plain": [
       "WindowsPath('C:/Users/Sahil Choudhary/Book/Python/Output')"
      ]
     },
     "execution_count": 13,
     "metadata": {},
     "output_type": "execute_result"
    }
   ],
   "source": [
    "joined_path=cwd/'Output'\n",
    "# joined_path=cwd/'Output'/'Subfolder'\n",
    "joined_path"
   ]
  },
  {
   "cell_type": "markdown",
   "id": "27f6ff9f",
   "metadata": {},
   "source": [
    "### Create folder if not exists"
   ]
  },
  {
   "cell_type": "code",
   "execution_count": 14,
   "id": "fcf5cb9b",
   "metadata": {},
   "outputs": [],
   "source": [
    "Path.cwd().mkdir(exist_ok=True)"
   ]
  },
  {
   "cell_type": "markdown",
   "id": "545ce08f",
   "metadata": {},
   "source": [
    "### Get file name with extension"
   ]
  },
  {
   "cell_type": "code",
   "execution_count": 20,
   "id": "344d2f62",
   "metadata": {},
   "outputs": [],
   "source": [
    "example_file=cwd/'Python 101.ipynb'"
   ]
  },
  {
   "cell_type": "code",
   "execution_count": 21,
   "id": "deaf7928",
   "metadata": {},
   "outputs": [
    {
     "data": {
      "text/plain": [
       "'Python 101.ipynb'"
      ]
     },
     "execution_count": 21,
     "metadata": {},
     "output_type": "execute_result"
    }
   ],
   "source": [
    "example_file.name"
   ]
  },
  {
   "cell_type": "markdown",
   "id": "7a8f19ba",
   "metadata": {},
   "source": [
    "### Check if file exists"
   ]
  },
  {
   "cell_type": "code",
   "execution_count": 22,
   "id": "f993e0ce",
   "metadata": {},
   "outputs": [
    {
     "data": {
      "text/plain": [
       "False"
      ]
     },
     "execution_count": 22,
     "metadata": {},
     "output_type": "execute_result"
    }
   ],
   "source": [
    "example_file.is_file()"
   ]
  },
  {
   "cell_type": "markdown",
   "id": "841969d2",
   "metadata": {},
   "source": [
    "### Get file name without extension"
   ]
  },
  {
   "cell_type": "code",
   "execution_count": 18,
   "id": "3c73eb82",
   "metadata": {},
   "outputs": [
    {
     "data": {
      "text/plain": [
       "'Python 101'"
      ]
     },
     "execution_count": 18,
     "metadata": {},
     "output_type": "execute_result"
    }
   ],
   "source": [
    "example_file.stem"
   ]
  },
  {
   "cell_type": "markdown",
   "id": "334303aa",
   "metadata": {},
   "source": [
    "### Get only the extensions"
   ]
  },
  {
   "cell_type": "code",
   "execution_count": 23,
   "id": "f87baa02",
   "metadata": {},
   "outputs": [
    {
     "data": {
      "text/plain": [
       "'.ipynb'"
      ]
     },
     "execution_count": 23,
     "metadata": {},
     "output_type": "execute_result"
    }
   ],
   "source": [
    "example_file.suffix"
   ]
  },
  {
   "cell_type": "markdown",
   "id": "0b4cba2f",
   "metadata": {},
   "source": [
    "### Iterate over all the files in directory"
   ]
  },
  {
   "cell_type": "code",
   "execution_count": 51,
   "id": "e10f4488",
   "metadata": {},
   "outputs": [
    {
     "name": "stdout",
     "output_type": "stream",
     "text": [
      "C:\\Users\\Sahil Choudhary\\Book\\Python\\_build\\subfolder\\Array Destructuring.html\n",
      "C:\\Users\\Sahil Choudhary\\Book\\Python\\_build\\subfolder\\BOOLEAN 101 TITLE.html\n",
      "C:\\Users\\Sahil Choudhary\\Book\\Python\\_build\\subfolder\\Break and Continue.html\n",
      "C:\\Users\\Sahil Choudhary\\Book\\Python\\_build\\subfolder\\Changing data type-Lists.html\n",
      "C:\\Users\\Sahil Choudhary\\Book\\Python\\_build\\subfolder\\Changing Datatypes.html\n",
      "C:\\Users\\Sahil Choudhary\\Book\\Python\\_build\\subfolder\\DateTime in Pandas.ipynb\n",
      "C:\\Users\\Sahil Choudhary\\Book\\Python\\_build\\subfolder\\DateTime.ipynb\n",
      "C:\\Users\\Sahil Choudhary\\Book\\Python\\_build\\subfolder\\file1.txt\n",
      "C:\\Users\\Sahil Choudhary\\Book\\Python\\_build\\subfolder\\file2.txt\n"
     ]
    }
   ],
   "source": [
    "folder=cwd/\"_build/subfolder\"\n",
    "for file in folder.iterdir():\n",
    "    print(file)"
   ]
  },
  {
   "cell_type": "markdown",
   "id": "c2150fcb",
   "metadata": {},
   "source": [
    "### Iterate over specific file types"
   ]
  },
  {
   "cell_type": "code",
   "execution_count": 33,
   "id": "d1ede7ea",
   "metadata": {},
   "outputs": [
    {
     "name": "stdout",
     "output_type": "stream",
     "text": [
      "C:\\Users\\Sahil Choudhary\\Book\\Python\\_build\\subfolder\\Array Destructuring.html\n",
      "C:\\Users\\Sahil Choudhary\\Book\\Python\\_build\\subfolder\\BOOLEAN 101 TITLE.html\n",
      "C:\\Users\\Sahil Choudhary\\Book\\Python\\_build\\subfolder\\Break and Continue.html\n",
      "C:\\Users\\Sahil Choudhary\\Book\\Python\\_build\\subfolder\\Changing data type-Lists.html\n",
      "C:\\Users\\Sahil Choudhary\\Book\\Python\\_build\\subfolder\\Changing Datatypes.html\n"
     ]
    }
   ],
   "source": [
    "for file in folder.iterdir():\n",
    "    if file.suffix=='.html':\n",
    "        print(file)"
   ]
  },
  {
   "cell_type": "markdown",
   "id": "af0800fd",
   "metadata": {},
   "source": [
    "### Iterate over files inclusive of subdirectories"
   ]
  },
  {
   "cell_type": "code",
   "execution_count": 34,
   "id": "2f103638",
   "metadata": {},
   "outputs": [
    {
     "name": "stdout",
     "output_type": "stream",
     "text": [
      "C:\\Users\\Sahil Choudhary\\Book\\Python\\_build\\subfolder\\Array Destructuring.html\n",
      "C:\\Users\\Sahil Choudhary\\Book\\Python\\_build\\subfolder\\BOOLEAN 101 TITLE.html\n",
      "C:\\Users\\Sahil Choudhary\\Book\\Python\\_build\\subfolder\\Break and Continue.html\n",
      "C:\\Users\\Sahil Choudhary\\Book\\Python\\_build\\subfolder\\Changing data type-Lists.html\n",
      "C:\\Users\\Sahil Choudhary\\Book\\Python\\_build\\subfolder\\Changing Datatypes.html\n",
      "C:\\Users\\Sahil Choudhary\\Book\\Python\\_build\\subfolder\\DateTime in Pandas.ipynb\n",
      "C:\\Users\\Sahil Choudhary\\Book\\Python\\_build\\subfolder\\DateTime.ipynb\n",
      "C:\\Users\\Sahil Choudhary\\Book\\Python\\_build\\subfolder\\file1.txt\n",
      "C:\\Users\\Sahil Choudhary\\Book\\Python\\_build\\subfolder\\file2.txt\n"
     ]
    }
   ],
   "source": [
    "for file in folder.rglob(\"*\"):\n",
    "    print(file)"
   ]
  },
  {
   "cell_type": "markdown",
   "id": "d6f01cad",
   "metadata": {},
   "source": [
    "### Summary"
   ]
  },
  {
   "cell_type": "code",
   "execution_count": 63,
   "id": "f0a4bd16",
   "metadata": {},
   "outputs": [],
   "source": [
    "from pathlib import Path # Now,we have path function which has certain important attributes"
   ]
  },
  {
   "cell_type": "code",
   "execution_count": 64,
   "id": "f54d817e",
   "metadata": {},
   "outputs": [
    {
     "data": {
      "text/plain": [
       "WindowsPath('C:/Users/Sahil Choudhary/Book/Python')"
      ]
     },
     "execution_count": 64,
     "metadata": {},
     "output_type": "execute_result"
    }
   ],
   "source": [
    "Path.cwd()"
   ]
  },
  {
   "cell_type": "code",
   "execution_count": 74,
   "id": "78532a67",
   "metadata": {},
   "outputs": [],
   "source": [
    "# OLD METHODS TO DEFINE PATHS\n",
    "\n",
    "# path1=\"C:\\Users\\Sahil Choudhary\\Book\\Python\\_build\\subfolder\"  # This will give error\n",
    "path2=r\"C:\\Users\\Sahil Choudhary\\Book\\Python\\_build\\subfolder\" # r means raw string.Should be added before paths\n",
    "path3=\"C:\\\\Users\\\\Sahil Choudhary\\\\Book\\\\Python\\\\_build\\\\subfolder\" # works in windows \n",
    "path4=\"_build\\subfolder\" # relative path\n",
    "path5=\"_build\\\\subfolder\" # relative path "
   ]
  },
  {
   "cell_type": "code",
   "execution_count": null,
   "id": "d70c8fcb",
   "metadata": {},
   "outputs": [],
   "source": [
    "C:\\Users\\Sahil Choudhary"
   ]
  },
  {
   "cell_type": "code",
   "execution_count": 72,
   "id": "4de18b7b",
   "metadata": {},
   "outputs": [],
   "source": [
    "# NEW METHOD TO DEFINE PATHS\n",
    "path6=Path('_build/subfolder') # relative path in pathlib"
   ]
  },
  {
   "cell_type": "code",
   "execution_count": 70,
   "id": "cd0bd31d",
   "metadata": {},
   "outputs": [
    {
     "name": "stdout",
     "output_type": "stream",
     "text": [
      "_build\\subfolder\\Array Destructuring.html\n",
      "_build\\subfolder\\BOOLEAN 101 TITLE.html\n",
      "_build\\subfolder\\Break and Continue.html\n",
      "_build\\subfolder\\Changing data type-Lists.html\n",
      "_build\\subfolder\\Changing Datatypes.html\n",
      "_build\\subfolder\\DateTime in Pandas.ipynb\n",
      "_build\\subfolder\\DateTime.ipynb\n",
      "_build\\subfolder\\file1.txt\n",
      "_build\\subfolder\\file2.txt\n"
     ]
    }
   ],
   "source": [
    "for file in path6.iterdir():\n",
    "    print(file)"
   ]
  },
  {
   "cell_type": "code",
   "execution_count": null,
   "id": "506dbf8f",
   "metadata": {},
   "outputs": [],
   "source": []
  }
 ],
 "metadata": {
  "kernelspec": {
   "display_name": "Python 3",
   "language": "python",
   "name": "python3"
  },
  "language_info": {
   "codemirror_mode": {
    "name": "ipython",
    "version": 3
   },
   "file_extension": ".py",
   "mimetype": "text/x-python",
   "name": "python",
   "nbconvert_exporter": "python",
   "pygments_lexer": "ipython3",
   "version": "3.8.8"
  }
 },
 "nbformat": 4,
 "nbformat_minor": 5
}
