{
 "cells": [
  {
   "cell_type": "markdown",
   "id": "92f5ec54",
   "metadata": {},
   "source": [
    "## Changing Datatypes of Pandas inbuilt types"
   ]
  },
  {
   "cell_type": "markdown",
   "id": "1ffc936e",
   "metadata": {},
   "source": [
    "- For series,dataframe,column which are datatypes present in pandas library not in python"
   ]
  },
  {
   "cell_type": "markdown",
   "id": "2513a481",
   "metadata": {},
   "source": [
    "#### 3 options"
   ]
  },
  {
   "cell_type": "markdown",
   "id": "bb6c1d0f",
   "metadata": {},
   "source": [
    "- .astype(int|float|str)\n",
    "- pd.to_numeric()\n",
    "- pd.to_datetime()\n",
    "\n",
    "\n",
    "- Use pd.numeric only if mixed col(mixed with strings or mixed with Nan's) \n",
    "- Otherwise use astype"
   ]
  },
  {
   "cell_type": "code",
   "execution_count": 62,
   "id": "9af5a54f",
   "metadata": {},
   "outputs": [
    {
     "data": {
      "text/html": [
       "<div>\n",
       "<style scoped>\n",
       "    .dataframe tbody tr th:only-of-type {\n",
       "        vertical-align: middle;\n",
       "    }\n",
       "\n",
       "    .dataframe tbody tr th {\n",
       "        vertical-align: top;\n",
       "    }\n",
       "\n",
       "    .dataframe thead th {\n",
       "        text-align: right;\n",
       "    }\n",
       "</style>\n",
       "<table border=\"1\" class=\"dataframe\">\n",
       "  <thead>\n",
       "    <tr style=\"text-align: right;\">\n",
       "      <th></th>\n",
       "      <th>Name</th>\n",
       "      <th>Age</th>\n",
       "      <th>Number</th>\n",
       "      <th>Weight</th>\n",
       "      <th>Height</th>\n",
       "    </tr>\n",
       "  </thead>\n",
       "  <tbody>\n",
       "    <tr>\n",
       "      <th>0</th>\n",
       "      <td>Sahil</td>\n",
       "      <td>20</td>\n",
       "      <td>100</td>\n",
       "      <td>12.2</td>\n",
       "      <td>12.2</td>\n",
       "    </tr>\n",
       "    <tr>\n",
       "      <th>1</th>\n",
       "      <td>Sonia</td>\n",
       "      <td>21</td>\n",
       "      <td>200</td>\n",
       "      <td>12.4</td>\n",
       "      <td>44.3</td>\n",
       "    </tr>\n",
       "    <tr>\n",
       "      <th>2</th>\n",
       "      <td>Sourav</td>\n",
       "      <td>19</td>\n",
       "      <td>300</td>\n",
       "      <td>43.4</td>\n",
       "      <td>76.8</td>\n",
       "    </tr>\n",
       "    <tr>\n",
       "      <th>3</th>\n",
       "      <td>Vishal</td>\n",
       "      <td>18</td>\n",
       "      <td>400</td>\n",
       "      <td>45.1</td>\n",
       "      <td>12.3</td>\n",
       "    </tr>\n",
       "  </tbody>\n",
       "</table>\n",
       "</div>"
      ],
      "text/plain": [
       "     Name  Age  Number  Weight  Height\n",
       "0   Sahil   20     100    12.2    12.2\n",
       "1   Sonia   21     200    12.4    44.3\n",
       "2  Sourav   19     300    43.4    76.8\n",
       "3  Vishal   18     400    45.1    12.3"
      ]
     },
     "execution_count": 62,
     "metadata": {},
     "output_type": "execute_result"
    }
   ],
   "source": [
    "import pandas as pd\n",
    "df=pd.DataFrame({'Name':['Sahil', 'Sonia', 'Sourav', 'Vishal'],\n",
    "        'Age':[20, 21, 19, 18],\n",
    "        'Number':[100,200,300,400],\n",
    "        'Weight':[12.2,12.4,43.4,45.1],\n",
    "        'Height':[12.2,44.3,76.8,12.3]        })\n",
    "df"
   ]
  },
  {
   "cell_type": "markdown",
   "id": "9985d551",
   "metadata": {},
   "source": [
    "### Change datatype of one/multiple columns"
   ]
  },
  {
   "cell_type": "code",
   "execution_count": 64,
   "id": "8c840a75",
   "metadata": {},
   "outputs": [],
   "source": [
    "# ASTYPE()\n",
    "# Change datatype of one column:\n",
    "df_new=df['Age'].astype(int)\n",
    "\n",
    "# Change datatype of multiple columns:\n",
    "df_new=df.astype({'Age': 'float64', 'Name': 'object'})\n",
    "\n",
    "# PD.TO_NUMERIC()\n",
    "# Change datatype of one column:\n",
    "df['Age']=pd.to_numeric(df['Age'])\n",
    "\n",
    "# convert just columns \"Weight\" & \"Height\"\n",
    "df[[\"Weight\", \"Height\"]] = df[[\"Weight\", \"Height\"]].apply(pd.to_numeric)"
   ]
  },
  {
   "cell_type": "code",
   "execution_count": 65,
   "id": "145263f3",
   "metadata": {},
   "outputs": [
    {
     "data": {
      "text/plain": [
       "Name      object\n",
       "Age        int64\n",
       "Number     int64\n",
       "Weight     int64\n",
       "Height     int64\n",
       "dtype: object"
      ]
     },
     "execution_count": 65,
     "metadata": {},
     "output_type": "execute_result"
    }
   ],
   "source": [
    "df.dtypes"
   ]
  },
  {
   "cell_type": "markdown",
   "id": "ba75037f",
   "metadata": {},
   "source": [
    "### Select and convert float columns only"
   ]
  },
  {
   "cell_type": "code",
   "execution_count": 66,
   "id": "64fb8af8",
   "metadata": {},
   "outputs": [
    {
     "name": "stdout",
     "output_type": "stream",
     "text": [
      "[]\n",
      "\n",
      "Empty DataFrame\n",
      "Columns: []\n",
      "Index: [0, 1, 2, 3]\n"
     ]
    }
   ],
   "source": [
    "float_cols = df.select_dtypes(include=['float64']) # This will select float columns only\n",
    "print(list(float_cols.columns.values))\n",
    "print()\n",
    "print(float_cols)\n",
    "\n",
    "for col in float_cols.columns.values:\n",
    "    df[col] = df[col].astype('int64')\n",
    "    \n",
    "# or refer to string functions notebook"
   ]
  },
  {
   "cell_type": "code",
   "execution_count": 56,
   "id": "58579a29",
   "metadata": {},
   "outputs": [
    {
     "data": {
      "text/plain": [
       "Name      object\n",
       "Age        int64\n",
       "Number     int64\n",
       "Weight     int64\n",
       "Height     int64\n",
       "dtype: object"
      ]
     },
     "execution_count": 56,
     "metadata": {},
     "output_type": "execute_result"
    }
   ],
   "source": [
    "df.dtypes"
   ]
  },
  {
   "cell_type": "markdown",
   "id": "1784895d",
   "metadata": {},
   "source": [
    "### Snippet to convert datatypes while catching the errors as well"
   ]
  },
  {
   "cell_type": "code",
   "execution_count": 45,
   "id": "f9dd6c32",
   "metadata": {},
   "outputs": [],
   "source": [
    "try:\n",
    "        df['Age'] = df['Age'].astype(float)\n",
    "except TypeError as e:\n",
    "        print(e)"
   ]
  },
  {
   "cell_type": "markdown",
   "id": "0d367157",
   "metadata": {},
   "source": [
    "### Use case 1: Numbers as strings"
   ]
  },
  {
   "cell_type": "code",
   "execution_count": 1,
   "id": "4109d008",
   "metadata": {},
   "outputs": [],
   "source": [
    "l=['1','2','3','4'] # String gets converted into object\n",
    "df=pd.DataFrame(l,columns =['Numbers'])"
   ]
  },
  {
   "cell_type": "code",
   "execution_count": 2,
   "id": "2ec10236",
   "metadata": {},
   "outputs": [
    {
     "data": {
      "text/html": [
       "<div>\n",
       "<style scoped>\n",
       "    .dataframe tbody tr th:only-of-type {\n",
       "        vertical-align: middle;\n",
       "    }\n",
       "\n",
       "    .dataframe tbody tr th {\n",
       "        vertical-align: top;\n",
       "    }\n",
       "\n",
       "    .dataframe thead th {\n",
       "        text-align: right;\n",
       "    }\n",
       "</style>\n",
       "<table border=\"1\" class=\"dataframe\">\n",
       "  <thead>\n",
       "    <tr style=\"text-align: right;\">\n",
       "      <th></th>\n",
       "      <th>Numbers</th>\n",
       "    </tr>\n",
       "  </thead>\n",
       "  <tbody>\n",
       "    <tr>\n",
       "      <th>0</th>\n",
       "      <td>1</td>\n",
       "    </tr>\n",
       "    <tr>\n",
       "      <th>1</th>\n",
       "      <td>2</td>\n",
       "    </tr>\n",
       "    <tr>\n",
       "      <th>2</th>\n",
       "      <td>3</td>\n",
       "    </tr>\n",
       "    <tr>\n",
       "      <th>3</th>\n",
       "      <td>4</td>\n",
       "    </tr>\n",
       "  </tbody>\n",
       "</table>\n",
       "</div>"
      ],
      "text/plain": [
       "  Numbers\n",
       "0       1\n",
       "1       2\n",
       "2       3\n",
       "3       4"
      ]
     },
     "execution_count": 2,
     "metadata": {},
     "output_type": "execute_result"
    }
   ],
   "source": [
    "df"
   ]
  },
  {
   "cell_type": "code",
   "execution_count": 3,
   "id": "99e58027",
   "metadata": {},
   "outputs": [
    {
     "data": {
      "text/plain": [
       "dtype('O')"
      ]
     },
     "execution_count": 3,
     "metadata": {},
     "output_type": "execute_result"
    }
   ],
   "source": [
    "df.Numbers.dtype"
   ]
  },
  {
   "cell_type": "code",
   "execution_count": 4,
   "id": "6480e417",
   "metadata": {},
   "outputs": [],
   "source": [
    "# df['string_col']=df['string_col'].astype(int//float//string)\n",
    "df['Numbers']=pd.to_numeric(df['Numbers'])"
   ]
  },
  {
   "cell_type": "code",
   "execution_count": 5,
   "id": "5fd1c17e",
   "metadata": {},
   "outputs": [
    {
     "data": {
      "text/plain": [
       "dtype('int64')"
      ]
     },
     "execution_count": 5,
     "metadata": {},
     "output_type": "execute_result"
    }
   ],
   "source": [
    "df.Numbers.dtype   # DONE !!!"
   ]
  },
  {
   "cell_type": "markdown",
   "id": "a79603d6",
   "metadata": {},
   "source": [
    "### Use case 2: Ints+Floats"
   ]
  },
  {
   "cell_type": "code",
   "execution_count": 6,
   "id": "659f4224",
   "metadata": {},
   "outputs": [],
   "source": [
    "l=[1,2,3,4,5.5] # Note: If only one float,entire column gets converted into float\n",
    "df=pd.DataFrame(l,columns =['Numbers'])"
   ]
  },
  {
   "cell_type": "code",
   "execution_count": 7,
   "id": "db6f8f55",
   "metadata": {},
   "outputs": [
    {
     "data": {
      "text/html": [
       "<div>\n",
       "<style scoped>\n",
       "    .dataframe tbody tr th:only-of-type {\n",
       "        vertical-align: middle;\n",
       "    }\n",
       "\n",
       "    .dataframe tbody tr th {\n",
       "        vertical-align: top;\n",
       "    }\n",
       "\n",
       "    .dataframe thead th {\n",
       "        text-align: right;\n",
       "    }\n",
       "</style>\n",
       "<table border=\"1\" class=\"dataframe\">\n",
       "  <thead>\n",
       "    <tr style=\"text-align: right;\">\n",
       "      <th></th>\n",
       "      <th>Numbers</th>\n",
       "    </tr>\n",
       "  </thead>\n",
       "  <tbody>\n",
       "    <tr>\n",
       "      <th>0</th>\n",
       "      <td>1.0</td>\n",
       "    </tr>\n",
       "    <tr>\n",
       "      <th>1</th>\n",
       "      <td>2.0</td>\n",
       "    </tr>\n",
       "    <tr>\n",
       "      <th>2</th>\n",
       "      <td>3.0</td>\n",
       "    </tr>\n",
       "    <tr>\n",
       "      <th>3</th>\n",
       "      <td>4.0</td>\n",
       "    </tr>\n",
       "    <tr>\n",
       "      <th>4</th>\n",
       "      <td>5.5</td>\n",
       "    </tr>\n",
       "  </tbody>\n",
       "</table>\n",
       "</div>"
      ],
      "text/plain": [
       "   Numbers\n",
       "0      1.0\n",
       "1      2.0\n",
       "2      3.0\n",
       "3      4.0\n",
       "4      5.5"
      ]
     },
     "execution_count": 7,
     "metadata": {},
     "output_type": "execute_result"
    }
   ],
   "source": [
    "df"
   ]
  },
  {
   "cell_type": "code",
   "execution_count": 8,
   "id": "636f272d",
   "metadata": {},
   "outputs": [
    {
     "data": {
      "text/plain": [
       "dtype('float64')"
      ]
     },
     "execution_count": 8,
     "metadata": {},
     "output_type": "execute_result"
    }
   ],
   "source": [
    "df.Numbers.dtype  "
   ]
  },
  {
   "cell_type": "markdown",
   "id": "0b7ff678",
   "metadata": {},
   "source": [
    "#### Convert Float⇒Int"
   ]
  },
  {
   "cell_type": "code",
   "execution_count": 9,
   "id": "06a1e5c6",
   "metadata": {},
   "outputs": [],
   "source": [
    "df['Numbers']=df['Numbers'].astype(int)"
   ]
  },
  {
   "cell_type": "markdown",
   "id": "a498b48c",
   "metadata": {},
   "source": [
    "- It rounds all values to down\n",
    "    - ie, 4.1→4 , 4.6→4\n",
    "- Fix: first round them to nearest whole number\n",
    "- df['Numbers'].round(0).astype(int)\n",
    "    - round 0 turns 4.1→4, 4.2→4 , 4.6→5\n",
    "\n",
    "**or**\n",
    "\n",
    "- pd.to_numeric(df['Numbers']) \n",
    "    - gives float ⇒ Downcast to int(but downcast only work if .0 )\n",
    "    - So,to get integers\n",
    "        1.convert all float values to .0\n",
    "        2.Downcast to Integer\n",
    "``` ie,pd.to_numeric(df['Numbers'].round(0),downcast='Integer') ```"
   ]
  },
  {
   "cell_type": "code",
   "execution_count": 10,
   "id": "64a450a6",
   "metadata": {},
   "outputs": [
    {
     "data": {
      "text/html": [
       "<div>\n",
       "<style scoped>\n",
       "    .dataframe tbody tr th:only-of-type {\n",
       "        vertical-align: middle;\n",
       "    }\n",
       "\n",
       "    .dataframe tbody tr th {\n",
       "        vertical-align: top;\n",
       "    }\n",
       "\n",
       "    .dataframe thead th {\n",
       "        text-align: right;\n",
       "    }\n",
       "</style>\n",
       "<table border=\"1\" class=\"dataframe\">\n",
       "  <thead>\n",
       "    <tr style=\"text-align: right;\">\n",
       "      <th></th>\n",
       "      <th>Numbers</th>\n",
       "    </tr>\n",
       "  </thead>\n",
       "  <tbody>\n",
       "    <tr>\n",
       "      <th>0</th>\n",
       "      <td>1</td>\n",
       "    </tr>\n",
       "    <tr>\n",
       "      <th>1</th>\n",
       "      <td>2</td>\n",
       "    </tr>\n",
       "    <tr>\n",
       "      <th>2</th>\n",
       "      <td>3</td>\n",
       "    </tr>\n",
       "    <tr>\n",
       "      <th>3</th>\n",
       "      <td>4</td>\n",
       "    </tr>\n",
       "    <tr>\n",
       "      <th>4</th>\n",
       "      <td>5</td>\n",
       "    </tr>\n",
       "  </tbody>\n",
       "</table>\n",
       "</div>"
      ],
      "text/plain": [
       "   Numbers\n",
       "0        1\n",
       "1        2\n",
       "2        3\n",
       "3        4\n",
       "4        5"
      ]
     },
     "execution_count": 10,
     "metadata": {},
     "output_type": "execute_result"
    }
   ],
   "source": [
    "df"
   ]
  },
  {
   "cell_type": "markdown",
   "id": "3db592f7",
   "metadata": {},
   "source": [
    "### Use case 3: Strings + Ints"
   ]
  },
  {
   "cell_type": "code",
   "execution_count": 11,
   "id": "5edb8119",
   "metadata": {},
   "outputs": [],
   "source": [
    "# Column mixed with Strings and Ints\n",
    "l=[1,2,3,'Sahil'] # String + Numbers gets converted to object\n",
    "df=pd.DataFrame(l,columns =['Numbers'])"
   ]
  },
  {
   "cell_type": "code",
   "execution_count": 12,
   "id": "7980e1a2",
   "metadata": {},
   "outputs": [
    {
     "data": {
      "text/html": [
       "<div>\n",
       "<style scoped>\n",
       "    .dataframe tbody tr th:only-of-type {\n",
       "        vertical-align: middle;\n",
       "    }\n",
       "\n",
       "    .dataframe tbody tr th {\n",
       "        vertical-align: top;\n",
       "    }\n",
       "\n",
       "    .dataframe thead th {\n",
       "        text-align: right;\n",
       "    }\n",
       "</style>\n",
       "<table border=\"1\" class=\"dataframe\">\n",
       "  <thead>\n",
       "    <tr style=\"text-align: right;\">\n",
       "      <th></th>\n",
       "      <th>Numbers</th>\n",
       "    </tr>\n",
       "  </thead>\n",
       "  <tbody>\n",
       "    <tr>\n",
       "      <th>0</th>\n",
       "      <td>1</td>\n",
       "    </tr>\n",
       "    <tr>\n",
       "      <th>1</th>\n",
       "      <td>2</td>\n",
       "    </tr>\n",
       "    <tr>\n",
       "      <th>2</th>\n",
       "      <td>3</td>\n",
       "    </tr>\n",
       "    <tr>\n",
       "      <th>3</th>\n",
       "      <td>Sahil</td>\n",
       "    </tr>\n",
       "  </tbody>\n",
       "</table>\n",
       "</div>"
      ],
      "text/plain": [
       "  Numbers\n",
       "0       1\n",
       "1       2\n",
       "2       3\n",
       "3   Sahil"
      ]
     },
     "execution_count": 12,
     "metadata": {},
     "output_type": "execute_result"
    }
   ],
   "source": [
    "df"
   ]
  },
  {
   "cell_type": "code",
   "execution_count": 13,
   "id": "d24670bf",
   "metadata": {},
   "outputs": [
    {
     "data": {
      "text/plain": [
       "dtype('O')"
      ]
     },
     "execution_count": 13,
     "metadata": {},
     "output_type": "execute_result"
    }
   ],
   "source": [
    "df.Numbers.dtype"
   ]
  },
  {
   "cell_type": "code",
   "execution_count": 34,
   "id": "06f6911f",
   "metadata": {},
   "outputs": [],
   "source": [
    "df['Numbers']=pd.to_numeric(df['Numbers'],errors='coerce')\n",
    "# This errors=coerce converts strings to Nans and keeps the entire row\n",
    "# But Nan's are floats so our entire column is float now\n",
    "\n",
    "# This errors=ignore ignores the rows which contains NaNs"
   ]
  },
  {
   "cell_type": "code",
   "execution_count": 15,
   "id": "094131d3",
   "metadata": {},
   "outputs": [
    {
     "data": {
      "text/html": [
       "<div>\n",
       "<style scoped>\n",
       "    .dataframe tbody tr th:only-of-type {\n",
       "        vertical-align: middle;\n",
       "    }\n",
       "\n",
       "    .dataframe tbody tr th {\n",
       "        vertical-align: top;\n",
       "    }\n",
       "\n",
       "    .dataframe thead th {\n",
       "        text-align: right;\n",
       "    }\n",
       "</style>\n",
       "<table border=\"1\" class=\"dataframe\">\n",
       "  <thead>\n",
       "    <tr style=\"text-align: right;\">\n",
       "      <th></th>\n",
       "      <th>Numbers</th>\n",
       "    </tr>\n",
       "  </thead>\n",
       "  <tbody>\n",
       "    <tr>\n",
       "      <th>0</th>\n",
       "      <td>1.0</td>\n",
       "    </tr>\n",
       "    <tr>\n",
       "      <th>1</th>\n",
       "      <td>2.0</td>\n",
       "    </tr>\n",
       "    <tr>\n",
       "      <th>2</th>\n",
       "      <td>3.0</td>\n",
       "    </tr>\n",
       "    <tr>\n",
       "      <th>3</th>\n",
       "      <td>NaN</td>\n",
       "    </tr>\n",
       "  </tbody>\n",
       "</table>\n",
       "</div>"
      ],
      "text/plain": [
       "   Numbers\n",
       "0      1.0\n",
       "1      2.0\n",
       "2      3.0\n",
       "3      NaN"
      ]
     },
     "execution_count": 15,
     "metadata": {},
     "output_type": "execute_result"
    }
   ],
   "source": [
    "df"
   ]
  },
  {
   "cell_type": "code",
   "execution_count": 16,
   "id": "a9f74036",
   "metadata": {},
   "outputs": [],
   "source": [
    "df['Numbers']=df['Numbers'].astype('Int64') \n",
    "# It changes numpy's Nan's to pandas <Na> which are ints"
   ]
  },
  {
   "cell_type": "code",
   "execution_count": 17,
   "id": "5b202505",
   "metadata": {},
   "outputs": [
    {
     "data": {
      "text/html": [
       "<div>\n",
       "<style scoped>\n",
       "    .dataframe tbody tr th:only-of-type {\n",
       "        vertical-align: middle;\n",
       "    }\n",
       "\n",
       "    .dataframe tbody tr th {\n",
       "        vertical-align: top;\n",
       "    }\n",
       "\n",
       "    .dataframe thead th {\n",
       "        text-align: right;\n",
       "    }\n",
       "</style>\n",
       "<table border=\"1\" class=\"dataframe\">\n",
       "  <thead>\n",
       "    <tr style=\"text-align: right;\">\n",
       "      <th></th>\n",
       "      <th>Numbers</th>\n",
       "    </tr>\n",
       "  </thead>\n",
       "  <tbody>\n",
       "    <tr>\n",
       "      <th>0</th>\n",
       "      <td>1</td>\n",
       "    </tr>\n",
       "    <tr>\n",
       "      <th>1</th>\n",
       "      <td>2</td>\n",
       "    </tr>\n",
       "    <tr>\n",
       "      <th>2</th>\n",
       "      <td>3</td>\n",
       "    </tr>\n",
       "    <tr>\n",
       "      <th>3</th>\n",
       "      <td>&lt;NA&gt;</td>\n",
       "    </tr>\n",
       "  </tbody>\n",
       "</table>\n",
       "</div>"
      ],
      "text/plain": [
       "   Numbers\n",
       "0        1\n",
       "1        2\n",
       "2        3\n",
       "3     <NA>"
      ]
     },
     "execution_count": 17,
     "metadata": {},
     "output_type": "execute_result"
    }
   ],
   "source": [
    "df"
   ]
  },
  {
   "cell_type": "markdown",
   "id": "0b0c011e",
   "metadata": {},
   "source": [
    "### Use case 4: Ints + Nans"
   ]
  },
  {
   "cell_type": "code",
   "execution_count": 18,
   "id": "f4443ac5",
   "metadata": {},
   "outputs": [],
   "source": [
    "import pandas as pd\n",
    "import numpy as np\n",
    "l=[1,2,3,np.nan] # even if 1 Nan⇒ nan is considered as float in pandas⇒ entire col gets converted to float\n",
    "df=pd.DataFrame(l,columns =['Numbers'])"
   ]
  },
  {
   "cell_type": "code",
   "execution_count": 19,
   "id": "b0497285",
   "metadata": {},
   "outputs": [
    {
     "data": {
      "text/html": [
       "<div>\n",
       "<style scoped>\n",
       "    .dataframe tbody tr th:only-of-type {\n",
       "        vertical-align: middle;\n",
       "    }\n",
       "\n",
       "    .dataframe tbody tr th {\n",
       "        vertical-align: top;\n",
       "    }\n",
       "\n",
       "    .dataframe thead th {\n",
       "        text-align: right;\n",
       "    }\n",
       "</style>\n",
       "<table border=\"1\" class=\"dataframe\">\n",
       "  <thead>\n",
       "    <tr style=\"text-align: right;\">\n",
       "      <th></th>\n",
       "      <th>Numbers</th>\n",
       "    </tr>\n",
       "  </thead>\n",
       "  <tbody>\n",
       "    <tr>\n",
       "      <th>0</th>\n",
       "      <td>1.0</td>\n",
       "    </tr>\n",
       "    <tr>\n",
       "      <th>1</th>\n",
       "      <td>2.0</td>\n",
       "    </tr>\n",
       "    <tr>\n",
       "      <th>2</th>\n",
       "      <td>3.0</td>\n",
       "    </tr>\n",
       "    <tr>\n",
       "      <th>3</th>\n",
       "      <td>NaN</td>\n",
       "    </tr>\n",
       "  </tbody>\n",
       "</table>\n",
       "</div>"
      ],
      "text/plain": [
       "   Numbers\n",
       "0      1.0\n",
       "1      2.0\n",
       "2      3.0\n",
       "3      NaN"
      ]
     },
     "execution_count": 19,
     "metadata": {},
     "output_type": "execute_result"
    }
   ],
   "source": [
    "df"
   ]
  },
  {
   "cell_type": "code",
   "execution_count": 20,
   "id": "ff14fef6",
   "metadata": {},
   "outputs": [
    {
     "data": {
      "text/plain": [
       "dtype('float64')"
      ]
     },
     "execution_count": 20,
     "metadata": {},
     "output_type": "execute_result"
    }
   ],
   "source": [
    "df.Numbers.dtype"
   ]
  },
  {
   "cell_type": "code",
   "execution_count": 21,
   "id": "a032e0ba",
   "metadata": {},
   "outputs": [],
   "source": [
    "# Now do the same manipulation as above"
   ]
  },
  {
   "cell_type": "markdown",
   "id": "4dd5e622",
   "metadata": {},
   "source": [
    "### Use case 5 : Strings (currencies)"
   ]
  },
  {
   "cell_type": "code",
   "execution_count": 22,
   "id": "ad7b030d",
   "metadata": {},
   "outputs": [],
   "source": [
    "import pandas as pd\n",
    "import numpy as np\n",
    "l=['₹1,5000.00','₹2,500.00','₹3,2000.00'] \n",
    "df1=pd.DataFrame(l,columns =['Numbers'])"
   ]
  },
  {
   "cell_type": "code",
   "execution_count": 23,
   "id": "b81ba437",
   "metadata": {},
   "outputs": [
    {
     "data": {
      "text/html": [
       "<div>\n",
       "<style scoped>\n",
       "    .dataframe tbody tr th:only-of-type {\n",
       "        vertical-align: middle;\n",
       "    }\n",
       "\n",
       "    .dataframe tbody tr th {\n",
       "        vertical-align: top;\n",
       "    }\n",
       "\n",
       "    .dataframe thead th {\n",
       "        text-align: right;\n",
       "    }\n",
       "</style>\n",
       "<table border=\"1\" class=\"dataframe\">\n",
       "  <thead>\n",
       "    <tr style=\"text-align: right;\">\n",
       "      <th></th>\n",
       "      <th>Numbers</th>\n",
       "    </tr>\n",
       "  </thead>\n",
       "  <tbody>\n",
       "    <tr>\n",
       "      <th>0</th>\n",
       "      <td>₹1,5000.00</td>\n",
       "    </tr>\n",
       "    <tr>\n",
       "      <th>1</th>\n",
       "      <td>₹2,500.00</td>\n",
       "    </tr>\n",
       "    <tr>\n",
       "      <th>2</th>\n",
       "      <td>₹3,2000.00</td>\n",
       "    </tr>\n",
       "  </tbody>\n",
       "</table>\n",
       "</div>"
      ],
      "text/plain": [
       "      Numbers\n",
       "0  ₹1,5000.00\n",
       "1   ₹2,500.00\n",
       "2  ₹3,2000.00"
      ]
     },
     "execution_count": 23,
     "metadata": {},
     "output_type": "execute_result"
    }
   ],
   "source": [
    "df1"
   ]
  },
  {
   "cell_type": "code",
   "execution_count": 24,
   "id": "e84fa574",
   "metadata": {},
   "outputs": [
    {
     "data": {
      "text/plain": [
       "dtype('O')"
      ]
     },
     "execution_count": 24,
     "metadata": {},
     "output_type": "execute_result"
    }
   ],
   "source": [
    "df1.Numbers.dtype"
   ]
  },
  {
   "cell_type": "code",
   "execution_count": 29,
   "id": "8bb32e9e",
   "metadata": {},
   "outputs": [],
   "source": [
    "df1['Numbers']=df1['Numbers'].str.replace('₹','').str.replace(',','').astype(float)"
   ]
  },
  {
   "cell_type": "code",
   "execution_count": 30,
   "id": "4227eb28",
   "metadata": {},
   "outputs": [
    {
     "data": {
      "text/html": [
       "<div>\n",
       "<style scoped>\n",
       "    .dataframe tbody tr th:only-of-type {\n",
       "        vertical-align: middle;\n",
       "    }\n",
       "\n",
       "    .dataframe tbody tr th {\n",
       "        vertical-align: top;\n",
       "    }\n",
       "\n",
       "    .dataframe thead th {\n",
       "        text-align: right;\n",
       "    }\n",
       "</style>\n",
       "<table border=\"1\" class=\"dataframe\">\n",
       "  <thead>\n",
       "    <tr style=\"text-align: right;\">\n",
       "      <th></th>\n",
       "      <th>Numbers</th>\n",
       "    </tr>\n",
       "  </thead>\n",
       "  <tbody>\n",
       "    <tr>\n",
       "      <th>0</th>\n",
       "      <td>15000.0</td>\n",
       "    </tr>\n",
       "    <tr>\n",
       "      <th>1</th>\n",
       "      <td>2500.0</td>\n",
       "    </tr>\n",
       "    <tr>\n",
       "      <th>2</th>\n",
       "      <td>32000.0</td>\n",
       "    </tr>\n",
       "  </tbody>\n",
       "</table>\n",
       "</div>"
      ],
      "text/plain": [
       "   Numbers\n",
       "0  15000.0\n",
       "1   2500.0\n",
       "2  32000.0"
      ]
     },
     "execution_count": 30,
     "metadata": {},
     "output_type": "execute_result"
    }
   ],
   "source": [
    "df1"
   ]
  },
  {
   "cell_type": "code",
   "execution_count": 31,
   "id": "33c65fb2",
   "metadata": {},
   "outputs": [
    {
     "data": {
      "text/plain": [
       "Numbers    float64\n",
       "dtype: object"
      ]
     },
     "execution_count": 31,
     "metadata": {},
     "output_type": "execute_result"
    }
   ],
   "source": [
    "df1.dtypes"
   ]
  },
  {
   "cell_type": "code",
   "execution_count": 32,
   "id": "be747df4",
   "metadata": {},
   "outputs": [],
   "source": [
    "df1['Numbers']=df1['Numbers'].astype(int)"
   ]
  },
  {
   "cell_type": "code",
   "execution_count": 33,
   "id": "a7c9b220",
   "metadata": {},
   "outputs": [
    {
     "data": {
      "text/html": [
       "<div>\n",
       "<style scoped>\n",
       "    .dataframe tbody tr th:only-of-type {\n",
       "        vertical-align: middle;\n",
       "    }\n",
       "\n",
       "    .dataframe tbody tr th {\n",
       "        vertical-align: top;\n",
       "    }\n",
       "\n",
       "    .dataframe thead th {\n",
       "        text-align: right;\n",
       "    }\n",
       "</style>\n",
       "<table border=\"1\" class=\"dataframe\">\n",
       "  <thead>\n",
       "    <tr style=\"text-align: right;\">\n",
       "      <th></th>\n",
       "      <th>Numbers</th>\n",
       "    </tr>\n",
       "  </thead>\n",
       "  <tbody>\n",
       "    <tr>\n",
       "      <th>0</th>\n",
       "      <td>15000</td>\n",
       "    </tr>\n",
       "    <tr>\n",
       "      <th>1</th>\n",
       "      <td>2500</td>\n",
       "    </tr>\n",
       "    <tr>\n",
       "      <th>2</th>\n",
       "      <td>32000</td>\n",
       "    </tr>\n",
       "  </tbody>\n",
       "</table>\n",
       "</div>"
      ],
      "text/plain": [
       "   Numbers\n",
       "0    15000\n",
       "1     2500\n",
       "2    32000"
      ]
     },
     "execution_count": 33,
     "metadata": {},
     "output_type": "execute_result"
    }
   ],
   "source": [
    "df1"
   ]
  }
 ],
 "metadata": {
  "kernelspec": {
   "display_name": "Python 3",
   "language": "python",
   "name": "python3"
  },
  "language_info": {
   "codemirror_mode": {
    "name": "ipython",
    "version": 3
   },
   "file_extension": ".py",
   "mimetype": "text/x-python",
   "name": "python",
   "nbconvert_exporter": "python",
   "pygments_lexer": "ipython3",
   "version": "3.8.8"
  }
 },
 "nbformat": 4,
 "nbformat_minor": 5
}
