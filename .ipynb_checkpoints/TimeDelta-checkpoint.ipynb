{
 "cells": [
  {
   "cell_type": "markdown",
   "id": "92f5ec54",
   "metadata": {},
   "source": [
    "## TimeDeltas"
   ]
  },
  {
   "cell_type": "markdown",
   "id": "1366ab07",
   "metadata": {},
   "source": [
    "### Add to dates to get future dates"
   ]
  },
  {
   "cell_type": "markdown",
   "id": "2a5322b8",
   "metadata": {},
   "source": [
    "- date+date = timeedelta\n",
    "- date+timedelta=date"
   ]
  },
  {
   "cell_type": "code",
   "execution_count": 5,
   "id": "da992f09",
   "metadata": {},
   "outputs": [],
   "source": [
    "import datetime\n",
    "seven_days=datetime.timedelta(days=7) # 7 dats after date\n",
    "date=datetime.date(2021,7,24) "
   ]
  },
  {
   "cell_type": "code",
   "execution_count": 7,
   "id": "52e9507f",
   "metadata": {},
   "outputs": [],
   "source": [
    "# date(date)+7day(timedelta)\n",
    "a=date+seven_days"
   ]
  },
  {
   "cell_type": "code",
   "execution_count": 8,
   "id": "48049e05",
   "metadata": {},
   "outputs": [
    {
     "data": {
      "text/plain": [
       "datetime.date(2021, 7, 31)"
      ]
     },
     "execution_count": 8,
     "metadata": {},
     "output_type": "execute_result"
    }
   ],
   "source": [
    "a"
   ]
  },
  {
   "cell_type": "code",
   "execution_count": 9,
   "id": "9cae753b",
   "metadata": {},
   "outputs": [
    {
     "name": "stdout",
     "output_type": "stream",
     "text": [
      "2021-07-31\n"
     ]
    }
   ],
   "source": [
    "print(a)"
   ]
  }
 ],
 "metadata": {
  "kernelspec": {
   "display_name": "Python 3",
   "language": "python",
   "name": "python3"
  },
  "language_info": {
   "codemirror_mode": {
    "name": "ipython",
    "version": 3
   },
   "file_extension": ".py",
   "mimetype": "text/x-python",
   "name": "python",
   "nbconvert_exporter": "python",
   "pygments_lexer": "ipython3",
   "version": "3.8.8"
  }
 },
 "nbformat": 4,
 "nbformat_minor": 5
}
