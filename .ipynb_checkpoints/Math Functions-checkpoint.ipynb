{
 "cells": [
  {
   "cell_type": "markdown",
   "id": "a487d768",
   "metadata": {},
   "source": [
    "## Maths Functions"
   ]
  },
  {
   "cell_type": "markdown",
   "id": "85ee2b83",
   "metadata": {},
   "source": [
    "- classic division\n",
    "\n",
    "- // floor division\n",
    "    - rounded off to smallest number\n",
    "    - 3//2=1\n",
    "- % modulo division\n",
    "    - gives remainder\n",
    "    - 3%2=1\n",
    "- abs\n",
    "    - absolute value\n",
    "- ** \n",
    "    - power\n",
    "- round(3.58,1) ==> 3.6"
   ]
  }
 ],
 "metadata": {
  "kernelspec": {
   "display_name": "Python 3",
   "language": "python",
   "name": "python3"
  },
  "language_info": {
   "codemirror_mode": {
    "name": "ipython",
    "version": 3
   },
   "file_extension": ".py",
   "mimetype": "text/x-python",
   "name": "python",
   "nbconvert_exporter": "python",
   "pygments_lexer": "ipython3",
   "version": "3.8.8"
  }
 },
 "nbformat": 4,
 "nbformat_minor": 5
}
