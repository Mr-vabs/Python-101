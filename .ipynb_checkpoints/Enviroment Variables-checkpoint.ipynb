{
 "cells": [
  {
   "cell_type": "markdown",
   "id": "d22ee1b7",
   "metadata": {},
   "source": [
    "## Enviroment Variables"
   ]
  },
  {
   "cell_type": "markdown",
   "id": "5fa3c60f",
   "metadata": {},
   "source": [
    "- Passwords,API Keys should not be placed in code\n",
    "- It should be saved in enviroment variables\n",
    "- Replace original passwords by variables and in enviroment variables,set the value of this variable"
   ]
  },
  {
   "cell_type": "code",
   "execution_count": 1,
   "id": "bc61d250",
   "metadata": {},
   "outputs": [],
   "source": [
    "db_user='secret_user'\n",
    "db_password='secret_password'"
   ]
  },
  {
   "cell_type": "markdown",
   "id": "e51946c7",
   "metadata": {},
   "source": [
    "### Setting Enviroment variables"
   ]
  },
  {
   "cell_type": "markdown",
   "id": "ec00c9c4",
   "metadata": {},
   "source": [
    "- Open Control panel>System and Security>System>Advanced system settings>Enviroment variables\n",
    "- In user variables>Create new {variable name:variable value}\n",
    "    - {secret_user:sahil}\n",
    "    - {secret_password:pass}\n",
    "- Restart IDE"
   ]
  },
  {
   "cell_type": "markdown",
   "id": "0eb7d83f",
   "metadata": {},
   "source": [
    "### Accessing the Enviroment variables"
   ]
  },
  {
   "cell_type": "markdown",
   "id": "0e88857c",
   "metadata": {},
   "source": [
    "- To access env variables,use os module\n",
    "- db_user=os.environ.get('secret_user')\n",
    "- db_password=os.environ.get('secret_pass')\n",
    "    I"
   ]
  }
 ],
 "metadata": {
  "kernelspec": {
   "display_name": "Python 3",
   "language": "python",
   "name": "python3"
  },
  "language_info": {
   "codemirror_mode": {
    "name": "ipython",
    "version": 3
   },
   "file_extension": ".py",
   "mimetype": "text/x-python",
   "name": "python",
   "nbconvert_exporter": "python",
   "pygments_lexer": "ipython3",
   "version": "3.8.8"
  }
 },
 "nbformat": 4,
 "nbformat_minor": 5
}
